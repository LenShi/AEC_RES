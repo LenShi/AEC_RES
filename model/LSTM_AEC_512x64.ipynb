{
 "cells": [
  {
   "cell_type": "code",
   "execution_count": 174,
   "metadata": {},
   "outputs": [],
   "source": [
    "import torch\n",
    "from torch.utils.data import Dataset, DataLoader\n",
    "import numpy as np\n",
    "import torch.nn as nn\n",
    "import librosa\n",
    "import librosa.display\n",
    "from torch.utils.data import sampler\n",
    "import torch.optim as optim\n",
    "import json\n",
    "import matplotlib.pyplot as plt\n",
    "import scipy.io.wavfile as wav\n",
    "from torchinfo import summary\n",
    "from datetime import datetime"
   ]
  },
  {
   "cell_type": "code",
   "execution_count": 175,
   "metadata": {},
   "outputs": [],
   "source": [
    "class ICASSPDatasetHelper():\n",
    "    #initialization \n",
    "    def __init__(self):\n",
    "        self.sample_rate=8000\n",
    "        fft_len=40\n",
    "        hop_len=10\n",
    "        self.dir= \"./icassp_LUT_512x64.json\"\n",
    "        openfile=open(self.dir, \"r\")\n",
    "        self.dataset_dict= json.load(openfile)\n",
    "        indx=1\n",
    "        self.keys={}\n",
    "        for key  in self.dataset_dict.keys():\n",
    "            self.keys[indx]=key\n",
    "            indx+=1\n",
    "\n",
    "        self.num_files_per_category=len(self.dataset_dict[\"echo_signal\"].keys())\n",
    "\n",
    "    #get the indexed file and sample rate\n",
    "    def get_indxd_file(self,indx,src):\n",
    "        category=self.keys[src]\n",
    "        #load magnitude spectrum\n",
    "        data=abs(np.load(self.dataset_dict[category][str(indx)]))\n",
    "        Id= self.dataset_dict[category][str(indx)].split(\"/\")[-1].split('.')[0]\n",
    "        return (data,Id)\n",
    "\n",
    "    #get the indexed file and sample rate\n",
    "    def get_indxd_filestft(self,indx,src):\n",
    "        category=self.keys[src]\n",
    "        #load magnitude spectrum\n",
    "        data=np.load(self.dataset_dict[category][str(indx)])\n",
    "        Id= self.dataset_dict[category][str(indx)].split(\"/\")[-1].split('.')[0]\n",
    "        return (data,Id)"
   ]
  },
  {
   "cell_type": "code",
   "execution_count": 176,
   "metadata": {},
   "outputs": [],
   "source": [
    "class ICASSP(Dataset):\n",
    "    def __init__(self):\n",
    "        #super().__init__(self)\n",
    "        self.daps= ICASSPDatasetHelper()\n",
    "\n",
    "    def __getitem__(self, index):\n",
    "        mic,id=self.daps.get_indxd_file(index,2)\n",
    "        fend,id=self.daps.get_indxd_file(index,3)\n",
    "        nend,id=self.daps.get_indxd_file(index,4)\n",
    "        return (mic,fend,nend)\n",
    "\n",
    "    def __len__(self):\n",
    "        \n",
    "        #print (self.daps.num_files_per_category)\n",
    "        return self.daps.num_files_per_category"
   ]
  },
  {
   "cell_type": "code",
   "execution_count": 177,
   "metadata": {},
   "outputs": [
    {
     "name": "stdout",
     "output_type": "stream",
     "text": [
      "40000\n",
      "{1: 'echo_signal', 2: 'nearend_mic_signal', 3: 'farend_speech', 4: 'nearend_speech'}\n"
     ]
    }
   ],
   "source": [
    "dataset_train = ICASSP()\n",
    "print(dataset_train.__len__())\n",
    "print(dataset_train.daps.keys)"
   ]
  },
  {
   "cell_type": "code",
   "execution_count": 178,
   "metadata": {},
   "outputs": [
    {
     "name": "stdout",
     "output_type": "stream",
     "text": [
      "cuda\n"
     ]
    }
   ],
   "source": [
    "dtype = torch.float32 # we will be using float throughout this tutorial\n",
    "USE_GPU = True\n",
    "if USE_GPU and torch.cuda.is_available():\n",
    "    device = torch.device('cuda')\n",
    "else:\n",
    "    device = torch.device('cpu')\n",
    "\n",
    "print(device)"
   ]
  },
  {
   "cell_type": "code",
   "execution_count": 179,
   "metadata": {},
   "outputs": [],
   "source": [
    "def flatten(x):\n",
    "    N = x.shape[0] # read in N, C, H, W\n",
    "    return x.view(N, -1)  # \"flatten\" the C * H * W values into a single vector per image"
   ]
  },
  {
   "cell_type": "code",
   "execution_count": 180,
   "metadata": {},
   "outputs": [],
   "source": [
    "NUM_TRAIN=10000\n",
    "NUM_VAL=2000\n",
    "NUM_TEST=1000\n",
    "print_every = 100\n",
    "dataset_train = ICASSP()\n",
    "batch_size=4\n",
    "loader_train = DataLoader(dataset_train, batch_size=batch_size, num_workers=8,\n",
    "                          sampler=sampler.SequentialSampler(range(NUM_TRAIN)))\n",
    "loader_val= DataLoader(dataset_train, batch_size=batch_size, num_workers=8,\n",
    "                          sampler=sampler.SequentialSampler(range(NUM_TRAIN,NUM_VAL+NUM_TRAIN)))\n",
    "loader_test = DataLoader(dataset_train, batch_size=batch_size, num_workers=8,\n",
    "                          sampler=sampler.SequentialSampler(range(NUM_VAL+NUM_TRAIN, NUM_VAL+NUM_TRAIN+NUM_TEST)))\n",
    "\n",
    "helper= ICASSPDatasetHelper()\n"
   ]
  },
  {
   "cell_type": "code",
   "execution_count": 181,
   "metadata": {},
   "outputs": [
    {
     "name": "stdout",
     "output_type": "stream",
     "text": [
      "{1: 'echo_signal', 2: 'nearend_mic_signal', 3: 'farend_speech', 4: 'nearend_speech'}\n"
     ]
    }
   ],
   "source": [
    "print(dataset_train.daps.keys)"
   ]
  },
  {
   "cell_type": "code",
   "execution_count": 182,
   "metadata": {},
   "outputs": [
    {
     "name": "stderr",
     "output_type": "stream",
     "text": [
      "Exception ignored in: <function _MultiProcessingDataLoaderIter.__del__ at 0x7fb73a7c8ca0>\n",
      "Traceback (most recent call last):\n",
      "  File \"/home/prasad/anaconda3/envs/aec/lib/python3.9/site-packages/torch/utils/data/dataloader.py\", line 1358, in __del__\n",
      "    self._shutdown_workers()\n",
      "  File \"/home/prasad/anaconda3/envs/aec/lib/python3.9/site-packages/torch/utils/data/dataloader.py\", line 1322, in _shutdown_workers\n",
      "    w.join(timeout=_utils.MP_STATUS_CHECK_INTERVAL)\n",
      "  File \"/home/prasad/anaconda3/envs/aec/lib/python3.9/multiprocessing/process.py\", line 149, in join\n",
      "    res = self._popen.wait(timeout)\n",
      "  File \"/home/prasad/anaconda3/envs/aec/lib/python3.9/multiprocessing/popen_fork.py\", line 40, in wait\n",
      "    if not wait([self.sentinel], timeout):\n",
      "  File \"/home/prasad/anaconda3/envs/aec/lib/python3.9/multiprocessing/connection.py\", line 936, in wait\n",
      "    ready = selector.select(timeout)\n",
      "  File \"/home/prasad/anaconda3/envs/aec/lib/python3.9/selectors.py\", line 416, in select\n",
      "    fd_event_list = self._selector.poll(timeout)\n",
      "KeyboardInterrupt: \n"
     ]
    }
   ],
   "source": [
    "#Create Model classes\n",
    "# create a class for linear layers \n",
    "class DenseLayer(nn.Module):\n",
    "    def __init__(self,input_size,output_size,dropOut_p):\n",
    "        super().__init__()\n",
    "        self.dense=nn.Linear(input_size,output_size,bias=True)\n",
    "        self.activation=nn.Tanh()\n",
    "        self.dropOut=nn.Dropout(p=dropOut_p,inplace=False)\n",
    "    \n",
    "    def forward(self,x):\n",
    "        y=self.dense(x)\n",
    "        y=self.activation(y)\n",
    "        y=self.dropOut(y)\n",
    "        return y\n",
    "\n",
    "#class for convolutional layers\n",
    "class ConvLayer(nn.Module):\n",
    "    def __init__(self,in_ch,out_ch,kernel_size,stride,padding,dropOut_p):\n",
    "        super().__init__()\n",
    "        self.conv=nn.Conv2d(in_ch,out_ch,kernel_size, stride=stride,padding=padding)\n",
    "        self.activation=nn.ReLU()\n",
    "        self.dropOut=nn.Dropout2d(p=dropOut_p,inplace=False)\n",
    "    \n",
    "    def forward(self,x):\n",
    "        y=self.conv(x)\n",
    "        y=self.activation(y)\n",
    "        y=self.dropOut(y)\n",
    "\n",
    "        return y\n",
    "\n",
    "#RNN model for Residual echo suppression\n",
    "class LSTMNet(nn.Module):\n",
    "    def __init__(self, input_dim, hidden_dim, fclayer_dim, output_dim, num_layers,dropout_prob):\n",
    "        super().__init__()\n",
    "        # Defining the number of layers and the nodes in each layer\n",
    "        self.layer_dim=num_layers\n",
    "        self.hidden_dim=hidden_dim\n",
    "        self.rnn = nn.LSTM(\n",
    "            fclayer_dim, hidden_dim, num_layers, batch_first=True\n",
    "        )\n",
    "        self.tanh=nn.Tanh()\n",
    "        self.fc1= nn.Linear(input_dim,fclayer_dim)\n",
    "        self.fc2= nn.Linear(hidden_dim,output_dim)\n",
    "        self.sig=nn.Sigmoid()\n",
    "\n",
    "\n",
    "    def forward(self, x):\n",
    "        \n",
    "        y= self.fc1(x)\n",
    "\n",
    "        y= self.tanh(y)\n",
    "        # Initializing hidden state for first input with zeros\n",
    "        h0 = torch.zeros(self.layer_dim, y.size(0), self.hidden_dim).requires_grad_()\n",
    "\n",
    "        # Forward propagation by passing in the input and hidden state into the model\n",
    "        out, h0 = self.rnn(y)\n",
    "\n",
    "        # Reshaping the outputs in the shape of (batch_size, seq_length, hidden_size)\n",
    "        # so that it can fit into the fully connected layer\n",
    "        #out = out[:, -1, :]\n",
    "        out=self.tanh(out)\n",
    "        # Convert the final state to our desired output shape (batch_size, output_dim)\n",
    "        out = self.fc2(out)\n",
    "        out = self.sig(out)\n",
    "        return out"
   ]
  },
  {
   "cell_type": "code",
   "execution_count": null,
   "metadata": {},
   "outputs": [],
   "source": [
    "#SNR loss where yhat is average power spectrum of de-nonlinearised/denoised signal/ clean signal power \n",
    "def Loss_MSE(yhat,y,lossfn):\n",
    "    target = torch.ones(1).to(device=device)\n",
    "    #yhat=yhat.squeeze(0)\n",
    "    #y=y.squeeze(0)\n",
    "    #loss=lossfn(yhat,y,target)\n",
    "    loss=lossfn(yhat,y)\n",
    "    return loss"
   ]
  },
  {
   "cell_type": "code",
   "execution_count": null,
   "metadata": {},
   "outputs": [],
   "source": [
    "def check_accuracy(loader, model,lossfn):\n",
    "    print('Checking accuracy on validation set')\n",
    "    model.eval()  # set model to evaluation mode\n",
    "    mse=0\n",
    "    with torch.no_grad():\n",
    "        for mic, fend, nend in loader:\n",
    "\n",
    "            x=torch.concat((mic,fend),1)\n",
    "            #print(x.shape)          \n",
    "            #iterate over each stft frame \n",
    "            x=x.to(device=device, dtype=dtype)\n",
    "            mic=mic.to(device=device, dtype=dtype)\n",
    "            nend=nend.to(device=device, dtype=dtype)\n",
    "            x=torch.permute(x, (0, 2, 1))\n",
    "            y=torch.permute(nend, (0, 2, 1))\n",
    "            mic=torch.permute(mic, (0, 2, 1))\n",
    "            pw_x=x*x\n",
    "            # Forward pass: compute scores and loss\n",
    "            mask = model(pw_x)\n",
    "\n",
    "            yhat= mask*mic\n",
    "            #yhat=yhat[:,:,:,-1]\n",
    "            #y=y[:,:,:,-1]\n",
    "            mse+= Loss_MSE(y,yhat,lossfn)\n",
    "        mse = mse / len(loader)\n",
    "        print(\"Validation loss is\", mse.cpu().numpy())\n",
    "        return  mse.cpu().numpy()"
   ]
  },
  {
   "cell_type": "code",
   "execution_count": null,
   "metadata": {},
   "outputs": [],
   "source": [
    "print_every=2000\n",
    "save_every=2000\n",
    "lossfn=nn.SmoothL1Loss()\n",
    "def train_model(model, optimizer, scheduler ,epochs=1):\n",
    "    \"\"\"\n",
    "    Train a model on DAPS.\n",
    "    \n",
    "    Inputs:\n",
    "    - model_fn: A Python function that performs the forward pass of the model.\n",
    "      It should have the signature scores = model_fn(x, params) where x is a\n",
    "      PyTorch Tensor of image data, params is a list of PyTorch Tensors giving\n",
    "      model weights, and scores is a PyTorch Tensor of shape (N, C) giving\n",
    "      scores for the elements in x.\n",
    "    - params: List of PyTorch Tensors giving weights for the model\n",
    "    - learning_rate: Python scalar giving the learning rate to use for SGD\n",
    "    \n",
    "    Returns: val loss and train loss\n",
    "    \"\"\"\n",
    "    val_loss=[]\n",
    "    train_loss=[]\n",
    "    #lossfn=nn.CosineEmbeddingLoss(margin=0,reduction=\"mean\")\n",
    "    model = model.to(device=device)  # move the model parameters to CPU/GPU\n",
    "    for e in range(epochs):\n",
    "        running_loss = 0\n",
    "        for t, (mic, fend,nend) in enumerate(loader_train):\n",
    "            \n",
    "           \n",
    "            x=torch.concat((mic,fend),1)\n",
    "            #print(x.shape)          \n",
    "            #iterate over each stft frame \n",
    "            x=x.to(device=device, dtype=dtype)\n",
    "            mic=mic.to(device=device, dtype=dtype)\n",
    "            nend=nend.to(device=device, dtype=dtype)\n",
    "            x=torch.permute(x, (0, 2, 1))\n",
    "            y=torch.permute(nend, (0, 2, 1))\n",
    "            mic=torch.permute(mic, (0, 2, 1))\n",
    "            pw_x=x*x\n",
    "            # Forward pass: compute scores and loss\n",
    "\n",
    "            mask = model(pw_x)\n",
    "            #print(mask.shape)\n",
    "            yhat= mask*mic\n",
    "\n",
    "            #yhat=yhat[:,:,:,-1]\n",
    "            #y=y[:,:,:,-1]\n",
    "\n",
    "            loss = Loss_MSE(yhat, y, lossfn)\n",
    "\n",
    "            # Zero out all of the gradients for the variables which the optimizer\n",
    "            # will update.\n",
    "            optimizer.zero_grad()\n",
    "\n",
    "            # This is the backwards pass: compute the gradient of the loss with\n",
    "            # respect to each  parameter of the model.\n",
    "            loss.backward()\n",
    "\n",
    "            # Actually update the parameters of the model using the gradients\n",
    "            # computed by the backwards pass.\n",
    "            optimizer.step()\n",
    "            # Update parameters. We don't want to backpropagate through the\n",
    "            running_loss += loss.item()\n",
    "            \n",
    "\n",
    "            if (t+1) % print_every == 0:\n",
    "                print('Epoch %d, Iteration %d, loss = %.8f' % (e, t+1, (running_loss/len(loader_train))))\n",
    "                train_loss.append(running_loss/len(loader_train))\n",
    "                #check_accuracy_part2(loader_val, model_fn, params)\n",
    "            if (t+1) % save_every == 0:\n",
    "                torch.save(model.state_dict(),model_path) \n",
    "            \n",
    "        vloss=check_accuracy(loader_val,model,lossfn)\n",
    "        model.train()\n",
    "        val_loss.append(vloss)\n",
    "        scheduler.step(loss)\n",
    "    return (train_loss,val_loss)"
   ]
  },
  {
   "cell_type": "code",
   "execution_count": 143,
   "metadata": {},
   "outputs": [],
   "source": [
    "learning_rate = 1e-3\n",
    "nfft_len=1023\n",
    "hop_size=nfft_len//4\n",
    "specdims=(512,64)\n",
    "hidden_size=25\n",
    "model = LSTMNet(input_dim=specdims[0]*2, hidden_dim=hidden_size, fclayer_dim=hidden_size, output_dim=specdims[0], num_layers=1,dropout_prob=0.1)\n",
    "# you can use Nesterov momentum in optim.SGD\n",
    "#optimizer = optim.SGD(model.parameters(), lr=learning_rate,\n",
    "#                     momentum=0.9, nesterov=True)\n",
    "# you can use Nesterov momentum in optim.SGD\n",
    "optimizer = optim.Adam(model.parameters(), lr=learning_rate)\n",
    "#optimizer = optim.SGD(model.parameters(), lr=learning_rate, momentum=0.9)\n",
    "scheduler = torch.optim.lr_scheduler.ReduceLROnPlateau(optimizer, 'min')"
   ]
  },
  {
   "cell_type": "code",
   "execution_count": 144,
   "metadata": {},
   "outputs": [
    {
     "name": "stdout",
     "output_type": "stream",
     "text": [
      "==========================================================================================\n",
      "Layer (type:depth-idx)                   Output Shape              Param #\n",
      "==========================================================================================\n",
      "LSTMNet                                  --                        --\n",
      "├─Linear: 1-1                            [4, 64, 25]               25,625\n",
      "├─Tanh: 1-2                              [4, 64, 25]               --\n",
      "├─LSTM: 1-3                              [4, 64, 25]               5,200\n",
      "├─Tanh: 1-4                              [4, 64, 25]               --\n",
      "├─Linear: 1-5                            [4, 64, 512]              13,312\n",
      "├─Sigmoid: 1-6                           [4, 64, 512]              --\n",
      "==========================================================================================\n",
      "Total params: 44,137\n",
      "Trainable params: 44,137\n",
      "Non-trainable params: 0\n",
      "Total mult-adds (M): 1.49\n",
      "==========================================================================================\n",
      "Input size (MB): 1.05\n",
      "Forward/backward pass size (MB): 1.15\n",
      "Params size (MB): 0.18\n",
      "Estimated Total Size (MB): 2.38\n",
      "==========================================================================================\n"
     ]
    }
   ],
   "source": [
    "batch_size = batch_size\n",
    "cfg=summary(model, input_size=(batch_size,specdims[1], specdims[0]*2))\n",
    "print(cfg)\n",
    "epochs=50"
   ]
  },
  {
   "cell_type": "code",
   "execution_count": 145,
   "metadata": {},
   "outputs": [
    {
     "name": "stdout",
     "output_type": "stream",
     "text": [
      "Epoch 0, Iteration 2000, loss = 0.17585605\n",
      "Checking accuracy on validation set\n",
      "Validation loss is 0.20723131\n",
      "Epoch 1, Iteration 2000, loss = 0.16067124\n",
      "Checking accuracy on validation set\n",
      "Validation loss is 0.19976975\n",
      "Epoch 2, Iteration 2000, loss = 0.15569575\n",
      "Checking accuracy on validation set\n",
      "Validation loss is 0.19653746\n",
      "Epoch 3, Iteration 2000, loss = 0.15185680\n",
      "Checking accuracy on validation set\n",
      "Validation loss is 0.19046547\n",
      "Epoch 4, Iteration 2000, loss = 0.14855653\n",
      "Checking accuracy on validation set\n",
      "Validation loss is 0.18708685\n",
      "Epoch 5, Iteration 2000, loss = 0.14678186\n",
      "Checking accuracy on validation set\n",
      "Validation loss is 0.1858625\n",
      "Epoch 6, Iteration 2000, loss = 0.14544674\n",
      "Checking accuracy on validation set\n",
      "Validation loss is 0.18236147\n",
      "Epoch 7, Iteration 2000, loss = 0.14383164\n",
      "Checking accuracy on validation set\n",
      "Validation loss is 0.18194292\n",
      "Epoch 8, Iteration 2000, loss = 0.14308845\n",
      "Checking accuracy on validation set\n",
      "Validation loss is 0.18073535\n",
      "Epoch 9, Iteration 2000, loss = 0.14268741\n",
      "Checking accuracy on validation set\n",
      "Validation loss is 0.17996435\n",
      "Epoch 10, Iteration 2000, loss = 0.14202754\n",
      "Checking accuracy on validation set\n",
      "Validation loss is 0.17838946\n",
      "Epoch 11, Iteration 2000, loss = 0.14086672\n",
      "Checking accuracy on validation set\n",
      "Validation loss is 0.17798302\n",
      "Epoch 12, Iteration 2000, loss = 0.13980136\n",
      "Checking accuracy on validation set\n",
      "Validation loss is 0.1764669\n",
      "Epoch 13, Iteration 2000, loss = 0.13889799\n",
      "Checking accuracy on validation set\n",
      "Validation loss is 0.17590043\n",
      "Epoch 14, Iteration 2000, loss = 0.13875751\n",
      "Checking accuracy on validation set\n",
      "Validation loss is 0.17484543\n",
      "Epoch 15, Iteration 2000, loss = 0.13799862\n",
      "Checking accuracy on validation set\n",
      "Validation loss is 0.17484227\n",
      "Epoch 16, Iteration 2000, loss = 0.13783169\n",
      "Checking accuracy on validation set\n",
      "Validation loss is 0.17452802\n",
      "Epoch 17, Iteration 2000, loss = 0.13685777\n",
      "Checking accuracy on validation set\n",
      "Validation loss is 0.172555\n",
      "Epoch 18, Iteration 2000, loss = 0.13587213\n",
      "Checking accuracy on validation set\n",
      "Validation loss is 0.17170872\n",
      "Epoch 19, Iteration 2000, loss = 0.13531360\n",
      "Checking accuracy on validation set\n",
      "Validation loss is 0.17119718\n",
      "Epoch 20, Iteration 2000, loss = 0.13487231\n",
      "Checking accuracy on validation set\n",
      "Validation loss is 0.1705157\n",
      "Epoch 21, Iteration 2000, loss = 0.13445388\n",
      "Checking accuracy on validation set\n",
      "Validation loss is 0.17017736\n",
      "Epoch 22, Iteration 2000, loss = 0.13412159\n",
      "Checking accuracy on validation set\n",
      "Validation loss is 0.16982666\n",
      "Epoch 23, Iteration 2000, loss = 0.13386828\n",
      "Checking accuracy on validation set\n",
      "Validation loss is 0.16935465\n",
      "Epoch 24, Iteration 2000, loss = 0.13353126\n",
      "Checking accuracy on validation set\n",
      "Validation loss is 0.16900192\n",
      "Epoch 25, Iteration 2000, loss = 0.13332779\n",
      "Checking accuracy on validation set\n",
      "Validation loss is 0.16877164\n",
      "Epoch 26, Iteration 2000, loss = 0.13310519\n",
      "Checking accuracy on validation set\n",
      "Validation loss is 0.1687419\n",
      "Epoch 27, Iteration 2000, loss = 0.13291179\n",
      "Checking accuracy on validation set\n",
      "Validation loss is 0.16825888\n",
      "Epoch 28, Iteration 2000, loss = 0.13265099\n",
      "Checking accuracy on validation set\n",
      "Validation loss is 0.16805665\n",
      "Epoch 29, Iteration 2000, loss = 0.13252747\n",
      "Checking accuracy on validation set\n",
      "Validation loss is 0.16794871\n",
      "Epoch 30, Iteration 2000, loss = 0.13230483\n",
      "Checking accuracy on validation set\n",
      "Validation loss is 0.1678334\n",
      "Epoch 31, Iteration 2000, loss = 0.13210517\n",
      "Checking accuracy on validation set\n",
      "Validation loss is 0.1674527\n",
      "Epoch 32, Iteration 2000, loss = 0.13199093\n",
      "Checking accuracy on validation set\n",
      "Validation loss is 0.16756807\n",
      "Epoch 33, Iteration 2000, loss = 0.13184808\n",
      "Checking accuracy on validation set\n",
      "Validation loss is 0.16730739\n",
      "Epoch 34, Iteration 2000, loss = 0.13167361\n",
      "Checking accuracy on validation set\n",
      "Validation loss is 0.16700603\n",
      "Epoch 35, Iteration 2000, loss = 0.13153075\n",
      "Checking accuracy on validation set\n",
      "Validation loss is 0.16668347\n",
      "Epoch 36, Iteration 2000, loss = 0.13131019\n",
      "Checking accuracy on validation set\n",
      "Validation loss is 0.1666091\n",
      "Epoch 37, Iteration 2000, loss = 0.13120499\n",
      "Checking accuracy on validation set\n",
      "Validation loss is 0.16632256\n",
      "Epoch 38, Iteration 2000, loss = 0.13106449\n",
      "Checking accuracy on validation set\n",
      "Validation loss is 0.16624121\n",
      "Epoch 39, Iteration 2000, loss = 0.13093195\n",
      "Checking accuracy on validation set\n",
      "Validation loss is 0.16625196\n",
      "Epoch 40, Iteration 2000, loss = 0.13080473\n",
      "Checking accuracy on validation set\n",
      "Validation loss is 0.16632776\n",
      "Epoch 41, Iteration 2000, loss = 0.13075677\n",
      "Checking accuracy on validation set\n",
      "Validation loss is 0.16600464\n",
      "Epoch 42, Iteration 2000, loss = 0.13055703\n",
      "Checking accuracy on validation set\n",
      "Validation loss is 0.16593438\n",
      "Epoch 43, Iteration 2000, loss = 0.13050940\n",
      "Checking accuracy on validation set\n",
      "Validation loss is 0.16554557\n",
      "Epoch 44, Iteration 2000, loss = 0.13033798\n",
      "Checking accuracy on validation set\n",
      "Validation loss is 0.1654425\n",
      "Epoch 45, Iteration 2000, loss = 0.13021401\n",
      "Checking accuracy on validation set\n",
      "Validation loss is 0.16535471\n",
      "Epoch 46, Iteration 2000, loss = 0.13007561\n",
      "Checking accuracy on validation set\n",
      "Validation loss is 0.16524191\n",
      "Epoch 47, Iteration 2000, loss = 0.12999770\n",
      "Checking accuracy on validation set\n",
      "Validation loss is 0.16526355\n",
      "Epoch 48, Iteration 2000, loss = 0.12995706\n",
      "Checking accuracy on validation set\n",
      "Validation loss is 0.16505088\n",
      "Epoch 49, Iteration 2000, loss = 0.12981939\n",
      "Checking accuracy on validation set\n",
      "Validation loss is 0.16489682\n"
     ]
    }
   ],
   "source": [
    "now = datetime.now()\n",
    "timestamp= now.strftime(\"%d%m%H%M%S\")\n",
    "filename='./pretrained/info/cfg'+timestamp+'.txt'\n",
    "model_path=\"./pretrained/model/aec_lstm_\"+timestamp+\".pth\"\n",
    "dict_params={}\n",
    "dict_params[\"model_summary\"]=cfg\n",
    "dict_params[\"optimizer\"]=optimizer\n",
    "dict_params[\"epochs\"]=epochs\n",
    "dict_params[\"loss_function\"]=lossfn\n",
    "with open(filename, 'w') as f:\n",
    "    f.write(str(dict_params))\n",
    "(train_loss,val_loss)=train_model(model, optimizer, scheduler,epochs=epochs)"
   ]
  },
  {
   "cell_type": "code",
   "execution_count": 146,
   "metadata": {},
   "outputs": [
    {
     "data": {
      "text/plain": [
       "Text(0.5, 1.0, 'Loss vs Epochs')"
      ]
     },
     "execution_count": 146,
     "metadata": {},
     "output_type": "execute_result"
    },
    {
     "data": {
      "image/png": "[encoded data removed]",
      "text/plain": [
       "<Figure size 432x288 with 1 Axes>"
      ]
     },
     "metadata": {
      "needs_background": "light"
     },
     "output_type": "display_data"
    }
   ],
   "source": [
    "plt.figure()\n",
    "plt.plot(train_loss)\n",
    "plt.plot(val_loss)\n",
    "plt.legend([\"Train Loss\", \"Validation Loss\"])\n",
    "plt.title(\"Loss vs Epochs\")"
   ]
  },
  {
   "cell_type": "code",
   "execution_count": 15,
   "metadata": {},
   "outputs": [
    {
     "data": {
      "text/plain": [
       "<All keys matched successfully>"
      ]
     },
     "execution_count": 15,
     "metadata": {},
     "output_type": "execute_result"
    }
   ],
   "source": [
    "model_path=\"./pretrained/model/aec_lstm_\"+timestamp+\".pth\"\n",
    "model=LSTMNet(input_dim=specdims[0]*2, hidden_dim=25, fclayer_dim=25, output_dim=specdims[0], num_layers=1,dropout_prob=0.0)\n",
    "model.load_state_dict(torch.load(model_path))"
   ]
  },
  {
   "cell_type": "code",
   "execution_count": 147,
   "metadata": {},
   "outputs": [],
   "source": [
    "dataset=ICASSPDatasetHelper()\n",
    "#test_index=19485\n",
    "#test_index=1970\n",
    "test_index=1290\n",
    "model.to(device=\"cpu\")\n",
    "mic,_= dataset.get_indxd_file(test_index,2)\n",
    "fend,_= dataset.get_indxd_file(test_index,3)\n",
    "nend,_= dataset.get_indxd_file(test_index,4)\n",
    "echo,_= dataset.get_indxd_file(test_index,1)\n",
    "mic = torch.tensor(mic)\n",
    "fend = torch.tensor(fend)\n",
    "nend = torch.tensor(nend)\n",
    "y=torch.permute(mic,(1,0))\n",
    "x=torch.concat((mic,fend),0)\n",
    "x= torch.permute(x,(1,0))\n",
    "x=x.unsqueeze(0)\n",
    "x=x.to(dtype=torch.float32)\n",
    "model.eval()\n",
    "with torch.no_grad():\n",
    "    out=model(x*x)\n",
    "out = out *y\n",
    "out=out.squeeze(0)\n",
    "out= torch.permute(out,(1,0))"
   ]
  },
  {
   "cell_type": "code",
   "execution_count": 148,
   "metadata": {},
   "outputs": [
    {
     "data": {
      "image/png": "[encoded data removed]",
      "text/plain": [
       "<Figure size 432x288 with 4 Axes>"
      ]
     },
     "metadata": {
      "needs_background": "light"
     },
     "output_type": "display_data"
    }
   ],
   "source": [
    "plt.figure()\n",
    "plt.title(\"Comparison of echo cancellation output vs Ground Truth\")\n",
    "ax1=plt.subplot(1,4,1)\n",
    "ax1.imshow(np.flip(mic.numpy(),0))\n",
    "ax1.title.set_text(\"mic input\")\n",
    "ax2=plt.subplot(1,4,2)\n",
    "ax2.imshow(np.flip(out.cpu().numpy()))\n",
    "ax2.title.set_text(\"output\")\n",
    "ax3=plt.subplot(1,4,3)\n",
    "ax3.imshow(np.flip(nend.numpy()))\n",
    "ax3.title.set_text(\"GT near end\")\n",
    "ax4=plt.subplot(1,4,4)\n",
    "ax4.imshow(np.flip(echo))\n",
    "ax4.title.set_text(\"echo\")"
   ]
  },
  {
   "cell_type": "markdown",
   "metadata": {},
   "source": [
    "Run a test file using the model to process and remove the echo"
   ]
  },
  {
   "cell_type": "code",
   "execution_count": 165,
   "metadata": {},
   "outputs": [],
   "source": [
    "file_indx=42\n",
    "mic_sig,_=librosa.load(\"../dataset/AEC-Challenge/datasets/synthetic/nearend_mic_signal/nearend_mic_fileid_\"+str(file_indx)+\".wav\",sr=8000)\n",
    "fend_sig,_=librosa.load(\"../dataset/AEC-Challenge/datasets/synthetic/farend_speech/farend_speech_fileid_\"+str(file_indx)+\".wav\",sr=8000)\n",
    "nend_sig,_=librosa.load(\"../dataset/AEC-Challenge/datasets/synthetic/nearend_speech/nearend_speech_fileid_\"+str(file_indx)+\".wav\",sr=8000)\n",
    "echo_sig,_=librosa.load(\"../dataset/AEC-Challenge/datasets/synthetic/echo_signal/echo_fileid_\"+str(file_indx)+\".wav\",sr=8000)\n",
    "\n",
    "mic_sig=np.concatenate((mic_sig,mic_sig,mic_sig,mic_sig,mic_sig,mic_sig),axis=0)\n",
    "fend_sig=np.concatenate((fend_sig,fend_sig,fend_sig,fend_sig,fend_sig,fend_sig),axis=0)\n",
    "nend_sig=np.concatenate((nend_sig,nend_sig,nend_sig,nend_sig,nend_sig,nend_sig),axis=0)\n",
    "echo_sig=np.concatenate((echo_sig,echo_sig,echo_sig,echo_sig,echo_sig,echo_sig),axis=0)\n"
   ]
  },
  {
   "cell_type": "code",
   "execution_count": 166,
   "metadata": {},
   "outputs": [],
   "source": [
    "nfft_len=1023\n",
    "mic_stft=librosa.stft(echo_sig,n_fft=nfft_len, hop_length=nfft_len//4,center=True)\n",
    "fend_stft=librosa.stft(fend_sig,n_fft=nfft_len, hop_length=nfft_len//4,center=True)\n",
    "nend_stft=librosa.stft(nend_sig,n_fft=nfft_len, hop_length=nfft_len//4,center=True)"
   ]
  },
  {
   "cell_type": "code",
   "execution_count": 167,
   "metadata": {},
   "outputs": [
    {
     "name": "stdout",
     "output_type": "stream",
     "text": [
      "(479911,)\n"
     ]
    }
   ],
   "source": [
    "\n",
    "fx=librosa.stft(fend_sig,n_fft=nfft_len,hop_length=nfft_len//4,center=True)\n",
    "res_spec=np.zeros_like(fx)\n",
    "for i in range(0,30):\n",
    "    mic=  mic_stft[:,specdims[1]*i:specdims[1]*i+specdims[1]]\n",
    "    fend= fend_stft[:,specdims[1]*i:specdims[1]*i+specdims[1]]\n",
    "    nend= nend_stft[:,specdims[1]*i:specdims[1]*i+specdims[1]]\n",
    "    tmic = torch.tensor(abs(mic))\n",
    "    tfend = torch.tensor(abs(fend))\n",
    "    tnend = torch.tensor(abs(nend))\n",
    "    y=torch.permute(tmic,(1,0))\n",
    "    x=torch.concat((tmic,tfend),0)\n",
    "    x= torch.permute(x,(1,0))\n",
    "    x=x.unsqueeze(0)\n",
    "    x=x.to(dtype=torch.float32)\n",
    "    model.eval()\n",
    "    with torch.no_grad():\n",
    "        out=model(x*x)\n",
    "    out = out*y\n",
    "    out=out.squeeze(0)\n",
    "    out= torch.permute(out,(1,0))\n",
    "    out=out.cpu().numpy()\n",
    "    mag,ph=librosa.magphase(mic)\n",
    "    out=out*ph\n",
    "    #print(out.shape)\n",
    "    res_spec[:,specdims[1]*i:specdims[1]*i+specdims[1]]=out\n",
    "    #specs[:,specdims[1]*i:specdims[1]*i+specdims[1]]=out*spec\n",
    "res_nend=librosa.istft(res_spec,hop_length=nfft_len//4,n_fft=nfft_len)\n",
    "#res_nend=librosa.util.normalize(res_nend)\n",
    "print(res_nend.shape)"
   ]
  },
  {
   "cell_type": "code",
   "execution_count": 168,
   "metadata": {},
   "outputs": [
    {
     "data": {
      "image/png": "[encoded data removed]",
      "text/plain": [
       "<Figure size 432x288 with 1 Axes>"
      ]
     },
     "metadata": {
      "needs_background": "light"
     },
     "output_type": "display_data"
    }
   ],
   "source": [
    "plt.figure()\n",
    "plt.plot(echo_sig)\n",
    "plt.plot(res_nend)\n",
    "plt.legend([\"Actual echo\",\"Residual echo\"])\n",
    "opt=(str(optimizer).split('(')[0])\n",
    "title=\"LSTM AEC\"+str(specdims)+\" \"+opt+str(lossfn).split('(')[0]+\"h\"+str(hidden_size)\n",
    "plt.title(title)\n",
    "plt.savefig(\"../report_figs/\"+title+\".png\")\n"
   ]
  },
  {
   "cell_type": "code",
   "execution_count": 169,
   "metadata": {},
   "outputs": [],
   "source": [
    "def measure_ERLE(out,mic):\n",
    "    m=np.linalg.norm(mic)\n",
    "    e=np.linalg.norm(out)\n",
    "    erle=20*np.log10(m/e)\n",
    "    return erle\n",
    "\n",
    "def measure_SDR(out,nend):\n",
    "    shat=out-nend\n",
    "    s=np.linalg.norm(nend)\n",
    "    e=np.linalg.norm(shat)\n",
    "    erle=20*np.log10(s/e)\n",
    "    return erle"
   ]
  },
  {
   "cell_type": "code",
   "execution_count": 170,
   "metadata": {},
   "outputs": [
    {
     "name": "stdout",
     "output_type": "stream",
     "text": [
      "The ERLE is: 28.190629482269287\n"
     ]
    }
   ],
   "source": [
    "m=len(res_nend)\n",
    "mic=mic_sig[:m]\n",
    "nend=nend_sig[:m]\n",
    "echo=echo_sig[:m]\n",
    "erle=measure_ERLE(res_nend,echo)\n",
    "print(\"The ERLE is:\",erle)"
   ]
  },
  {
   "cell_type": "code",
   "execution_count": 171,
   "metadata": {},
   "outputs": [],
   "source": [
    "nfft_len=1023\n",
    "mic_stft=librosa.stft(mic_sig,n_fft=nfft_len, hop_length=nfft_len//4,center=True)\n",
    "fend_stft=librosa.stft(fend_sig,n_fft=nfft_len, hop_length=nfft_len//4,center=True)\n",
    "nend_stft=librosa.stft(nend_sig,n_fft=nfft_len, hop_length=nfft_len//4,center=True)"
   ]
  },
  {
   "cell_type": "code",
   "execution_count": 172,
   "metadata": {},
   "outputs": [
    {
     "name": "stdout",
     "output_type": "stream",
     "text": [
      "(479911,)\n"
     ]
    }
   ],
   "source": [
    "fx=librosa.stft(fend_sig,n_fft=nfft_len,hop_length=nfft_len//4,center=True)\n",
    "res_spec=np.zeros_like(fx)\n",
    "for i in range(0,30):\n",
    "    mic=  mic_stft[:,specdims[1]*i:specdims[1]*i+specdims[1]]\n",
    "    fend= fend_stft[:,specdims[1]*i:specdims[1]*i+specdims[1]]\n",
    "    nend= nend_stft[:,specdims[1]*i:specdims[1]*i+specdims[1]]\n",
    "    tmic = torch.tensor(abs(mic))\n",
    "    tfend = torch.tensor(abs(fend))\n",
    "    tnend = torch.tensor(abs(nend))\n",
    "    y=torch.permute(tmic,(1,0))\n",
    "    x=torch.concat((tmic,tfend),0)\n",
    "    x= torch.permute(x,(1,0))\n",
    "    x=x.unsqueeze(0)\n",
    "    x=x.to(dtype=torch.float32)\n",
    "    model.eval()\n",
    "    with torch.no_grad():\n",
    "        out=model(x*x)\n",
    "    out = out*y\n",
    "    out=out.squeeze(0)\n",
    "    out= torch.permute(out,(1,0))\n",
    "    out=out.cpu().numpy()\n",
    "    mag,ph=librosa.magphase(mic)\n",
    "    out=out*ph\n",
    "    #print(out.shape)\n",
    "    res_spec[:,specdims[1]*i:specdims[1]*i+specdims[1]]=out\n",
    "    #specs[:,specdims[1]*i:specdims[1]*i+specdims[1]]=out*spec\n",
    "res_nend=librosa.istft(res_spec,hop_length=nfft_len//4,n_fft=nfft_len)\n",
    "#res_nend=librosa.util.normalize(res_nend)\n",
    "print(res_nend.shape)"
   ]
  },
  {
   "cell_type": "code",
   "execution_count": 173,
   "metadata": {},
   "outputs": [
    {
     "data": {
      "image/png": "[encoded data removed]",
      "text/plain": [
       "<Figure size 432x288 with 1 Axes>"
      ]
     },
     "metadata": {
      "needs_background": "light"
     },
     "output_type": "display_data"
    }
   ],
   "source": [
    "plt.figure()\n",
    "plt.plot(nend_sig)\n",
    "plt.plot(res_nend)\n",
    "plt.legend([\"Actual near end\",\"Estimated near end\"])\n",
    "opt=(str(optimizer).split('(')[0])\n",
    "title=\"LSTM AEC SDR\"+str(specdims)+\" \"+opt+str(lossfn).split('(')[0]+\"h\"+str(hidden_size)\n",
    "plt.title(title)\n",
    "plt.savefig(\"../report_figs/\"+title+\".png\")"
   ]
  },
  {
   "cell_type": "code",
   "execution_count": null,
   "metadata": {},
   "outputs": [],
   "source": []
  }
 ],
 "metadata": {
  "interpreter": {
   "hash": "9f5c7ac77e593d0994949fe61f06040dedc773eb228097f0a804bc0d2d8d2f83"
  },
  "kernelspec": {
   "display_name": "Python 3.9.12 ('aec': conda)",
   "language": "python",
   "name": "python3"
  },
  "language_info": {
   "codemirror_mode": {
    "name": "ipython",
    "version": 3
   },
   "file_extension": ".py",
   "mimetype": "text/x-python",
   "name": "python",
   "nbconvert_exporter": "python",
   "pygments_lexer": "ipython3",
   "version": "3.9.12"
  },
  "orig_nbformat": 4
 },
 "nbformat": 4,
 "nbformat_minor": 2
}
