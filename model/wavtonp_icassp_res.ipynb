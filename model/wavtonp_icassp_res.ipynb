{
 "cells": [
  {
   "cell_type": "code",
   "execution_count": 31,
   "metadata": {},
   "outputs": [],
   "source": [
    "import os \n",
    "import numpy as np\n",
    "import librosa \n",
    "import json\n",
    "import matplotlib.pyplot as plt\n",
    "from tqdm import tqdm\n",
    "import shutil\n",
    "from numba import jit, cuda\n",
    "\n",
    "def get_file_descriptors(dirpath):\n",
    "        directory={}\n",
    "        dataset_path=dirpath\n",
    "        cwd= os.getcwd()\n",
    "        for i , (dirpath, dirname, filename) in enumerate(os.walk(dataset_path)):\n",
    "            if(dirpath!=dataset_path):\n",
    "                dirname=dirpath.split(\"/\")[-1]\n",
    "                files={}\n",
    "                file_list=[]\n",
    "                index=0\n",
    "                filedict={}\n",
    "                for file in filename:\n",
    "                    f=file.split('.')[0]\n",
    "                    fid=int(f.split('_')[-1])\n",
    "                    filedict[fid]=file\n",
    "\n",
    "                for fileid in sorted(filedict.keys()):\n",
    "                    file=filedict[fileid]\n",
    "                    filepath = os.path.join( dirpath,file)\n",
    "                    if ( (filepath.endswith('.wav'))):\n",
    "                        if(file.startswith('.')):\n",
    "                            pass\n",
    "                        else:\n",
    "                            file_list.append(filepath)\n",
    "                #file_list.sort()\n",
    "                if(len(file_list)>0):\n",
    "                    for filepath in file_list:\n",
    "                        files[index]=filepath\n",
    "                        index+=1\n",
    "                    directory[dirname]=files\n",
    "        return directory\n"
   ]
  },
  {
   "cell_type": "code",
   "execution_count": 26,
   "metadata": {},
   "outputs": [],
   "source": [
    "directory=get_file_descriptors(\"../dataset/AEC-Challenge/datasets/synthetic\")\n",
    "json_path=\"./icassp_data_res.json\"\n",
    "json_directory = json.dumps(directory,indent=4)\n",
    "with open(json_path, \"w\") as outfile:\n",
    "    outfile.write(json_directory)"
   ]
  },
  {
   "cell_type": "code",
   "execution_count": 34,
   "metadata": {},
   "outputs": [],
   "source": [
    "def tagstft(x,outfile_path):\n",
    "    np.save(outfile_path,x)   \n",
    "    \n",
    "def generateDataset(input_dir,outputdir,fft_len,spec_dims):\n",
    "    fft_len=fft_len\n",
    "    spec_dims=spec_dims\n",
    "    directory=get_file_descriptors(input_dir)\n",
    "    spec_dict={}\n",
    "    for key in directory.keys():\n",
    "        spec_dict[key]={}\n",
    "        k=0\n",
    "        print(key)\n",
    "        subset=list(directory[key].values())\n",
    "        subset=subset[:720]\n",
    "        for indx,filepath in tqdm(enumerate(subset)):\n",
    "            file,sr=librosa.load(filepath,duration=10,sr=8000)\n",
    "            file=librosa.util.normalize(file)\n",
    "            frames=librosa.stft(file, n_fft=fft_len, hop_length=fft_len//4, win_length=fft_len, window='hann', center=True, dtype=None, pad_mode='constant')\n",
    "            i=0\n",
    "            for j in range(0,(frames.shape[1]-spec_dims[1]),spec_dims[1]):\n",
    "                filename=key+\"_fileid_\"+str(indx)+\"_\"+str(i)+\".npy\"\n",
    "                out_file=os.path.join(outputdir,filename)\n",
    "                y=frames[:,j:j+spec_dims[1]]\n",
    "                tagstft(y,out_file)\n",
    "                spec_dict[key][k]=out_file\n",
    "                k+=1\n",
    "                i+=1\n",
    "    json_path=\"./icassp_LUT_512x64_RES.json\"\n",
    "    json_directory = json.dumps(spec_dict,indent=4)\n",
    "    with open(json_path, \"w\") as outfile:\n",
    "        outfile.write(json_directory)"
   ]
  },
  {
   "cell_type": "code",
   "execution_count": 35,
   "metadata": {},
   "outputs": [
    {
     "name": "stdout",
     "output_type": "stream",
     "text": [
      "echo_signal\n"
     ]
    },
    {
     "name": "stderr",
     "output_type": "stream",
     "text": [
      "720it [01:17,  9.29it/s]\n"
     ]
    },
    {
     "name": "stdout",
     "output_type": "stream",
     "text": [
      "residualecho\n"
     ]
    },
    {
     "name": "stderr",
     "output_type": "stream",
     "text": [
      "720it [00:02, 245.68it/s]\n"
     ]
    },
    {
     "name": "stdout",
     "output_type": "stream",
     "text": [
      "nearend_mic_signal\n"
     ]
    },
    {
     "name": "stderr",
     "output_type": "stream",
     "text": [
      "720it [01:17,  9.32it/s]\n"
     ]
    },
    {
     "name": "stdout",
     "output_type": "stream",
     "text": [
      "farend_speech\n"
     ]
    },
    {
     "name": "stderr",
     "output_type": "stream",
     "text": [
      "720it [01:17,  9.25it/s]\n"
     ]
    },
    {
     "name": "stdout",
     "output_type": "stream",
     "text": [
      "residual\n"
     ]
    },
    {
     "name": "stderr",
     "output_type": "stream",
     "text": [
      "720it [00:02, 243.86it/s]\n"
     ]
    },
    {
     "name": "stdout",
     "output_type": "stream",
     "text": [
      "nearend_speech\n"
     ]
    },
    {
     "name": "stderr",
     "output_type": "stream",
     "text": [
      "720it [01:18,  9.15it/s]\n"
     ]
    }
   ],
   "source": [
    "dir_path= \"../dataset/AEC-Challenge/datasets/synthetic\"\n",
    "spec_dims=(512,64)\n",
    "fft_len=1023\n",
    "dir=\"../dataset/AEC-Challenge/datasets/data_RES\"\n",
    "shutil.rmtree(dir)\n",
    "os.mkdir(dir)\n",
    "generateDataset(dir_path,dir,fft_len=fft_len,spec_dims=spec_dims)"
   ]
  },
  {
   "cell_type": "markdown",
   "metadata": {},
   "source": [
    "Sanity check "
   ]
  },
  {
   "cell_type": "code",
   "execution_count": 22,
   "metadata": {},
   "outputs": [
    {
     "name": "stdout",
     "output_type": "stream",
     "text": [
      "(512, 256)\n"
     ]
    }
   ],
   "source": [
    "ar=[]\n",
    "inc=4\n",
    "ar=np.zeros((spec_dims[0],spec_dims[1]*inc))\n",
    "j=0\n",
    "offset=0\n",
    "for i in range(offset,offset+inc):\n",
    "    a=np.load(\"../dataset/AEC-Challenge/datasets/data_RES/echo_signal_fileid_29_\"+str(i)+\".npy\")\n",
    "    ar[:,spec_dims[1]*j:spec_dims[1]*j+spec_dims[1]]=abs(a)\n",
    "    j+=1\n",
    "\n",
    "print(ar.shape)"
   ]
  },
  {
   "cell_type": "code",
   "execution_count": 23,
   "metadata": {},
   "outputs": [
    {
     "data": {
      "text/plain": [
       "<matplotlib.image.AxesImage at 0x7f437220b880>"
      ]
     },
     "execution_count": 23,
     "metadata": {},
     "output_type": "execute_result"
    },
    {
     "data": {
      "image/png": "[encoded data removed]",
      "text/plain": [
       "<Figure size 432x288 with 1 Axes>"
      ]
     },
     "metadata": {
      "needs_background": "light"
     },
     "output_type": "display_data"
    }
   ],
   "source": [
    "plt.figure()\n",
    "plt.imshow((np.flip(abs(ar),axis=0)))"
   ]
  },
  {
   "cell_type": "code",
   "execution_count": 24,
   "metadata": {},
   "outputs": [
    {
     "name": "stdout",
     "output_type": "stream",
     "text": [
      "(512, 32)\n"
     ]
    }
   ],
   "source": [
    "#sanity check for fft sizes\n",
    "tone=librosa.tone(440,sr=8000,duration=1)\n",
    "stft_tone=librosa.stft(tone,n_fft=1023,hop_length=1023//4,center=True)\n",
    "print(stft_tone.shape)"
   ]
  }
 ],
 "metadata": {
  "interpreter": {
   "hash": "9f5c7ac77e593d0994949fe61f06040dedc773eb228097f0a804bc0d2d8d2f83"
  },
  "kernelspec": {
   "display_name": "Python 3.9.12 ('aec': conda)",
   "language": "python",
   "name": "python3"
  },
  "language_info": {
   "codemirror_mode": {
    "name": "ipython",
    "version": 3
   },
   "file_extension": ".py",
   "mimetype": "text/x-python",
   "name": "python",
   "nbconvert_exporter": "python",
   "pygments_lexer": "ipython3",
   "version": "3.9.12"
  },
  "orig_nbformat": 4
 },
 "nbformat": 4,
 "nbformat_minor": 2
}
