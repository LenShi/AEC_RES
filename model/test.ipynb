{
 "cells": [
  {
   "cell_type": "code",
   "execution_count": 30,
   "metadata": {},
   "outputs": [],
   "source": [
    "import os \n",
    "import json\n",
    "\n",
    "DEBUG_PRINT=False\n",
    "def get_file_descriptors(dataset_path):\n",
    "    directory={}\n",
    "    for i , (dirpath, dirname, filename) in enumerate(os.walk(dataset_path)):\n",
    "        if(dirpath!=dataset_path):\n",
    "            dirname=dirpath.split(\"/\")[-1]\n",
    "            files={}\n",
    "            file_list=[]\n",
    "            index=0\n",
    "            for file in filename:\n",
    "                filepath = os.path.join( dirpath, file)\n",
    "                if ( (filepath.endswith('.wav'))):\n",
    "                    if(file.startswith('.')):\n",
    "                        pass\n",
    "                    else:\n",
    "                        file_list.append(filepath)\n",
    "            file_list.sort()\n",
    "            if(len(file_list)>0):\n",
    "                for filepath in file_list:\n",
    "                    files[index]=filepath\n",
    "                    index+=1\n",
    "                directory[dirname]=files\n",
    "    return directory\n",
    "\n",
    "directory=get_file_descriptors(\"../dataset_daps/daps\")\n",
    "json_path=\"./dir.json\"\n",
    "json_directory = json.dumps(directory,indent=4)\n",
    "with open(json_path, \"w\") as outfile:\n",
    "    outfile.write(json_directory)"
   ]
  }
 ],
 "metadata": {
  "interpreter": {
   "hash": "9f5c7ac77e593d0994949fe61f06040dedc773eb228097f0a804bc0d2d8d2f83"
  },
  "kernelspec": {
   "display_name": "Python 3.9.12 ('aec')",
   "language": "python",
   "name": "python3"
  },
  "language_info": {
   "codemirror_mode": {
    "name": "ipython",
    "version": 3
   },
   "file_extension": ".py",
   "mimetype": "text/x-python",
   "name": "python",
   "nbconvert_exporter": "python",
   "pygments_lexer": "ipython3",
   "version": "3.9.12"
  },
  "orig_nbformat": 4
 },
 "nbformat": 4,
 "nbformat_minor": 2
}
