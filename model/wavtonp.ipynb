{
 "cells": [
  {
   "cell_type": "code",
   "execution_count": 70,
   "metadata": {},
   "outputs": [],
   "source": [
    "import os \n",
    "import numpy as np\n",
    "import librosa \n",
    "import json\n",
    "import matplotlib.pyplot as plt\n",
    "import cv2\n",
    "\n",
    "def get_file_descriptors(dirpath):\n",
    "        directory={}\n",
    "        dataset_path=dirpath\n",
    "        cwd= os.getcwd()\n",
    "        for i , (dirpath, dirname, filename) in enumerate(os.walk(dataset_path)):\n",
    "            if(dirpath!=dataset_path):\n",
    "                dirname=dirpath.split(\"/\")[-1]\n",
    "                files={}\n",
    "                file_list=[]\n",
    "                index=0\n",
    "                for file in filename:\n",
    "                    filepath = os.path.join( dirpath, file)\n",
    "                    if ( (filepath.endswith('.wav'))):\n",
    "                        if(file.startswith('.')):\n",
    "                            pass\n",
    "                        else:\n",
    "                            file_list.append(filepath)\n",
    "                file_list.sort()\n",
    "                if(len(file_list)>0):\n",
    "                    for filepath in file_list:\n",
    "                        files[index]=filepath\n",
    "                        index+=1\n",
    "                    directory[dirname]=files\n",
    "        return directory\n"
   ]
  },
  {
   "cell_type": "code",
   "execution_count": 71,
   "metadata": {},
   "outputs": [],
   "source": [
    "def tagstft(x,outfile_path):\n",
    "    np.save(outfile_path,x)\n",
    "    \n",
    "\n",
    "def generateDataset(input_dir,outputdir,fft_len,spec_dims):\n",
    "    fft_len=fft_len\n",
    "    spec_dims=spec_dims\n",
    "    directory=get_file_descriptors(input_dir)\n",
    "    spec_dict={}\n",
    "    for key in directory.keys():\n",
    "        spec_dict[key]={}\n",
    "        k=0\n",
    "        print(key)\n",
    "        for indx,filepath in enumerate(directory[key].values()):\n",
    "            file,sr=librosa.load(filepath,duration=90,sr=8000)\n",
    "            file=librosa.util.normalize(file)\n",
    "            frames=librosa.stft(file, n_fft=fft_len, hop_length=fft_len//4, win_length=fft_len, window='hann', center=True, dtype=None, pad_mode='constant')\n",
    "            i=0\n",
    "            for j in range(0,(frames.shape[1]-spec_dims[1]),spec_dims[1]):\n",
    "                filename=key+\"_fileid_\"+str(indx)+\"_\"+str(i)+\".npy\"\n",
    "                out_file=os.path.join(outputdir,filename)\n",
    "                y=frames[:,j:j+spec_dims[1]]\n",
    "                tagstft(y,out_file)\n",
    "                spec_dict[key][k]=out_file\n",
    "                k+=1\n",
    "                i+=1\n",
    "    json_path=\"./daps_stft_LUT.json\"\n",
    "    json_directory = json.dumps(spec_dict,indent=4)\n",
    "    with open(json_path, \"w\") as outfile:\n",
    "        outfile.write(json_directory)"
   ]
  },
  {
   "cell_type": "code",
   "execution_count": 72,
   "metadata": {},
   "outputs": [
    {
     "name": "stdout",
     "output_type": "stream",
     "text": [
      "iphone_bedroom1\n",
      "iphone_balcony1\n",
      "ipad_confroom1\n",
      "clean\n",
      "iphone_livingroom1\n",
      "ipad_confroom2\n",
      "ipad_livingroom1\n",
      "cleanraw\n",
      "produced\n",
      "ipadflat_office1\n",
      "ipadflat_confroom1\n",
      "ipad_office1\n",
      "ipad_balcony1\n",
      "ipad_bedroom1\n",
      "sample\n",
      "ipad_office2\n"
     ]
    }
   ],
   "source": [
    "dir_path= \"../dataset_daps/daps\"\n",
    "spec_dims=(256,64)\n",
    "fft_len=511\n",
    "generateDataset(dir_path,\"../dataset_daps/daps/data_np256\",fft_len=fft_len,spec_dims=spec_dims)"
   ]
  },
  {
   "cell_type": "code",
   "execution_count": 66,
   "metadata": {},
   "outputs": [
    {
     "name": "stdout",
     "output_type": "stream",
     "text": [
      "(256, 256)\n"
     ]
    }
   ],
   "source": [
    "ar=[]\n",
    "inc=4\n",
    "ar=np.zeros((spec_dims[0],spec_dims[1]*inc))\n",
    "j=0\n",
    "offset=21\n",
    "for i in range(offset,offset+inc):\n",
    "    a=np.load(\"../dataset_daps/daps/data_np/iphone_bedroom1_fileid_0_\"+str(i)+\".npy\")\n",
    "    ar[:,spec_dims[1]*j:spec_dims[1]*j+spec_dims[1]]=abs(a)\n",
    "    j+=1\n",
    "\n",
    "print(ar.shape)"
   ]
  },
  {
   "cell_type": "code",
   "execution_count": 64,
   "metadata": {},
   "outputs": [
    {
     "data": {
      "text/plain": [
       "<matplotlib.image.AxesImage at 0x7f8d856907f0>"
      ]
     },
     "execution_count": 64,
     "metadata": {},
     "output_type": "execute_result"
    },
    {
     "data": {
      "image/png": "[encoded data removed]",
      "text/plain": [
       "<Figure size 432x288 with 1 Axes>"
      ]
     },
     "metadata": {
      "needs_background": "light"
     },
     "output_type": "display_data"
    }
   ],
   "source": [
    "plt.figure()\n",
    "plt.imshow(np.flip(abs(ar),axis=0))"
   ]
  },
  {
   "cell_type": "code",
   "execution_count": null,
   "metadata": {},
   "outputs": [],
   "source": []
  }
 ],
 "metadata": {
  "interpreter": {
   "hash": "9f5c7ac77e593d0994949fe61f06040dedc773eb228097f0a804bc0d2d8d2f83"
  },
  "kernelspec": {
   "display_name": "Python 3.9.12 ('aec': conda)",
   "language": "python",
   "name": "python3"
  },
  "language_info": {
   "codemirror_mode": {
    "name": "ipython",
    "version": 3
   },
   "file_extension": ".py",
   "mimetype": "text/x-python",
   "name": "python",
   "nbconvert_exporter": "python",
   "pygments_lexer": "ipython3",
   "version": "3.9.12"
  },
  "orig_nbformat": 4
 },
 "nbformat": 4,
 "nbformat_minor": 2
}
