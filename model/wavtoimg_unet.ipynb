{
 "cells": [
  {
   "cell_type": "code",
   "execution_count": 4,
   "metadata": {},
   "outputs": [],
   "source": [
    "import os \n",
    "import numpy as np\n",
    "import librosa \n",
    "import json\n",
    "import cv2\n",
    "\n",
    "def get_file_descriptors(dirpath):\n",
    "        directory={}\n",
    "        dataset_path=dirpath\n",
    "        cwd= os.getcwd()\n",
    "        for i , (dirpath, dirname, filename) in enumerate(os.walk(dataset_path)):\n",
    "            if(dirpath!=dataset_path):\n",
    "                dirname=dirpath.split(\"/\")[-1]\n",
    "                files={}\n",
    "                file_list=[]\n",
    "                index=0\n",
    "                for file in filename:\n",
    "                    filepath = os.path.join( dirpath, file)\n",
    "                    if ( (filepath.endswith('.wav'))):\n",
    "                        if(file.startswith('.')):\n",
    "                            pass\n",
    "                        else:\n",
    "                            file_list.append(filepath)\n",
    "                file_list.sort()\n",
    "                if(len(file_list)>0):\n",
    "                    for filepath in file_list:\n",
    "                        files[index]=filepath\n",
    "                        index+=1\n",
    "                    directory[dirname]=files\n",
    "        return directory\n"
   ]
  },
  {
   "cell_type": "code",
   "execution_count": 25,
   "metadata": {},
   "outputs": [],
   "source": [
    "def wavtoimg(filepath):\n",
    "    fft_len=318\n",
    "    frames=[]\n",
    "    #duration in milliseconds\n",
    "    block_size=310\n",
    "    tot_duration=15500\n",
    "    for i in range(0,tot_duration,block_size):\n",
    "        x,sr=librosa.load(filepath,duration=block_size/1000,offset=i/1000)\n",
    "        x=librosa.resample(x, orig_sr=sr, target_sr=8000)\n",
    "        stft_x=librosa.stft(x, n_fft=fft_len, hop_length=fft_len//4, win_length=fft_len, window='hann', center=True, dtype=None, pad_mode='constant')\n",
    "        #print(stft_x.shape)\n",
    "        frames.append(stft_x)\n",
    "    return frames\n",
    "\n",
    "\n",
    "def tagimage(x,outfile_path):\n",
    "    mag,phase=librosa.magphase(x,power=1)\n",
    "    mag = 255*mag\n",
    "    mag = mag.astype(np.uint8)\n",
    "    mag = np.flip(mag,axis=0)\n",
    "    cv2.imwrite(outfile_path,mag)\n",
    "\n",
    "def generateDataset(input_dir,outputdir):\n",
    "    directory=get_file_descriptors(input_dir)\n",
    "    spec_dict={}\n",
    "    for key in directory.keys():\n",
    "        spec_dict[key]={}\n",
    "        k=0\n",
    "        print(key)\n",
    "        for indx,filepath in enumerate(directory[key].values()):\n",
    "            frames=wavtoimg(filepath)\n",
    "            for j,y in enumerate(frames):\n",
    "                filename=key+\"_fileid_\"+str(indx)+\"_\"+str(j)+\"_.jpg\"\n",
    "                out_file=os.path.join(outputdir,filename)\n",
    "                tagimage(y,out_file)\n",
    "                spec_dict[key][k]=out_file\n",
    "                k+=1\n",
    "    json_path=\"./daps_dict.json\"\n",
    "    json_directory = json.dumps(spec_dict,indent=4)\n",
    "    with open(json_path, \"w\") as outfile:\n",
    "        outfile.write(json_directory)"
   ]
  },
  {
   "cell_type": "code",
   "execution_count": 26,
   "metadata": {},
   "outputs": [
    {
     "name": "stdout",
     "output_type": "stream",
     "text": [
      "iphone_bedroom1\n",
      "iphone_balcony1\n",
      "ipad_confroom1\n",
      "clean\n",
      "iphone_livingroom1\n",
      "ipad_confroom2\n",
      "ipad_livingroom1\n",
      "cleanraw\n",
      "produced\n",
      "ipadflat_office1\n",
      "ipadflat_confroom1\n",
      "ipad_office1\n",
      "ipad_balcony1\n",
      "ipad_bedroom1\n",
      "sample\n",
      "ipad_office2\n"
     ]
    }
   ],
   "source": [
    "dir_path= \"../dataset_daps/daps\"\n",
    "generateDataset(\"../dataset_daps/daps\",\"../dataset_daps/daps/data2\")"
   ]
  }
 ],
 "metadata": {
  "interpreter": {
   "hash": "9f5c7ac77e593d0994949fe61f06040dedc773eb228097f0a804bc0d2d8d2f83"
  },
  "kernelspec": {
   "display_name": "Python 3.9.12 ('aec': conda)",
   "language": "python",
   "name": "python3"
  },
  "language_info": {
   "codemirror_mode": {
    "name": "ipython",
    "version": 3
   },
   "file_extension": ".py",
   "mimetype": "text/x-python",
   "name": "python",
   "nbconvert_exporter": "python",
   "pygments_lexer": "ipython3",
   "version": "3.9.12"
  },
  "orig_nbformat": 4
 },
 "nbformat": 4,
 "nbformat_minor": 2
}
