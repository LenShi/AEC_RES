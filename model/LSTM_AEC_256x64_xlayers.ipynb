{
 "cells": [
  {
   "cell_type": "code",
   "execution_count": 27,
   "metadata": {},
   "outputs": [],
   "source": [
    "import torch\n",
    "from torch.utils.data import Dataset, DataLoader\n",
    "import numpy as np\n",
    "import torch.nn as nn\n",
    "import librosa\n",
    "import librosa.display\n",
    "from torch.utils.data import sampler\n",
    "import torch.optim as optim\n",
    "import json\n",
    "import matplotlib.pyplot as plt\n",
    "import scipy.io.wavfile as wav\n",
    "from torchinfo import summary\n",
    "import spectrum as sp\n",
    "import scipy.signal as signal"
   ]
  },
  {
   "cell_type": "code",
   "execution_count": 2,
   "metadata": {},
   "outputs": [],
   "source": [
    "class ICASSPDatasetHelper():\n",
    "    #initialization \n",
    "    def __init__(self):\n",
    "        self.sample_rate=8000\n",
    "        fft_len=40\n",
    "        hop_len=10\n",
    "        self.dir= \"./icassp_LUT_256x64.json\"\n",
    "        openfile=open(self.dir, \"r\")\n",
    "        self.dataset_dict= json.load(openfile)\n",
    "        indx=1\n",
    "        self.keys={}\n",
    "        for key  in self.dataset_dict.keys():\n",
    "            self.keys[indx]=key\n",
    "            indx+=1\n",
    "\n",
    "        self.num_files_per_category=len(self.dataset_dict[\"echo_signal\"].keys())\n",
    "\n",
    "    #get the indexed file and sample rate\n",
    "    def get_indxd_file(self,indx,src):\n",
    "        category=self.keys[src]\n",
    "        #load magnitude spectrum\n",
    "        data=abs(np.load(self.dataset_dict[category][str(indx)]))\n",
    "        Id= self.dataset_dict[category][str(indx)].split(\"/\")[-1].split('.')[0]\n",
    "        return (data,Id)\n",
    "\n",
    "    #get the indexed file and sample rate\n",
    "    def get_indxd_filestft(self,indx,src):\n",
    "        category=self.keys[src]\n",
    "        #load magnitude spectrum\n",
    "        data=np.load(self.dataset_dict[category][str(indx)])\n",
    "        Id= self.dataset_dict[category][str(indx)].split(\"/\")[-1].split('.')[0]\n",
    "        return (data,Id)"
   ]
  },
  {
   "cell_type": "code",
   "execution_count": 3,
   "metadata": {},
   "outputs": [],
   "source": [
    "class ICASSP(Dataset):\n",
    "    def __init__(self):\n",
    "        #super().__init__(self)\n",
    "        self.daps= ICASSPDatasetHelper()\n",
    "\n",
    "    def __getitem__(self, index):\n",
    "        mic,id=self.daps.get_indxd_file(index,2)\n",
    "        fend,id=self.daps.get_indxd_file(index,3)\n",
    "        nend,id=self.daps.get_indxd_file(index,4)\n",
    "        return (mic,fend,nend)\n",
    "\n",
    "    def __len__(self):\n",
    "        \n",
    "        #print (self.daps.num_files_per_category)\n",
    "        return self.daps.num_files_per_category"
   ]
  },
  {
   "cell_type": "code",
   "execution_count": 4,
   "metadata": {},
   "outputs": [
    {
     "name": "stdout",
     "output_type": "stream",
     "text": [
      "3240\n",
      "{1: 'echo_signal', 2: 'nearend_mic_signal', 3: 'farend_speech', 4: 'nearend_speech'}\n"
     ]
    }
   ],
   "source": [
    "dataset_train = ICASSP()\n",
    "print(dataset_train.__len__())\n",
    "print(dataset_train.daps.keys)"
   ]
  },
  {
   "cell_type": "code",
   "execution_count": 5,
   "metadata": {},
   "outputs": [
    {
     "name": "stdout",
     "output_type": "stream",
     "text": [
      "cuda\n"
     ]
    }
   ],
   "source": [
    "dtype = torch.float32 # we will be using float throughout this tutorial\n",
    "USE_GPU = True\n",
    "if USE_GPU and torch.cuda.is_available():\n",
    "    device = torch.device('cuda')\n",
    "else:\n",
    "    device = torch.device('cpu')\n",
    "\n",
    "print(device)"
   ]
  },
  {
   "cell_type": "code",
   "execution_count": 6,
   "metadata": {},
   "outputs": [],
   "source": [
    "def flatten(x):\n",
    "    N = x.shape[0] # read in N, C, H, W\n",
    "    return x.view(N, -1)  # \"flatten\" the C * H * W values into a single vector per image"
   ]
  },
  {
   "cell_type": "code",
   "execution_count": 7,
   "metadata": {},
   "outputs": [],
   "source": [
    "NUM_TRAIN=2500\n",
    "NUM_VAL=800\n",
    "NUM_TEST=100\n",
    "print_every = 100\n",
    "dataset_train = ICASSP()\n",
    "batch_size=4\n",
    "loader_train = DataLoader(dataset_train, batch_size=batch_size, num_workers=8,\n",
    "                          sampler=sampler.SequentialSampler(range(NUM_TRAIN)))\n",
    "loader_val= DataLoader(dataset_train, batch_size=batch_size, num_workers=8,\n",
    "                          sampler=sampler.SequentialSampler(range(NUM_TRAIN,NUM_VAL+NUM_TRAIN)))\n",
    "loader_test = DataLoader(dataset_train, batch_size=batch_size, num_workers=8,\n",
    "                          sampler=sampler.SequentialSampler(range(NUM_VAL+NUM_TRAIN, NUM_VAL+NUM_TRAIN+NUM_TEST)))\n",
    "\n",
    "helper= ICASSPDatasetHelper()\n"
   ]
  },
  {
   "cell_type": "code",
   "execution_count": 8,
   "metadata": {},
   "outputs": [
    {
     "name": "stdout",
     "output_type": "stream",
     "text": [
      "{1: 'echo_signal', 2: 'nearend_mic_signal', 3: 'farend_speech', 4: 'nearend_speech'}\n"
     ]
    }
   ],
   "source": [
    "print(dataset_train.daps.keys)"
   ]
  },
  {
   "cell_type": "code",
   "execution_count": 9,
   "metadata": {},
   "outputs": [],
   "source": [
    "#Create Model classes\n",
    "# create a class for linear layers \n",
    "class DenseLayer(nn.Module):\n",
    "    def __init__(self,input_size,output_size,dropOut_p):\n",
    "        super().__init__()\n",
    "        self.dense=nn.Linear(input_size,output_size,bias=True)\n",
    "        self.activation=nn.Tanh()\n",
    "        self.dropOut=nn.Dropout(p=dropOut_p,inplace=False)\n",
    "    \n",
    "    def forward(self,x):\n",
    "        y=self.dense(x)\n",
    "        y=self.activation(y)\n",
    "        y=self.dropOut(y)\n",
    "        return y\n",
    "\n",
    "#class for convolutional layers\n",
    "class ConvLayer(nn.Module):\n",
    "    def __init__(self,in_ch,out_ch,kernel_size,stride,padding,dropOut_p):\n",
    "        super().__init__()\n",
    "        self.conv=nn.Conv2d(in_ch,out_ch,kernel_size, stride=stride,padding=padding)\n",
    "        self.activation=nn.ReLU()\n",
    "        self.dropOut=nn.Dropout2d(p=dropOut_p,inplace=False)\n",
    "    \n",
    "    def forward(self,x):\n",
    "        y=self.conv(x)\n",
    "        y=self.activation(y)\n",
    "        y=self.dropOut(y)\n",
    "\n",
    "        return y\n",
    "\n",
    "#RNN model for Residual echo suppression\n",
    "class LSTMNet(nn.Module):\n",
    "    def __init__(self, input_dim, hidden_dim, fclayer_dim, output_dim, num_layers,dropout_prob):\n",
    "        super().__init__()\n",
    "        # Defining the number of layers and the nodes in each layer\n",
    "        self.layer_dim=num_layers\n",
    "        self.hidden_dim=hidden_dim\n",
    "        self.rnn = nn.LSTM(\n",
    "            fclayer_dim, hidden_dim, num_layers, batch_first=True\n",
    "        )\n",
    "        self.tanh=nn.Tanh()\n",
    "        self.fc1= nn.Linear(input_dim,fclayer_dim)\n",
    "        self.fc2= nn.Linear(hidden_dim,output_dim)\n",
    "        self.sig=nn.Sigmoid()\n",
    "\n",
    "\n",
    "    def forward(self, x):\n",
    "        \n",
    "        y= self.fc1(x)\n",
    "\n",
    "        y= self.tanh(y)\n",
    "        # Initializing hidden state for first input with zeros\n",
    "        h0 = torch.zeros(self.layer_dim, y.size(0), self.hidden_dim).requires_grad_()\n",
    "\n",
    "        # Forward propagation by passing in the input and hidden state into the model\n",
    "        out, h0 = self.rnn(y)\n",
    "\n",
    "        # Reshaping the outputs in the shape of (batch_size, seq_length, hidden_size)\n",
    "        # so that it can fit into the fully connected layer\n",
    "        #out = out[:, -1, :]\n",
    "        out=self.tanh(out)\n",
    "        # Convert the final state to our desired output shape (batch_size, output_dim)\n",
    "        out = self.fc2(out)\n",
    "        out = self.sig(out)\n",
    "        return out"
   ]
  },
  {
   "cell_type": "code",
   "execution_count": 10,
   "metadata": {},
   "outputs": [],
   "source": [
    "#SNR loss where yhat is average power spectrum of de-nonlinearised/denoised signal/ clean signal power \n",
    "def Loss_MSE(yhat,y,lossfn):\n",
    "    target = torch.ones(1).to(device=device)\n",
    "    #yhat=yhat.squeeze(0)\n",
    "    #y=y.squeeze(0)\n",
    "    #loss=lossfn(yhat,y,target)\n",
    "    loss=lossfn(yhat,y)\n",
    "    return loss"
   ]
  },
  {
   "cell_type": "code",
   "execution_count": 11,
   "metadata": {},
   "outputs": [],
   "source": [
    "def check_accuracy(loader, model,lossfn):\n",
    "    print('Checking accuracy on validation set')\n",
    "    model.eval()  # set model to evaluation mode\n",
    "    mse=0\n",
    "    with torch.no_grad():\n",
    "        for mic, fend, nend in loader:\n",
    "\n",
    "            x=torch.concat((mic,fend),1)\n",
    "            #print(x.shape)          \n",
    "            #iterate over each stft frame \n",
    "            x=x.to(device=device, dtype=dtype)\n",
    "            mic=mic.to(device=device, dtype=dtype)\n",
    "            nend=nend.to(device=device, dtype=dtype)\n",
    "            x=torch.permute(x, (0, 2, 1))\n",
    "            y=torch.permute(nend, (0, 2, 1))\n",
    "            mic=torch.permute(mic, (0, 2, 1))\n",
    "            pw_x=x*x\n",
    "            # Forward pass: compute scores and loss\n",
    "            mask = model(pw_x)\n",
    "\n",
    "            yhat= mask*mic\n",
    "            #yhat=yhat[:,:,:,-1]\n",
    "            #y=y[:,:,:,-1]\n",
    "            mse+= Loss_MSE(y,yhat,lossfn)\n",
    "        mse = mse / len(loader)\n",
    "        print(\"Validation loss is\", mse.cpu().numpy())\n",
    "        return  mse.cpu().numpy()"
   ]
  },
  {
   "cell_type": "code",
   "execution_count": 12,
   "metadata": {},
   "outputs": [],
   "source": [
    "print_every=1\n",
    "def train_model(model, optimizer, scheduler ,epochs=1):\n",
    "    \"\"\"\n",
    "    Train a model on DAPS.\n",
    "    \n",
    "    Inputs:\n",
    "    - model_fn: A Python function that performs the forward pass of the model.\n",
    "      It should have the signature scores = model_fn(x, params) where x is a\n",
    "      PyTorch Tensor of image data, params is a list of PyTorch Tensors giving\n",
    "      model weights, and scores is a PyTorch Tensor of shape (N, C) giving\n",
    "      scores for the elements in x.\n",
    "    - params: List of PyTorch Tensors giving weights for the model\n",
    "    - learning_rate: Python scalar giving the learning rate to use for SGD\n",
    "    \n",
    "    Returns: val loss and train loss\n",
    "    \"\"\"\n",
    "    val_loss=[]\n",
    "    train_loss=[]\n",
    "    #lossfn=nn.CosineEmbeddingLoss(margin=0,reduction=\"mean\")\n",
    "    lossfn=nn.MSELoss()\n",
    "    model = model.to(device=device)  # move the model parameters to CPU/GPU\n",
    "    for e in range(epochs):\n",
    "        running_loss = 0\n",
    "        for t, (mic, fend,nend) in enumerate(loader_train):\n",
    "            \n",
    "           \n",
    "            x=torch.concat((mic,fend),1)\n",
    "            #print(x.shape)          \n",
    "            #iterate over each stft frame \n",
    "            x=x.to(device=device, dtype=dtype)\n",
    "            mic=mic.to(device=device, dtype=dtype)\n",
    "            nend=nend.to(device=device, dtype=dtype)\n",
    "            x=torch.permute(x, (0, 2, 1))\n",
    "            y=torch.permute(nend, (0, 2, 1))\n",
    "            mic=torch.permute(mic, (0, 2, 1))\n",
    "            pw_x=x*x\n",
    "            # Forward pass: compute scores and loss\n",
    "\n",
    "            mask = model(pw_x)\n",
    "            #print(mask.shape)\n",
    "            yhat= mask*mic\n",
    "\n",
    "            #yhat=yhat[:,:,:,-1]\n",
    "            #y=y[:,:,:,-1]\n",
    "\n",
    "            loss = Loss_MSE(yhat, y, lossfn)\n",
    "\n",
    "            # Zero out all of the gradients for the variables which the optimizer\n",
    "            # will update.\n",
    "            optimizer.zero_grad()\n",
    "\n",
    "            # This is the backwards pass: compute the gradient of the loss with\n",
    "            # respect to each  parameter of the model.\n",
    "            loss.backward()\n",
    "\n",
    "            # Actually update the parameters of the model using the gradients\n",
    "            # computed by the backwards pass.\n",
    "            optimizer.step()\n",
    "            # Update parameters. We don't want to backpropagate through the\n",
    "            running_loss += loss.item()\n",
    "            \n",
    "\n",
    "        if t % print_every == 0:\n",
    "            print('Epoch %d, Iteration %d, loss = %.8f' % (e, t, (running_loss/len(loader_train))))\n",
    "            train_loss.append(running_loss/len(loader_train))\n",
    "            #check_accuracy_part2(loader_val, model_fn, params)\n",
    "            \n",
    "        vloss=check_accuracy(loader_val,model,lossfn)\n",
    "        model.train()\n",
    "        val_loss.append(vloss)\n",
    "        scheduler.step(loss)\n",
    "    return (train_loss,val_loss)"
   ]
  },
  {
   "cell_type": "code",
   "execution_count": 13,
   "metadata": {},
   "outputs": [],
   "source": [
    "learning_rate = 1e-3\n",
    "nfft_len=511\n",
    "hop_size=nfft_len//4\n",
    "specdims=(256,64)\n",
    "model = LSTMNet(input_dim=specdims[0]*2, hidden_dim=25, fclayer_dim=25, output_dim=specdims[0], num_layers=1,dropout_prob=0.0)\n",
    "# you can use Nesterov momentum in optim.SGD\n",
    "#optimizer = optim.SGD(model.parameters(), lr=learning_rate,\n",
    "#                     momentum=0.9, nesterov=True)\n",
    "# you can use Nesterov momentum in optim.SGD\n",
    "optimizer = optim.Adam(model.parameters(), lr=learning_rate)\n",
    "scheduler = torch.optim.lr_scheduler.ReduceLROnPlateau(optimizer, 'min')"
   ]
  },
  {
   "cell_type": "code",
   "execution_count": 14,
   "metadata": {},
   "outputs": [
    {
     "data": {
      "text/plain": [
       "==========================================================================================\n",
       "Layer (type:depth-idx)                   Output Shape              Param #\n",
       "==========================================================================================\n",
       "LSTMNet                                  --                        --\n",
       "├─Linear: 1-1                            [4, 64, 25]               12,825\n",
       "├─Tanh: 1-2                              [4, 64, 25]               --\n",
       "├─LSTM: 1-3                              [4, 64, 25]               5,200\n",
       "├─Tanh: 1-4                              [4, 64, 25]               --\n",
       "├─Linear: 1-5                            [4, 64, 256]              6,656\n",
       "├─Sigmoid: 1-6                           [4, 64, 256]              --\n",
       "==========================================================================================\n",
       "Total params: 24,681\n",
       "Trainable params: 24,681\n",
       "Non-trainable params: 0\n",
       "Total mult-adds (M): 1.41\n",
       "==========================================================================================\n",
       "Input size (MB): 0.52\n",
       "Forward/backward pass size (MB): 0.63\n",
       "Params size (MB): 0.10\n",
       "Estimated Total Size (MB): 1.25\n",
       "=========================================================================================="
      ]
     },
     "execution_count": 14,
     "metadata": {},
     "output_type": "execute_result"
    }
   ],
   "source": [
    "batch_size = batch_size\n",
    "summary(model, input_size=(batch_size,specdims[1], specdims[0]*2))"
   ]
  },
  {
   "cell_type": "code",
   "execution_count": 15,
   "metadata": {},
   "outputs": [
    {
     "name": "stdout",
     "output_type": "stream",
     "text": [
      "Epoch 0, Iteration 624, loss = 1.08808520\n",
      "Checking accuracy on validation set\n",
      "Validation loss is 0.90925705\n",
      "Epoch 1, Iteration 624, loss = 0.92680097\n",
      "Checking accuracy on validation set\n",
      "Validation loss is 0.8303431\n",
      "Epoch 2, Iteration 624, loss = 0.87972965\n",
      "Checking accuracy on validation set\n",
      "Validation loss is 0.7954501\n",
      "Epoch 3, Iteration 624, loss = 0.84175049\n",
      "Checking accuracy on validation set\n",
      "Validation loss is 0.76908916\n",
      "Epoch 4, Iteration 624, loss = 0.82090729\n",
      "Checking accuracy on validation set\n",
      "Validation loss is 0.7578514\n",
      "Epoch 5, Iteration 624, loss = 0.79783728\n",
      "Checking accuracy on validation set\n",
      "Validation loss is 0.7371785\n",
      "Epoch 6, Iteration 624, loss = 0.78266505\n",
      "Checking accuracy on validation set\n",
      "Validation loss is 0.7297286\n",
      "Epoch 7, Iteration 624, loss = 0.77397678\n",
      "Checking accuracy on validation set\n",
      "Validation loss is 0.7094261\n",
      "Epoch 8, Iteration 624, loss = 0.75978932\n",
      "Checking accuracy on validation set\n",
      "Validation loss is 0.7046298\n",
      "Epoch 9, Iteration 624, loss = 0.74824104\n",
      "Checking accuracy on validation set\n",
      "Validation loss is 0.6895376\n",
      "Epoch 10, Iteration 624, loss = 0.74022794\n",
      "Checking accuracy on validation set\n",
      "Validation loss is 0.6829663\n",
      "Epoch 11, Iteration 624, loss = 0.73288109\n",
      "Checking accuracy on validation set\n",
      "Validation loss is 0.67869747\n",
      "Epoch 12, Iteration 624, loss = 0.72732474\n",
      "Checking accuracy on validation set\n",
      "Validation loss is 0.670531\n",
      "Epoch 13, Iteration 624, loss = 0.71739263\n",
      "Checking accuracy on validation set\n",
      "Validation loss is 0.6604707\n",
      "Epoch 14, Iteration 624, loss = 0.71061073\n",
      "Checking accuracy on validation set\n",
      "Validation loss is 0.6585099\n",
      "Epoch 15, Iteration 624, loss = 0.71158918\n",
      "Checking accuracy on validation set\n",
      "Validation loss is 0.653495\n",
      "Epoch 16, Iteration 624, loss = 0.71242411\n",
      "Checking accuracy on validation set\n",
      "Validation loss is 0.6568485\n",
      "Epoch 17, Iteration 624, loss = 0.70936253\n",
      "Checking accuracy on validation set\n",
      "Validation loss is 0.6396083\n",
      "Epoch 18, Iteration 624, loss = 0.70539389\n",
      "Checking accuracy on validation set\n",
      "Validation loss is 0.64166206\n",
      "Epoch 19, Iteration 624, loss = 0.69189814\n",
      "Checking accuracy on validation set\n",
      "Validation loss is 0.63148457\n",
      "Epoch 20, Iteration 624, loss = 0.68735707\n",
      "Checking accuracy on validation set\n",
      "Validation loss is 0.626832\n",
      "Epoch 21, Iteration 624, loss = 0.68231000\n",
      "Checking accuracy on validation set\n",
      "Validation loss is 0.62386465\n",
      "Epoch 22, Iteration 624, loss = 0.67404407\n",
      "Checking accuracy on validation set\n",
      "Validation loss is 0.61806893\n",
      "Epoch 23, Iteration 624, loss = 0.67786292\n",
      "Checking accuracy on validation set\n",
      "Validation loss is 0.6223121\n",
      "Epoch 24, Iteration 624, loss = 0.67207295\n",
      "Checking accuracy on validation set\n",
      "Validation loss is 0.6121763\n",
      "Epoch 25, Iteration 624, loss = 0.66692235\n",
      "Checking accuracy on validation set\n",
      "Validation loss is 0.6099104\n",
      "Epoch 26, Iteration 624, loss = 0.66201742\n",
      "Checking accuracy on validation set\n",
      "Validation loss is 0.6025576\n",
      "Epoch 27, Iteration 624, loss = 0.65691880\n",
      "Checking accuracy on validation set\n",
      "Validation loss is 0.609632\n",
      "Epoch 28, Iteration 624, loss = 0.65699906\n",
      "Checking accuracy on validation set\n",
      "Validation loss is 0.59816825\n",
      "Epoch 29, Iteration 624, loss = 0.65217398\n",
      "Checking accuracy on validation set\n",
      "Validation loss is 0.5902917\n",
      "Epoch 30, Iteration 624, loss = 0.65150033\n",
      "Checking accuracy on validation set\n",
      "Validation loss is 0.59284705\n",
      "Epoch 31, Iteration 624, loss = 0.65006877\n",
      "Checking accuracy on validation set\n",
      "Validation loss is 0.60609174\n",
      "Epoch 32, Iteration 624, loss = 0.65515030\n",
      "Checking accuracy on validation set\n",
      "Validation loss is 0.6030854\n",
      "Epoch 33, Iteration 624, loss = 0.65994954\n",
      "Checking accuracy on validation set\n",
      "Validation loss is 0.6017011\n",
      "Epoch 34, Iteration 624, loss = 0.64828935\n",
      "Checking accuracy on validation set\n",
      "Validation loss is 0.58703053\n",
      "Epoch 35, Iteration 624, loss = 0.63895494\n",
      "Checking accuracy on validation set\n",
      "Validation loss is 0.5773758\n",
      "Epoch 36, Iteration 624, loss = 0.62567831\n",
      "Checking accuracy on validation set\n",
      "Validation loss is 0.57023853\n",
      "Epoch 37, Iteration 624, loss = 0.61903237\n",
      "Checking accuracy on validation set\n",
      "Validation loss is 0.5636143\n",
      "Epoch 38, Iteration 624, loss = 0.61476681\n",
      "Checking accuracy on validation set\n",
      "Validation loss is 0.5594103\n",
      "Epoch 39, Iteration 624, loss = 0.61120466\n",
      "Checking accuracy on validation set\n",
      "Validation loss is 0.55648065\n",
      "Epoch 40, Iteration 624, loss = 0.60880161\n",
      "Checking accuracy on validation set\n",
      "Validation loss is 0.554592\n",
      "Epoch 41, Iteration 624, loss = 0.60672755\n",
      "Checking accuracy on validation set\n",
      "Validation loss is 0.5519248\n",
      "Epoch 42, Iteration 624, loss = 0.60457297\n",
      "Checking accuracy on validation set\n",
      "Validation loss is 0.54694366\n",
      "Epoch 43, Iteration 624, loss = 0.60192291\n",
      "Checking accuracy on validation set\n",
      "Validation loss is 0.545561\n",
      "Epoch 44, Iteration 624, loss = 0.60016995\n",
      "Checking accuracy on validation set\n",
      "Validation loss is 0.54256684\n",
      "Epoch 45, Iteration 624, loss = 0.59825574\n",
      "Checking accuracy on validation set\n",
      "Validation loss is 0.54039305\n",
      "Epoch 46, Iteration 624, loss = 0.59664710\n",
      "Checking accuracy on validation set\n",
      "Validation loss is 0.53879166\n",
      "Epoch 47, Iteration 624, loss = 0.59534001\n",
      "Checking accuracy on validation set\n",
      "Validation loss is 0.5369753\n",
      "Epoch 48, Iteration 624, loss = 0.59385346\n",
      "Checking accuracy on validation set\n",
      "Validation loss is 0.53549474\n",
      "Epoch 49, Iteration 624, loss = 0.59218298\n",
      "Checking accuracy on validation set\n",
      "Validation loss is 0.53390193\n",
      "Epoch 50, Iteration 624, loss = 0.59091185\n",
      "Checking accuracy on validation set\n",
      "Validation loss is 0.53196055\n",
      "Epoch 51, Iteration 624, loss = 0.58968018\n",
      "Checking accuracy on validation set\n",
      "Validation loss is 0.53088385\n",
      "Epoch 52, Iteration 624, loss = 0.58837399\n",
      "Checking accuracy on validation set\n",
      "Validation loss is 0.52924377\n",
      "Epoch 53, Iteration 624, loss = 0.58703081\n",
      "Checking accuracy on validation set\n",
      "Validation loss is 0.5285181\n",
      "Epoch 54, Iteration 624, loss = 0.58600279\n",
      "Checking accuracy on validation set\n",
      "Validation loss is 0.5272913\n",
      "Epoch 55, Iteration 624, loss = 0.58492071\n",
      "Checking accuracy on validation set\n",
      "Validation loss is 0.5259688\n",
      "Epoch 56, Iteration 624, loss = 0.58402640\n",
      "Checking accuracy on validation set\n",
      "Validation loss is 0.52510774\n",
      "Epoch 57, Iteration 624, loss = 0.58290465\n",
      "Checking accuracy on validation set\n",
      "Validation loss is 0.52400196\n",
      "Epoch 58, Iteration 624, loss = 0.58184726\n",
      "Checking accuracy on validation set\n",
      "Validation loss is 0.52385575\n",
      "Epoch 59, Iteration 624, loss = 0.58116430\n",
      "Checking accuracy on validation set\n",
      "Validation loss is 0.5222642\n",
      "Epoch 60, Iteration 624, loss = 0.58018938\n",
      "Checking accuracy on validation set\n",
      "Validation loss is 0.5214195\n",
      "Epoch 61, Iteration 624, loss = 0.57950450\n",
      "Checking accuracy on validation set\n",
      "Validation loss is 0.5207241\n",
      "Epoch 62, Iteration 624, loss = 0.57889439\n",
      "Checking accuracy on validation set\n",
      "Validation loss is 0.5194147\n",
      "Epoch 63, Iteration 624, loss = 0.57773629\n",
      "Checking accuracy on validation set\n",
      "Validation loss is 0.5188782\n",
      "Epoch 64, Iteration 624, loss = 0.57689035\n",
      "Checking accuracy on validation set\n",
      "Validation loss is 0.5179956\n",
      "Epoch 65, Iteration 624, loss = 0.57637385\n",
      "Checking accuracy on validation set\n",
      "Validation loss is 0.51725733\n",
      "Epoch 66, Iteration 624, loss = 0.57438894\n",
      "Checking accuracy on validation set\n",
      "Validation loss is 0.5163265\n",
      "Epoch 67, Iteration 624, loss = 0.57377713\n",
      "Checking accuracy on validation set\n",
      "Validation loss is 0.5157366\n",
      "Epoch 68, Iteration 624, loss = 0.57341324\n",
      "Checking accuracy on validation set\n",
      "Validation loss is 0.5153397\n",
      "Epoch 69, Iteration 624, loss = 0.57315492\n",
      "Checking accuracy on validation set\n",
      "Validation loss is 0.5149466\n",
      "Epoch 70, Iteration 624, loss = 0.57288920\n",
      "Checking accuracy on validation set\n",
      "Validation loss is 0.51471645\n",
      "Epoch 71, Iteration 624, loss = 0.57268651\n",
      "Checking accuracy on validation set\n",
      "Validation loss is 0.5144728\n",
      "Epoch 72, Iteration 624, loss = 0.57251256\n",
      "Checking accuracy on validation set\n",
      "Validation loss is 0.5142736\n",
      "Epoch 73, Iteration 624, loss = 0.57235237\n",
      "Checking accuracy on validation set\n",
      "Validation loss is 0.5140781\n",
      "Epoch 74, Iteration 624, loss = 0.57219675\n",
      "Checking accuracy on validation set\n",
      "Validation loss is 0.5139193\n",
      "Epoch 75, Iteration 624, loss = 0.57205177\n",
      "Checking accuracy on validation set\n",
      "Validation loss is 0.51373005\n",
      "Epoch 76, Iteration 624, loss = 0.57190990\n",
      "Checking accuracy on validation set\n",
      "Validation loss is 0.5135854\n",
      "Epoch 77, Iteration 624, loss = 0.57159784\n",
      "Checking accuracy on validation set\n",
      "Validation loss is 0.5135481\n",
      "Epoch 78, Iteration 624, loss = 0.57157688\n",
      "Checking accuracy on validation set\n",
      "Validation loss is 0.5135178\n",
      "Epoch 79, Iteration 624, loss = 0.57155920\n",
      "Checking accuracy on validation set\n",
      "Validation loss is 0.51349163\n",
      "Epoch 80, Iteration 624, loss = 0.57154297\n",
      "Checking accuracy on validation set\n",
      "Validation loss is 0.51346785\n",
      "Epoch 81, Iteration 624, loss = 0.57152766\n",
      "Checking accuracy on validation set\n",
      "Validation loss is 0.5134464\n",
      "Epoch 82, Iteration 624, loss = 0.57151308\n",
      "Checking accuracy on validation set\n",
      "Validation loss is 0.5134264\n",
      "Epoch 83, Iteration 624, loss = 0.57149902\n",
      "Checking accuracy on validation set\n",
      "Validation loss is 0.5134073\n",
      "Epoch 84, Iteration 624, loss = 0.57148528\n",
      "Checking accuracy on validation set\n",
      "Validation loss is 0.51338947\n",
      "Epoch 85, Iteration 624, loss = 0.57147178\n",
      "Checking accuracy on validation set\n",
      "Validation loss is 0.5133715\n",
      "Epoch 86, Iteration 624, loss = 0.57145851\n",
      "Checking accuracy on validation set\n",
      "Validation loss is 0.5133547\n",
      "Epoch 87, Iteration 624, loss = 0.57144547\n",
      "Checking accuracy on validation set\n",
      "Validation loss is 0.5133379\n",
      "Epoch 88, Iteration 624, loss = 0.57141169\n",
      "Checking accuracy on validation set\n",
      "Validation loss is 0.51333576\n",
      "Epoch 89, Iteration 624, loss = 0.57141043\n",
      "Checking accuracy on validation set\n",
      "Validation loss is 0.5133341\n",
      "Epoch 90, Iteration 624, loss = 0.57140917\n",
      "Checking accuracy on validation set\n",
      "Validation loss is 0.51333225\n",
      "Epoch 91, Iteration 624, loss = 0.57140792\n",
      "Checking accuracy on validation set\n",
      "Validation loss is 0.5133304\n",
      "Epoch 92, Iteration 624, loss = 0.57140667\n",
      "Checking accuracy on validation set\n",
      "Validation loss is 0.51332855\n",
      "Epoch 93, Iteration 624, loss = 0.57140542\n",
      "Checking accuracy on validation set\n",
      "Validation loss is 0.51332694\n",
      "Epoch 94, Iteration 624, loss = 0.57140417\n",
      "Checking accuracy on validation set\n",
      "Validation loss is 0.513325\n",
      "Epoch 95, Iteration 624, loss = 0.57140292\n",
      "Checking accuracy on validation set\n",
      "Validation loss is 0.5133233\n",
      "Epoch 96, Iteration 624, loss = 0.57140168\n",
      "Checking accuracy on validation set\n",
      "Validation loss is 0.5133216\n",
      "Epoch 97, Iteration 624, loss = 0.57140044\n",
      "Checking accuracy on validation set\n",
      "Validation loss is 0.51331985\n",
      "Epoch 98, Iteration 624, loss = 0.57139921\n",
      "Checking accuracy on validation set\n",
      "Validation loss is 0.5133179\n",
      "Epoch 99, Iteration 624, loss = 0.57139577\n",
      "Checking accuracy on validation set\n",
      "Validation loss is 0.5133176\n",
      "Epoch 100, Iteration 624, loss = 0.57139570\n",
      "Checking accuracy on validation set\n",
      "Validation loss is 0.5133175\n",
      "Epoch 101, Iteration 624, loss = 0.57139563\n",
      "Checking accuracy on validation set\n",
      "Validation loss is 0.5133175\n"
     ]
    },
    {
     "ename": "KeyboardInterrupt",
     "evalue": "",
     "output_type": "error",
     "traceback": [
      "\u001b[0;31m---------------------------------------------------------------------------\u001b[0m",
      "\u001b[0;31mKeyboardInterrupt\u001b[0m                         Traceback (most recent call last)",
      "\u001b[1;32m/home/prasad/AEC/model/LSTM_AEC_256x64_xlayers.ipynb Cell 15'\u001b[0m in \u001b[0;36m<cell line: 1>\u001b[0;34m()\u001b[0m\n\u001b[0;32m----> <a href='vscode-notebook-cell://ssh-remote%2B137.110.119.158/home/prasad/AEC/model/LSTM_AEC_256x64_xlayers.ipynb#ch0000014vscode-remote?line=0'>1</a>\u001b[0m (train_loss,val_loss)\u001b[39m=\u001b[39mtrain_model(model, optimizer, scheduler,\u001b[39m200\u001b[39;49m)\n",
      "\u001b[1;32m/home/prasad/AEC/model/LSTM_AEC_256x64_xlayers.ipynb Cell 12'\u001b[0m in \u001b[0;36mtrain_model\u001b[0;34m(model, optimizer, scheduler, epochs)\u001b[0m\n\u001b[1;32m     <a href='vscode-notebook-cell://ssh-remote%2B137.110.119.158/home/prasad/AEC/model/LSTM_AEC_256x64_xlayers.ipynb#ch0000011vscode-remote?line=26'>27</a>\u001b[0m x\u001b[39m=\u001b[39mtorch\u001b[39m.\u001b[39mconcat((mic,fend),\u001b[39m1\u001b[39m)\n\u001b[1;32m     <a href='vscode-notebook-cell://ssh-remote%2B137.110.119.158/home/prasad/AEC/model/LSTM_AEC_256x64_xlayers.ipynb#ch0000011vscode-remote?line=27'>28</a>\u001b[0m \u001b[39m#print(x.shape)          \u001b[39;00m\n\u001b[1;32m     <a href='vscode-notebook-cell://ssh-remote%2B137.110.119.158/home/prasad/AEC/model/LSTM_AEC_256x64_xlayers.ipynb#ch0000011vscode-remote?line=28'>29</a>\u001b[0m \u001b[39m#iterate over each stft frame \u001b[39;00m\n\u001b[0;32m---> <a href='vscode-notebook-cell://ssh-remote%2B137.110.119.158/home/prasad/AEC/model/LSTM_AEC_256x64_xlayers.ipynb#ch0000011vscode-remote?line=29'>30</a>\u001b[0m x\u001b[39m=\u001b[39mx\u001b[39m.\u001b[39;49mto(device\u001b[39m=\u001b[39;49mdevice, dtype\u001b[39m=\u001b[39;49mdtype)\n\u001b[1;32m     <a href='vscode-notebook-cell://ssh-remote%2B137.110.119.158/home/prasad/AEC/model/LSTM_AEC_256x64_xlayers.ipynb#ch0000011vscode-remote?line=30'>31</a>\u001b[0m mic\u001b[39m=\u001b[39mmic\u001b[39m.\u001b[39mto(device\u001b[39m=\u001b[39mdevice, dtype\u001b[39m=\u001b[39mdtype)\n\u001b[1;32m     <a href='vscode-notebook-cell://ssh-remote%2B137.110.119.158/home/prasad/AEC/model/LSTM_AEC_256x64_xlayers.ipynb#ch0000011vscode-remote?line=31'>32</a>\u001b[0m nend\u001b[39m=\u001b[39mnend\u001b[39m.\u001b[39mto(device\u001b[39m=\u001b[39mdevice, dtype\u001b[39m=\u001b[39mdtype)\n",
      "\u001b[0;31mKeyboardInterrupt\u001b[0m: "
     ]
    }
   ],
   "source": [
    "(train_loss,val_loss)=train_model(model, optimizer, scheduler,200)"
   ]
  },
  {
   "cell_type": "code",
   "execution_count": 16,
   "metadata": {},
   "outputs": [],
   "source": [
    "model_path= \"./misc/aec_lstm_256x64.pth\"\n",
    "torch.save(model.state_dict(),model_path)"
   ]
  },
  {
   "cell_type": "code",
   "execution_count": 17,
   "metadata": {},
   "outputs": [
    {
     "data": {
      "text/plain": [
       "<All keys matched successfully>"
      ]
     },
     "execution_count": 17,
     "metadata": {},
     "output_type": "execute_result"
    }
   ],
   "source": [
    "model_path= \"./misc/aec_lstm_256x64.pth\"\n",
    "model=LSTMNet(input_dim=specdims[0]*2, hidden_dim=25, fclayer_dim=25, output_dim=specdims[0], num_layers=1,dropout_prob=0.0)\n",
    "model.load_state_dict(torch.load(model_path))"
   ]
  },
  {
   "cell_type": "code",
   "execution_count": 18,
   "metadata": {},
   "outputs": [],
   "source": [
    "dataset=ICASSPDatasetHelper()\n",
    "#test_index=19485\n",
    "#test_index=1970\n",
    "test_index=1290\n",
    "model.to(device=\"cpu\")\n",
    "mic,_= dataset.get_indxd_file(test_index,2)\n",
    "fend,_= dataset.get_indxd_file(test_index,3)\n",
    "nend,_= dataset.get_indxd_file(test_index,4)\n",
    "echo,_= dataset.get_indxd_file(test_index,1)\n",
    "mic = torch.tensor(mic)\n",
    "fend = torch.tensor(fend)\n",
    "nend = torch.tensor(nend)\n",
    "y=torch.permute(mic,(1,0))\n",
    "x=torch.concat((mic,fend),0)\n",
    "x= torch.permute(x,(1,0))\n",
    "x=x.unsqueeze(0)\n",
    "x=x.to(dtype=torch.float32)\n",
    "model.eval()\n",
    "with torch.no_grad():\n",
    "    out=model(x*x)\n",
    "out = out *y\n",
    "out=out.squeeze(0)\n",
    "out= torch.permute(out,(1,0))"
   ]
  },
  {
   "cell_type": "code",
   "execution_count": 19,
   "metadata": {},
   "outputs": [
    {
     "data": {
      "image/png": "[encoded data removed]",
      "text/plain": [
       "<Figure size 432x288 with 4 Axes>"
      ]
     },
     "metadata": {
      "needs_background": "light"
     },
     "output_type": "display_data"
    }
   ],
   "source": [
    "plt.figure()\n",
    "plt.title(\"Comparison of echo cancellation output vs Ground Truth\")\n",
    "ax1=plt.subplot(1,4,1)\n",
    "ax1.imshow(np.flip(mic.numpy(),0))\n",
    "ax1.title.set_text(\"mic input\")\n",
    "ax2=plt.subplot(1,4,2)\n",
    "ax2.imshow(np.flip(out.cpu().numpy()))\n",
    "ax2.title.set_text(\"output\")\n",
    "ax3=plt.subplot(1,4,3)\n",
    "ax3.imshow(np.flip(nend.numpy()))\n",
    "ax3.title.set_text(\"GT near end\")\n",
    "ax4=plt.subplot(1,4,4)\n",
    "ax4.imshow(np.flip(echo))\n",
    "ax4.title.set_text(\"echo\")"
   ]
  },
  {
   "cell_type": "code",
   "execution_count": 20,
   "metadata": {},
   "outputs": [
    {
     "ename": "NameError",
     "evalue": "name 'train_loss' is not defined",
     "output_type": "error",
     "traceback": [
      "\u001b[0;31m---------------------------------------------------------------------------\u001b[0m",
      "\u001b[0;31mNameError\u001b[0m                                 Traceback (most recent call last)",
      "\u001b[1;32m/home/prasad/AEC/model/LSTM_AEC_256x64_xlayers.ipynb Cell 20'\u001b[0m in \u001b[0;36m<cell line: 1>\u001b[0;34m()\u001b[0m\n\u001b[0;32m----> <a href='vscode-notebook-cell://ssh-remote%2B137.110.119.158/home/prasad/AEC/model/LSTM_AEC_256x64_xlayers.ipynb#ch0000019vscode-remote?line=0'>1</a>\u001b[0m plt\u001b[39m.\u001b[39mplot(train_loss)\n\u001b[1;32m      <a href='vscode-notebook-cell://ssh-remote%2B137.110.119.158/home/prasad/AEC/model/LSTM_AEC_256x64_xlayers.ipynb#ch0000019vscode-remote?line=1'>2</a>\u001b[0m plt\u001b[39m.\u001b[39mplot(val_loss)\n\u001b[1;32m      <a href='vscode-notebook-cell://ssh-remote%2B137.110.119.158/home/prasad/AEC/model/LSTM_AEC_256x64_xlayers.ipynb#ch0000019vscode-remote?line=2'>3</a>\u001b[0m plt\u001b[39m.\u001b[39mlegend([\u001b[39m\"\u001b[39m\u001b[39mtrain loss\u001b[39m\u001b[39m\"\u001b[39m,\u001b[39m\"\u001b[39m\u001b[39mvalidation loss\u001b[39m\u001b[39m\"\u001b[39m])\n",
      "\u001b[0;31mNameError\u001b[0m: name 'train_loss' is not defined"
     ]
    }
   ],
   "source": [
    "plt.plot(train_loss)\n",
    "plt.plot(val_loss)\n",
    "plt.legend([\"train loss\",\"validation loss\"])"
   ]
  },
  {
   "cell_type": "markdown",
   "metadata": {},
   "source": [
    "Run a test file using the model to process and remove the echo"
   ]
  },
  {
   "cell_type": "code",
   "execution_count": 21,
   "metadata": {},
   "outputs": [],
   "source": [
    "file_indx=42\n",
    "mic_sig,_=librosa.load(\"../dataset/AEC-Challenge/datasets/synthetic/nearend_mic_signal/nearend_mic_fileid_\"+str(file_indx)+\".wav\",sr=8000)\n",
    "fend_sig,_=librosa.load(\"../dataset/AEC-Challenge/datasets/synthetic/farend_speech/farend_speech_fileid_\"+str(file_indx)+\".wav\",sr=8000)\n",
    "nend_sig,_=librosa.load(\"../dataset/AEC-Challenge/datasets/synthetic/nearend_speech/nearend_speech_fileid_\"+str(file_indx)+\".wav\",sr=8000)\n",
    "echo_sig,_=librosa.load(\"../dataset/AEC-Challenge/datasets/synthetic/echo_signal/echo_fileid_\"+str(file_indx)+\".wav\",sr=8000)\n"
   ]
  },
  {
   "cell_type": "code",
   "execution_count": 22,
   "metadata": {},
   "outputs": [],
   "source": [
    "nfft_len=511\n",
    "mic_stft=librosa.stft(mic_sig,n_fft=nfft_len, hop_length=nfft_len//4,center=True)\n",
    "fend_stft=librosa.stft(fend_sig,n_fft=nfft_len, hop_length=nfft_len//4,center=True)\n",
    "nend_stft=librosa.stft(nend_sig,n_fft=nfft_len, hop_length=nfft_len//4,center=True)"
   ]
  },
  {
   "cell_type": "code",
   "execution_count": 23,
   "metadata": {},
   "outputs": [
    {
     "name": "stdout",
     "output_type": "stream",
     "text": [
      "(79884,)\n"
     ]
    }
   ],
   "source": [
    "\n",
    "fx=librosa.stft(fend_sig,n_fft=511,hop_length=511//4)\n",
    "res_spec=np.zeros_like(fx)\n",
    "for i in range(0,8):\n",
    "    mic=  mic_stft[:,specdims[1]*i:specdims[1]*i+specdims[1]]\n",
    "    fend= fend_stft[:,specdims[1]*i:specdims[1]*i+specdims[1]]\n",
    "    nend= nend_stft[:,specdims[1]*i:specdims[1]*i+specdims[1]]\n",
    "    tmic = torch.tensor(abs(mic))\n",
    "    tfend = torch.tensor(abs(fend))\n",
    "    tnend = torch.tensor(abs(nend))\n",
    "    y=torch.permute(tmic,(1,0))\n",
    "    x=torch.concat((tmic,tfend),0)\n",
    "    x= torch.permute(x,(1,0))\n",
    "    x=x.unsqueeze(0)\n",
    "    x=x.to(dtype=torch.float32)\n",
    "    model.eval()\n",
    "    with torch.no_grad():\n",
    "        out=model(x*x)\n",
    "    out = out*y\n",
    "    out=out.squeeze(0)\n",
    "    out= torch.permute(out,(1,0))\n",
    "    out=out.cpu().numpy()\n",
    "    mag,ph=librosa.magphase(mic)\n",
    "    out=out*ph\n",
    "    #print(out.shape)\n",
    "    res_spec[:,specdims[1]*i:specdims[1]*i+specdims[1]]=out\n",
    "    #specs[:,specdims[1]*i:specdims[1]*i+specdims[1]]=out*spec\n",
    "res_nend=librosa.istft(res_spec,hop_length=nfft_len//4,n_fft=nfft_len)\n",
    "#res_nend=librosa.util.normalize(res_nend)\n",
    "print(res_nend.shape)"
   ]
  },
  {
   "cell_type": "code",
   "execution_count": 24,
   "metadata": {},
   "outputs": [
    {
     "data": {
      "text/plain": [
       "[<matplotlib.lines.Line2D at 0x7f83de87f9a0>]"
      ]
     },
     "execution_count": 24,
     "metadata": {},
     "output_type": "execute_result"
    },
    {
     "data": {
      "image/png": "[encoded data removed]",
      "text/plain": [
       "<Figure size 432x288 with 1 Axes>"
      ]
     },
     "metadata": {
      "needs_background": "light"
     },
     "output_type": "display_data"
    },
    {
     "data": {
      "image/png": "[encoded data removed]",
      "text/plain": [
       "<Figure size 432x288 with 1 Axes>"
      ]
     },
     "metadata": {
      "needs_background": "light"
     },
     "output_type": "display_data"
    },
    {
     "data": {
      "image/png": "[encoded data removed]",
      "text/plain": [
       "<Figure size 432x288 with 1 Axes>"
      ]
     },
     "metadata": {
      "needs_background": "light"
     },
     "output_type": "display_data"
    }
   ],
   "source": [
    "plt.figure()\n",
    "plt.plot(mic_sig)\n",
    "plt.plot(res_nend)\n",
    "plt.figure()\n",
    "plt.plot(nend_sig)\n",
    "plt.figure()\n",
    "plt.plot(echo_sig)\n"
   ]
  },
  {
   "cell_type": "markdown",
   "metadata": {},
   "source": [
    "Dump processed files"
   ]
  },
  {
   "cell_type": "code",
   "execution_count": 105,
   "metadata": {},
   "outputs": [],
   "source": [
    "wav.write(\"../op/echo_cancelled_fileid_\"+str(file_indx)+\".wav\", 8000, res_nend)\n",
    "wav.write(\"../op/mic_fileid_\"+str(file_indx)+\".wav\", 8000, mic_sig)\n",
    "wav.write(\"../op/nend_fileid_\"+str(file_indx)+\".wav\", 8000, nend_sig)\n",
    "wav.write(\"../op/fend_fileid_\"+str(file_indx)+\".wav\", 8000, fend_sig)"
   ]
  },
  {
   "cell_type": "code",
   "execution_count": null,
   "metadata": {},
   "outputs": [],
   "source": [
    "x=librosa.util.normalize(x)\n",
    "a,_,_=sp.aryule(x,order=20)\n",
    "pwhite_x=signal.lfilter(a,[1],x)\n",
    "lpf=[1,0.99]\n",
    "#pwhite_x=signal.lfilter([1],lpf,x)\n",
    "plt.figure()\n",
    "plt.psd(pwhite_x,NFFT=1024,Fs=8000,noverlap=256)\n",
    "plt.psd(d,NFFT=1024,Fs=8000,noverlap=256)\n",
    "plt.legend([\"prewhitened psd\", \"original psd\"])\n",
    "plt.show()"
   ]
  },
  {
   "cell_type": "code",
   "execution_count": 30,
   "metadata": {},
   "outputs": [],
   "source": [
    "class NLMS():\n",
    "    #initialize\n",
    "    def __init__(self,mu,taps):\n",
    "        self.mu=mu\n",
    "        self.N=taps\n",
    "        self.e=0\n",
    "        self.w=np.zeros((taps,1))\n",
    "        self.xd=np.zeros((taps,1))\n",
    "\n",
    "    #updates the filter sample by sample and updates weights sample by sample\n",
    "    def run(self,x,d):\n",
    "        N=self.N\n",
    "        #udpate delay line \n",
    "        self.xd[0]=x\n",
    "\n",
    "        a,_,_=sp.aryule( self.xd,order=20)\n",
    "        px=signal.lfilter(a,[1], self.xd)    \n",
    "\n",
    "        #compute filter output\n",
    "        y = np.dot(self.w.T,px)\n",
    "        #compute input energy\n",
    "        pw=np.linalg.norm(px)\n",
    "        pw=pw*pw\n",
    "        #pw=pw*pw\n",
    "        #calculate error\n",
    "        e = d - y\n",
    "        self.e=e\n",
    "\n",
    "        #normalize by input energy\n",
    "        e= e/(pw+0.0000000001)\n",
    "        #compute gradients\n",
    "        Fw=self.mu*np.multiply(px,e)\n",
    "        \n",
    "        Fw=Fw.reshape(Fw.shape[0],-1)\n",
    "        #weight update\n",
    "        self.w = self.w + Fw\n",
    "    \n",
    "        #filtered output post update\n",
    "        y = np.dot(self.w.T,self.xd)\n",
    "        #shift delay line\n",
    "        self.xd[1:]=self.xd[:-1]\n",
    " \n",
    "        #return current output sample, current error sample and current weights\n",
    "        return (y,self.e,self.w)"
   ]
  },
  {
   "cell_type": "code",
   "execution_count": 31,
   "metadata": {},
   "outputs": [],
   "source": [
    "#test wrapper for NLMS filter on aec data for single talk case\n",
    "taps=1024\n",
    "lmscls= NLMS(0.0001,taps)\n",
    "w1=np.zeros((taps,1))\n",
    "y1=np.zeros_like(fend_sig)\n",
    "e1=np.zeros_like(fend_sig)\n",
    "for i in range(0,len(res_nend)):\n",
    "    (y1[i],e1[i],w3)=lmscls.run(fend_sig[i],res_nend[i])"
   ]
  },
  {
   "cell_type": "code",
   "execution_count": 108,
   "metadata": {},
   "outputs": [
    {
     "data": {
      "text/plain": [
       "[<matplotlib.lines.Line2D at 0x7f723a1cba60>]"
      ]
     },
     "execution_count": 108,
     "metadata": {},
     "output_type": "execute_result"
    },
    {
     "data": {
      "image/png": "[encoded data removed]",
      "text/plain": [
       "<Figure size 432x288 with 1 Axes>"
      ]
     },
     "metadata": {
      "needs_background": "light"
     },
     "output_type": "display_data"
    },
    {
     "data": {
      "image/png": "[encoded data removed]",
      "text/plain": [
       "<Figure size 432x288 with 1 Axes>"
      ]
     },
     "metadata": {
      "needs_background": "light"
     },
     "output_type": "display_data"
    }
   ],
   "source": [
    "plt.figure()\n",
    "plt.plot(mic_sig)\n",
    "plt.plot(e1)\n",
    "plt.figure()\n",
    "plt.plot(nend_sig)\n"
   ]
  },
  {
   "cell_type": "code",
   "execution_count": 66,
   "metadata": {},
   "outputs": [],
   "source": [
    "wav.write(\"../op/lmsnecho_cancelled_fileid_\"+str(file_indx)+\".wav\", 8000, e1)\n",
    "wav.write(\"../op/mic_fileid_\"+str(file_indx)+\".wav\", 8000, mic_sig)\n",
    "wav.write(\"../op/nend_fileid_\"+str(file_indx)+\".wav\", 8000, nend_sig)\n",
    "wav.write(\"../op/fend_fileid_\"+str(file_indx)+\".wav\", 8000, fend_sig)"
   ]
  },
  {
   "cell_type": "code",
   "execution_count": null,
   "metadata": {},
   "outputs": [],
   "source": []
  }
 ],
 "metadata": {
  "interpreter": {
   "hash": "9f5c7ac77e593d0994949fe61f06040dedc773eb228097f0a804bc0d2d8d2f83"
  },
  "kernelspec": {
   "display_name": "Python 3.9.12 ('aec': conda)",
   "language": "python",
   "name": "python3"
  },
  "language_info": {
   "codemirror_mode": {
    "name": "ipython",
    "version": 3
   },
   "file_extension": ".py",
   "mimetype": "text/x-python",
   "name": "python",
   "nbconvert_exporter": "python",
   "pygments_lexer": "ipython3",
   "version": "3.9.12"
  },
  "orig_nbformat": 4
 },
 "nbformat": 4,
 "nbformat_minor": 2
}
