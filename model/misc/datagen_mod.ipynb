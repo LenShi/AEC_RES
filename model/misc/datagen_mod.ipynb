{
 "cells": [
  {
   "cell_type": "code",
   "execution_count": 2,
   "metadata": {},
   "outputs": [],
   "source": [
    "import os \n",
    "import numpy as np\n",
    "import librosa \n",
    "import json\n",
    "import cv2\n",
    "\n",
    "def get_file_descriptors(dirpath):\n",
    "    directory={}\n",
    "    dataset_path=dirpath\n",
    "    cwd= os.getcwd()\n",
    "    for i , (dirpath, dirname, filename) in enumerate(os.walk(dataset_path)):\n",
    "        if(dirpath!=dataset_path):\n",
    "            dirname=dirpath.split(\"/\")[-1]\n",
    "            files={}\n",
    "            file_list=[]\n",
    "            index=0\n",
    "            for file in filename:\n",
    "                filepath = os.path.join( dirpath, file)\n",
    "                if ( (filepath.endswith('.wav'))):\n",
    "                    if(file.startswith('.')):\n",
    "                        pass\n",
    "                    else:\n",
    "                        file_list.append(filepath)\n",
    "            file_list.sort()\n",
    "            if(len(file_list)>0):\n",
    "                for filepath in file_list:\n",
    "                    files[index]=filepath\n",
    "                    index+=1\n",
    "                directory[dirname]=files\n",
    "    return directory\n"
   ]
  },
  {
   "cell_type": "code",
   "execution_count": null,
   "metadata": {},
   "outputs": [],
   "source": [
    "class AudioPreProcess():\n",
    "    #initialization \n",
    "    def __init__(self,fft_len,hop_size,trim_dur,spectogram_dims):\n",
    "        self.sample_rate=8000\n",
    "        self.dataset=get_file_descriptors(\"../../dataset_daps/daps\")\n",
    "        openfile=open(self.dir, \"r\")\n",
    "        self.dataset_dict= json.load(openfile)\n",
    "        indx=2\n",
    "        self.keys={}\n",
    "        #in seconds\n",
    "        self.file_duration=trim_dur\n",
    "        #in samples\n",
    "        self.hop_size=hop_size\n",
    "        self.fft_len=fft_len\n",
    "        file_duration_samples=self.file_duration*self.sample_rate\n",
    "        self.num_of_spec_frames=file_duration_samples//(spectogram_dims[1]*self.hop_size)\n",
    "        self.spec_slice=spectogram_dims[1]\n",
    "        self.file_ptr=0\n",
    "        \n",
    "        for key  in self.dataset_dict.keys():\n",
    "            if(key==\"produced\"):\n",
    "                self.keys[1]=key\n",
    "            else:\n",
    "                self.keys[indx]=key\n",
    "                indx+=1\n",
    "\n",
    "        self.num_files_per_category=len(self.dataset_dict[\"produced\"].keys())\n",
    "\n",
    "    #get the indexed file and sample rate\n",
    "    def get_indxd_file(self,indx):\n",
    "        \n",
    "        category_label=self.keys[1]\n",
    "        #consider one category for now\n",
    "        category_data=self.keys[3]\n",
    "\n",
    "        offset=np.mod(indx,self.num_of_spec_frames)\n",
    "        if(offset==0):\n",
    "             file_path=self.dataset[category_data][str(self.file_ptr)]\n",
    "             data,sr=librosa.load(file_path,sr=8000,duration=10)\n",
    "             self.data_spec=librosa.stft(data,n_fft=self.fft_len,hop_length=self.hop_size,window='hann',center=True,dtype=None, pad_mode='constant')\n",
    "             file_path=self.dataset[category_label][str(self.file_ptr)]\n",
    "             label,sr=librosa.load(\"../../dataset_daps/daps/ipad_balcony1/f1_script1_ipad_balcony1.wav\",sr=8000,duration=10)\n",
    "             self.label_spec=librosa.stft(data,n_fft=self.fft_len,hop_length=self.hop_size,window='hann',center=True,dtype=None, pad_mode='constant')\n",
    "        return (data,Id)"
   ]
  },
  {
   "cell_type": "code",
   "execution_count": 4,
   "metadata": {},
   "outputs": [
    {
     "name": "stdout",
     "output_type": "stream",
     "text": [
      "(160, 1001)\n"
     ]
    }
   ],
   "source": [
    "file,sr=librosa.load(\"../../dataset_daps/daps/ipad_balcony1/f1_script1_ipad_balcony1.wav\",sr=8000,duration=10)\n",
    "stft_f=librosa.stft(file,n_fft=318,hop_length=80,window='hann',center=True,dtype=None, pad_mode='constant')\n",
    "print(stft_f.shape)\n"
   ]
  },
  {
   "cell_type": "code",
   "execution_count": null,
   "metadata": {},
   "outputs": [],
   "source": []
  }
 ],
 "metadata": {
  "interpreter": {
   "hash": "9f5c7ac77e593d0994949fe61f06040dedc773eb228097f0a804bc0d2d8d2f83"
  },
  "kernelspec": {
   "display_name": "Python 3.9.12 ('aec': conda)",
   "language": "python",
   "name": "python3"
  },
  "language_info": {
   "codemirror_mode": {
    "name": "ipython",
    "version": 3
   },
   "file_extension": ".py",
   "mimetype": "text/x-python",
   "name": "python",
   "nbconvert_exporter": "python",
   "pygments_lexer": "ipython3",
   "version": "3.9.12"
  },
  "orig_nbformat": 4
 },
 "nbformat": 4,
 "nbformat_minor": 2
}
