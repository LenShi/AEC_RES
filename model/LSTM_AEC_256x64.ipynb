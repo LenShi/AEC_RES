{
 "cells": [
  {
   "cell_type": "code",
   "execution_count": 1,
   "metadata": {},
   "outputs": [
    {
     "name": "stderr",
     "output_type": "stream",
     "text": [
      "/home/prasad/anaconda3/envs/aec/lib/python3.9/site-packages/tqdm/auto.py:22: TqdmWarning: IProgress not found. Please update jupyter and ipywidgets. See https://ipywidgets.readthedocs.io/en/stable/user_install.html\n",
      "  from .autonotebook import tqdm as notebook_tqdm\n"
     ]
    }
   ],
   "source": [
    "import torch\n",
    "from torch.utils.data import Dataset, DataLoader\n",
    "import numpy as np\n",
    "import torch.nn as nn\n",
    "import librosa\n",
    "import librosa.display\n",
    "from torch.utils.data import sampler\n",
    "import torch.optim as optim\n",
    "import json\n",
    "import matplotlib.pyplot as plt\n",
    "import scipy.io.wavfile as wav\n",
    "from torchinfo import summary"
   ]
  },
  {
   "cell_type": "code",
   "execution_count": 2,
   "metadata": {},
   "outputs": [],
   "source": [
    "class ICASSPDatasetHelper():\n",
    "    #initialization \n",
    "    def __init__(self):\n",
    "        self.sample_rate=8000\n",
    "        fft_len=40\n",
    "        hop_len=10\n",
    "        self.dir= \"./icassp_LUT_256x64.json\"\n",
    "        openfile=open(self.dir, \"r\")\n",
    "        self.dataset_dict= json.load(openfile)\n",
    "        indx=1\n",
    "        self.keys={}\n",
    "        for key  in self.dataset_dict.keys():\n",
    "            self.keys[indx]=key\n",
    "            indx+=1\n",
    "\n",
    "        self.num_files_per_category=len(self.dataset_dict[\"echo_signal\"].keys())\n",
    "\n",
    "    #get the indexed file and sample rate\n",
    "    def get_indxd_file(self,indx,src):\n",
    "        category=self.keys[src]\n",
    "        #load magnitude spectrum\n",
    "        data=abs(np.load(self.dataset_dict[category][str(indx)]))\n",
    "        Id= self.dataset_dict[category][str(indx)].split(\"/\")[-1].split('.')[0]\n",
    "        return (data,Id)\n",
    "\n",
    "    #get the indexed file and sample rate\n",
    "    def get_indxd_filestft(self,indx,src):\n",
    "        category=self.keys[src]\n",
    "        #load magnitude spectrum\n",
    "        data=np.load(self.dataset_dict[category][str(indx)])\n",
    "        Id= self.dataset_dict[category][str(indx)].split(\"/\")[-1].split('.')[0]\n",
    "        return (data,Id)"
   ]
  },
  {
   "cell_type": "code",
   "execution_count": 3,
   "metadata": {},
   "outputs": [],
   "source": [
    "class ICASSP(Dataset):\n",
    "    def __init__(self):\n",
    "        #super().__init__(self)\n",
    "        self.daps= ICASSPDatasetHelper()\n",
    "\n",
    "    def __getitem__(self, index):\n",
    "        mic,id=self.daps.get_indxd_file(index,2)\n",
    "        fend,id=self.daps.get_indxd_file(index,3)\n",
    "        nend,id=self.daps.get_indxd_file(index,4)\n",
    "        return (mic,fend,nend)\n",
    "\n",
    "    def __len__(self):\n",
    "        \n",
    "        #print (self.daps.num_files_per_category)\n",
    "        return self.daps.num_files_per_category"
   ]
  },
  {
   "cell_type": "code",
   "execution_count": 4,
   "metadata": {},
   "outputs": [
    {
     "name": "stdout",
     "output_type": "stream",
     "text": [
      "3240\n",
      "{1: 'echo_signal', 2: 'nearend_mic_signal', 3: 'farend_speech', 4: 'nearend_speech'}\n"
     ]
    }
   ],
   "source": [
    "dataset_train = ICASSP()\n",
    "print(dataset_train.__len__())\n",
    "print(dataset_train.daps.keys)"
   ]
  },
  {
   "cell_type": "code",
   "execution_count": 5,
   "metadata": {},
   "outputs": [
    {
     "name": "stdout",
     "output_type": "stream",
     "text": [
      "cuda\n"
     ]
    }
   ],
   "source": [
    "dtype = torch.float32 # we will be using float throughout this tutorial\n",
    "USE_GPU = True\n",
    "if USE_GPU and torch.cuda.is_available():\n",
    "    device = torch.device('cuda')\n",
    "else:\n",
    "    device = torch.device('cpu')\n",
    "\n",
    "print(device)"
   ]
  },
  {
   "cell_type": "code",
   "execution_count": 6,
   "metadata": {},
   "outputs": [],
   "source": [
    "def flatten(x):\n",
    "    N = x.shape[0] # read in N, C, H, W\n",
    "    return x.view(N, -1)  # \"flatten\" the C * H * W values into a single vector per image"
   ]
  },
  {
   "cell_type": "code",
   "execution_count": 7,
   "metadata": {},
   "outputs": [],
   "source": [
    "NUM_TRAIN=2500\n",
    "NUM_VAL=800\n",
    "NUM_TEST=100\n",
    "print_every = 100\n",
    "dataset_train = ICASSP()\n",
    "batch_size=4\n",
    "loader_train = DataLoader(dataset_train, batch_size=batch_size, num_workers=8,\n",
    "                          sampler=sampler.SequentialSampler(range(NUM_TRAIN)))\n",
    "loader_val= DataLoader(dataset_train, batch_size=batch_size, num_workers=8,\n",
    "                          sampler=sampler.SequentialSampler(range(NUM_TRAIN,NUM_VAL+NUM_TRAIN)))\n",
    "loader_test = DataLoader(dataset_train, batch_size=batch_size, num_workers=8,\n",
    "                          sampler=sampler.SequentialSampler(range(NUM_VAL+NUM_TRAIN, NUM_VAL+NUM_TRAIN+NUM_TEST)))\n",
    "\n",
    "helper= ICASSPDatasetHelper()\n"
   ]
  },
  {
   "cell_type": "code",
   "execution_count": 8,
   "metadata": {},
   "outputs": [
    {
     "name": "stdout",
     "output_type": "stream",
     "text": [
      "{1: 'echo_signal', 2: 'nearend_mic_signal', 3: 'farend_speech', 4: 'nearend_speech'}\n"
     ]
    }
   ],
   "source": [
    "print(dataset_train.daps.keys)"
   ]
  },
  {
   "cell_type": "code",
   "execution_count": 9,
   "metadata": {},
   "outputs": [],
   "source": [
    "#Create Model classes\n",
    "# create a class for linear layers \n",
    "class DenseLayer(nn.Module):\n",
    "    def __init__(self,input_size,output_size,dropOut_p):\n",
    "        super().__init__()\n",
    "        self.dense=nn.Linear(input_size,output_size,bias=True)\n",
    "        self.activation=nn.Tanh()\n",
    "        self.dropOut=nn.Dropout(p=dropOut_p,inplace=False)\n",
    "    \n",
    "    def forward(self,x):\n",
    "        y=self.dense(x)\n",
    "        y=self.activation(y)\n",
    "        y=self.dropOut(y)\n",
    "        return y\n",
    "\n",
    "#class for convolutional layers\n",
    "class ConvLayer(nn.Module):\n",
    "    def __init__(self,in_ch,out_ch,kernel_size,stride,padding,dropOut_p):\n",
    "        super().__init__()\n",
    "        self.conv=nn.Conv2d(in_ch,out_ch,kernel_size, stride=stride,padding=padding)\n",
    "        self.activation=nn.ReLU()\n",
    "        self.dropOut=nn.Dropout2d(p=dropOut_p,inplace=False)\n",
    "    \n",
    "    def forward(self,x):\n",
    "        y=self.conv(x)\n",
    "        y=self.activation(y)\n",
    "        y=self.dropOut(y)\n",
    "\n",
    "        return y\n",
    "\n",
    "#RNN model for Residual echo suppression\n",
    "class LSTMNet(nn.Module):\n",
    "    def __init__(self, input_dim, hidden_dim, fclayer_dim, output_dim, num_layers,dropout_prob):\n",
    "        super().__init__()\n",
    "        # Defining the number of layers and the nodes in each layer\n",
    "        self.layer_dim=num_layers\n",
    "        self.hidden_dim=hidden_dim\n",
    "        self.rnn = nn.LSTM(\n",
    "            fclayer_dim, hidden_dim, num_layers, batch_first=True\n",
    "        )\n",
    "        self.tanh=nn.Tanh()\n",
    "        self.fc1= nn.Linear(input_dim,fclayer_dim)\n",
    "        self.fc2= nn.Linear(hidden_dim,output_dim)\n",
    "        self.sig=nn.Sigmoid()\n",
    "\n",
    "\n",
    "    def forward(self, x):\n",
    "        \n",
    "        y= self.fc1(x)\n",
    "\n",
    "        y= self.tanh(y)\n",
    "        # Initializing hidden state for first input with zeros\n",
    "        h0 = torch.zeros(self.layer_dim, y.size(0), self.hidden_dim).requires_grad_()\n",
    "\n",
    "        # Forward propagation by passing in the input and hidden state into the model\n",
    "        out, h0 = self.rnn(y)\n",
    "\n",
    "        # Reshaping the outputs in the shape of (batch_size, seq_length, hidden_size)\n",
    "        # so that it can fit into the fully connected layer\n",
    "        #out = out[:, -1, :]\n",
    "        out=self.tanh(out)\n",
    "        # Convert the final state to our desired output shape (batch_size, output_dim)\n",
    "        out = self.fc2(out)\n",
    "        out = self.sig(out)\n",
    "        return out"
   ]
  },
  {
   "cell_type": "code",
   "execution_count": 10,
   "metadata": {},
   "outputs": [],
   "source": [
    "#SNR loss where yhat is average power spectrum of de-nonlinearised/denoised signal/ clean signal power \n",
    "def Loss_MSE(yhat,y,lossfn):\n",
    "    target = torch.ones(1).to(device=device)\n",
    "    #yhat=yhat.squeeze(0)\n",
    "    #y=y.squeeze(0)\n",
    "    #loss=lossfn(yhat,y,target)\n",
    "    loss=lossfn(yhat,y)\n",
    "    return loss"
   ]
  },
  {
   "cell_type": "code",
   "execution_count": 11,
   "metadata": {},
   "outputs": [],
   "source": [
    "def check_accuracy(loader, model,lossfn):\n",
    "    print('Checking accuracy on validation set')\n",
    "    model.eval()  # set model to evaluation mode\n",
    "    mse=0\n",
    "    with torch.no_grad():\n",
    "        for mic, fend, nend in loader:\n",
    "\n",
    "            x=torch.concat((mic,fend),1)\n",
    "            #print(x.shape)          \n",
    "            #iterate over each stft frame \n",
    "            x=x.to(device=device, dtype=dtype)\n",
    "            mic=mic.to(device=device, dtype=dtype)\n",
    "            nend=nend.to(device=device, dtype=dtype)\n",
    "            x=torch.permute(x, (0, 2, 1))\n",
    "            y=torch.permute(nend, (0, 2, 1))\n",
    "            mic=torch.permute(mic, (0, 2, 1))\n",
    "            pw_x=x*x\n",
    "            # Forward pass: compute scores and loss\n",
    "            mask = model(pw_x)\n",
    "\n",
    "            yhat= mask*mic\n",
    "            #yhat=yhat[:,:,:,-1]\n",
    "            #y=y[:,:,:,-1]\n",
    "            mse+= Loss_MSE(y,yhat,lossfn)\n",
    "        mse = mse / len(loader)\n",
    "        print(\"Validation loss is\", mse.cpu().numpy())\n",
    "        return  mse.cpu().numpy()"
   ]
  },
  {
   "cell_type": "code",
   "execution_count": 12,
   "metadata": {},
   "outputs": [],
   "source": [
    "print_every=1\n",
    "def train_model(model, optimizer, scheduler ,epochs=1):\n",
    "    \"\"\"\n",
    "    Train a model on DAPS.\n",
    "    \n",
    "    Inputs:\n",
    "    - model_fn: A Python function that performs the forward pass of the model.\n",
    "      It should have the signature scores = model_fn(x, params) where x is a\n",
    "      PyTorch Tensor of image data, params is a list of PyTorch Tensors giving\n",
    "      model weights, and scores is a PyTorch Tensor of shape (N, C) giving\n",
    "      scores for the elements in x.\n",
    "    - params: List of PyTorch Tensors giving weights for the model\n",
    "    - learning_rate: Python scalar giving the learning rate to use for SGD\n",
    "    \n",
    "    Returns: val loss and train loss\n",
    "    \"\"\"\n",
    "    val_loss=[]\n",
    "    train_loss=[]\n",
    "    #lossfn=nn.CosineEmbeddingLoss(margin=0,reduction=\"mean\")\n",
    "    lossfn=nn.MSELoss()\n",
    "    model = model.to(device=device)  # move the model parameters to CPU/GPU\n",
    "    for e in range(epochs):\n",
    "        running_loss = 0\n",
    "        for t, (mic, fend,nend) in enumerate(loader_train):\n",
    "            \n",
    "           \n",
    "            x=torch.concat((mic,fend),1)\n",
    "            #print(x.shape)          \n",
    "            #iterate over each stft frame \n",
    "            x=x.to(device=device, dtype=dtype)\n",
    "            mic=mic.to(device=device, dtype=dtype)\n",
    "            nend=nend.to(device=device, dtype=dtype)\n",
    "            x=torch.permute(x, (0, 2, 1))\n",
    "            y=torch.permute(nend, (0, 2, 1))\n",
    "            mic=torch.permute(mic, (0, 2, 1))\n",
    "            pw_x=x*x\n",
    "            # Forward pass: compute scores and loss\n",
    "\n",
    "            mask = model(pw_x)\n",
    "            #print(mask.shape)\n",
    "            yhat= mask*mic\n",
    "\n",
    "            #yhat=yhat[:,:,:,-1]\n",
    "            #y=y[:,:,:,-1]\n",
    "\n",
    "            loss = Loss_MSE(yhat, y, lossfn)\n",
    "\n",
    "            # Zero out all of the gradients for the variables which the optimizer\n",
    "            # will update.\n",
    "            optimizer.zero_grad()\n",
    "\n",
    "            # This is the backwards pass: compute the gradient of the loss with\n",
    "            # respect to each  parameter of the model.\n",
    "            loss.backward()\n",
    "\n",
    "            # Actually update the parameters of the model using the gradients\n",
    "            # computed by the backwards pass.\n",
    "            optimizer.step()\n",
    "            # Update parameters. We don't want to backpropagate through the\n",
    "            running_loss += loss.item()\n",
    "            \n",
    "\n",
    "        if t % print_every == 0:\n",
    "            print('Epoch %d, Iteration %d, loss = %.8f' % (e, t, (running_loss/len(loader_train))))\n",
    "            train_loss.append(running_loss/len(loader_train))\n",
    "            #check_accuracy_part2(loader_val, model_fn, params)\n",
    "            \n",
    "        vloss=check_accuracy(loader_val,model,lossfn)\n",
    "        model.train()\n",
    "        val_loss.append(vloss)\n",
    "        scheduler.step(loss)\n",
    "    return (train_loss,val_loss)"
   ]
  },
  {
   "cell_type": "code",
   "execution_count": 13,
   "metadata": {},
   "outputs": [],
   "source": [
    "learning_rate = 1e-3\n",
    "nfft_len=511\n",
    "hop_size=nfft_len//4\n",
    "specdims=(256,64)\n",
    "model = LSTMNet(input_dim=specdims[0]*2, hidden_dim=25, fclayer_dim=25, output_dim=specdims[0], num_layers=1,dropout_prob=0.0)\n",
    "# you can use Nesterov momentum in optim.SGD\n",
    "#optimizer = optim.SGD(model.parameters(), lr=learning_rate,\n",
    "#                     momentum=0.9, nesterov=True)\n",
    "# you can use Nesterov momentum in optim.SGD\n",
    "optimizer = optim.Adam(model.parameters(), lr=learning_rate)\n",
    "scheduler = torch.optim.lr_scheduler.ReduceLROnPlateau(optimizer, 'min')"
   ]
  },
  {
   "cell_type": "code",
   "execution_count": 14,
   "metadata": {},
   "outputs": [
    {
     "ename": "RuntimeError",
     "evalue": "Failed to run torchinfo. See above stack traces for more details. Executed layers up to: []",
     "output_type": "error",
     "traceback": [
      "\u001b[0;31m---------------------------------------------------------------------------\u001b[0m",
      "\u001b[0;31mRuntimeError\u001b[0m                              Traceback (most recent call last)",
      "File \u001b[0;32m~/anaconda3/envs/aec/lib/python3.9/site-packages/torchinfo/torchinfo.py:296\u001b[0m, in \u001b[0;36mforward_pass\u001b[0;34m(model, x, batch_dim, cache_forward_pass, device, mode, **kwargs)\u001b[0m\n\u001b[1;32m    <a href='file:///home/prasad/anaconda3/envs/aec/lib/python3.9/site-packages/torchinfo/torchinfo.py?line=294'>295</a>\u001b[0m \u001b[39mif\u001b[39;00m \u001b[39misinstance\u001b[39m(x, (\u001b[39mlist\u001b[39m, \u001b[39mtuple\u001b[39m)):\n\u001b[0;32m--> <a href='file:///home/prasad/anaconda3/envs/aec/lib/python3.9/site-packages/torchinfo/torchinfo.py?line=295'>296</a>\u001b[0m     _ \u001b[39m=\u001b[39m model\u001b[39m.\u001b[39;49mto(device)(\u001b[39m*\u001b[39mx, \u001b[39m*\u001b[39m\u001b[39m*\u001b[39mkwargs)\n\u001b[1;32m    <a href='file:///home/prasad/anaconda3/envs/aec/lib/python3.9/site-packages/torchinfo/torchinfo.py?line=296'>297</a>\u001b[0m \u001b[39melif\u001b[39;00m \u001b[39misinstance\u001b[39m(x, \u001b[39mdict\u001b[39m):\n",
      "File \u001b[0;32m~/anaconda3/envs/aec/lib/python3.9/site-packages/torch/nn/modules/module.py:907\u001b[0m, in \u001b[0;36mModule.to\u001b[0;34m(self, *args, **kwargs)\u001b[0m\n\u001b[1;32m    <a href='file:///home/prasad/anaconda3/envs/aec/lib/python3.9/site-packages/torch/nn/modules/module.py?line=904'>905</a>\u001b[0m     \u001b[39mreturn\u001b[39;00m t\u001b[39m.\u001b[39mto(device, dtype \u001b[39mif\u001b[39;00m t\u001b[39m.\u001b[39mis_floating_point() \u001b[39mor\u001b[39;00m t\u001b[39m.\u001b[39mis_complex() \u001b[39melse\u001b[39;00m \u001b[39mNone\u001b[39;00m, non_blocking)\n\u001b[0;32m--> <a href='file:///home/prasad/anaconda3/envs/aec/lib/python3.9/site-packages/torch/nn/modules/module.py?line=906'>907</a>\u001b[0m \u001b[39mreturn\u001b[39;00m \u001b[39mself\u001b[39;49m\u001b[39m.\u001b[39;49m_apply(convert)\n",
      "File \u001b[0;32m~/anaconda3/envs/aec/lib/python3.9/site-packages/torch/nn/modules/module.py:578\u001b[0m, in \u001b[0;36mModule._apply\u001b[0;34m(self, fn)\u001b[0m\n\u001b[1;32m    <a href='file:///home/prasad/anaconda3/envs/aec/lib/python3.9/site-packages/torch/nn/modules/module.py?line=576'>577</a>\u001b[0m \u001b[39mfor\u001b[39;00m module \u001b[39min\u001b[39;00m \u001b[39mself\u001b[39m\u001b[39m.\u001b[39mchildren():\n\u001b[0;32m--> <a href='file:///home/prasad/anaconda3/envs/aec/lib/python3.9/site-packages/torch/nn/modules/module.py?line=577'>578</a>\u001b[0m     module\u001b[39m.\u001b[39;49m_apply(fn)\n\u001b[1;32m    <a href='file:///home/prasad/anaconda3/envs/aec/lib/python3.9/site-packages/torch/nn/modules/module.py?line=579'>580</a>\u001b[0m \u001b[39mdef\u001b[39;00m \u001b[39mcompute_should_use_set_data\u001b[39m(tensor, tensor_applied):\n",
      "File \u001b[0;32m~/anaconda3/envs/aec/lib/python3.9/site-packages/torch/nn/modules/rnn.py:189\u001b[0m, in \u001b[0;36mRNNBase._apply\u001b[0;34m(self, fn)\u001b[0m\n\u001b[1;32m    <a href='file:///home/prasad/anaconda3/envs/aec/lib/python3.9/site-packages/torch/nn/modules/rnn.py?line=187'>188</a>\u001b[0m \u001b[39m# Flattens params (on CUDA)\u001b[39;00m\n\u001b[0;32m--> <a href='file:///home/prasad/anaconda3/envs/aec/lib/python3.9/site-packages/torch/nn/modules/rnn.py?line=188'>189</a>\u001b[0m \u001b[39mself\u001b[39;49m\u001b[39m.\u001b[39;49mflatten_parameters()\n\u001b[1;32m    <a href='file:///home/prasad/anaconda3/envs/aec/lib/python3.9/site-packages/torch/nn/modules/rnn.py?line=190'>191</a>\u001b[0m \u001b[39mreturn\u001b[39;00m ret\n",
      "File \u001b[0;32m~/anaconda3/envs/aec/lib/python3.9/site-packages/torch/nn/modules/rnn.py:175\u001b[0m, in \u001b[0;36mRNNBase.flatten_parameters\u001b[0;34m(self)\u001b[0m\n\u001b[1;32m    <a href='file:///home/prasad/anaconda3/envs/aec/lib/python3.9/site-packages/torch/nn/modules/rnn.py?line=173'>174</a>\u001b[0m     num_weights \u001b[39m+\u001b[39m\u001b[39m=\u001b[39m \u001b[39m1\u001b[39m\n\u001b[0;32m--> <a href='file:///home/prasad/anaconda3/envs/aec/lib/python3.9/site-packages/torch/nn/modules/rnn.py?line=174'>175</a>\u001b[0m torch\u001b[39m.\u001b[39;49m_cudnn_rnn_flatten_weight(\n\u001b[1;32m    <a href='file:///home/prasad/anaconda3/envs/aec/lib/python3.9/site-packages/torch/nn/modules/rnn.py?line=175'>176</a>\u001b[0m     \u001b[39mself\u001b[39;49m\u001b[39m.\u001b[39;49m_flat_weights, num_weights,\n\u001b[1;32m    <a href='file:///home/prasad/anaconda3/envs/aec/lib/python3.9/site-packages/torch/nn/modules/rnn.py?line=176'>177</a>\u001b[0m     \u001b[39mself\u001b[39;49m\u001b[39m.\u001b[39;49minput_size, rnn\u001b[39m.\u001b[39;49mget_cudnn_mode(\u001b[39mself\u001b[39;49m\u001b[39m.\u001b[39;49mmode),\n\u001b[1;32m    <a href='file:///home/prasad/anaconda3/envs/aec/lib/python3.9/site-packages/torch/nn/modules/rnn.py?line=177'>178</a>\u001b[0m     \u001b[39mself\u001b[39;49m\u001b[39m.\u001b[39;49mhidden_size, \u001b[39mself\u001b[39;49m\u001b[39m.\u001b[39;49mproj_size, \u001b[39mself\u001b[39;49m\u001b[39m.\u001b[39;49mnum_layers,\n\u001b[1;32m    <a href='file:///home/prasad/anaconda3/envs/aec/lib/python3.9/site-packages/torch/nn/modules/rnn.py?line=178'>179</a>\u001b[0m     \u001b[39mself\u001b[39;49m\u001b[39m.\u001b[39;49mbatch_first, \u001b[39mbool\u001b[39;49m(\u001b[39mself\u001b[39;49m\u001b[39m.\u001b[39;49mbidirectional))\n",
      "\u001b[0;31mRuntimeError\u001b[0m: cuDNN error: CUDNN_STATUS_NOT_INITIALIZED",
      "\nThe above exception was the direct cause of the following exception:\n",
      "\u001b[0;31mRuntimeError\u001b[0m                              Traceback (most recent call last)",
      "\u001b[1;32m/home/prasad/AEC/model/LSTM_AEC_256x64.ipynb Cell 14'\u001b[0m in \u001b[0;36m<cell line: 2>\u001b[0;34m()\u001b[0m\n\u001b[1;32m      <a href='vscode-notebook-cell://ssh-remote%2B137.110.119.158/home/prasad/AEC/model/LSTM_AEC_256x64.ipynb#ch0000013vscode-remote?line=0'>1</a>\u001b[0m batch_size \u001b[39m=\u001b[39m batch_size\n\u001b[0;32m----> <a href='vscode-notebook-cell://ssh-remote%2B137.110.119.158/home/prasad/AEC/model/LSTM_AEC_256x64.ipynb#ch0000013vscode-remote?line=1'>2</a>\u001b[0m summary(model, input_size\u001b[39m=\u001b[39;49m(batch_size,specdims[\u001b[39m1\u001b[39;49m], specdims[\u001b[39m0\u001b[39;49m]\u001b[39m*\u001b[39;49m\u001b[39m2\u001b[39;49m))\n",
      "File \u001b[0;32m~/anaconda3/envs/aec/lib/python3.9/site-packages/torchinfo/torchinfo.py:217\u001b[0m, in \u001b[0;36msummary\u001b[0;34m(model, input_size, input_data, batch_dim, cache_forward_pass, col_names, col_width, depth, device, dtypes, mode, row_settings, verbose, **kwargs)\u001b[0m\n\u001b[1;32m    <a href='file:///home/prasad/anaconda3/envs/aec/lib/python3.9/site-packages/torchinfo/torchinfo.py?line=209'>210</a>\u001b[0m validate_user_params(\n\u001b[1;32m    <a href='file:///home/prasad/anaconda3/envs/aec/lib/python3.9/site-packages/torchinfo/torchinfo.py?line=210'>211</a>\u001b[0m     input_data, input_size, columns, col_width, device, dtypes, verbose\n\u001b[1;32m    <a href='file:///home/prasad/anaconda3/envs/aec/lib/python3.9/site-packages/torchinfo/torchinfo.py?line=211'>212</a>\u001b[0m )\n\u001b[1;32m    <a href='file:///home/prasad/anaconda3/envs/aec/lib/python3.9/site-packages/torchinfo/torchinfo.py?line=213'>214</a>\u001b[0m x, correct_input_size \u001b[39m=\u001b[39m process_input(\n\u001b[1;32m    <a href='file:///home/prasad/anaconda3/envs/aec/lib/python3.9/site-packages/torchinfo/torchinfo.py?line=214'>215</a>\u001b[0m     input_data, input_size, batch_dim, device, dtypes\n\u001b[1;32m    <a href='file:///home/prasad/anaconda3/envs/aec/lib/python3.9/site-packages/torchinfo/torchinfo.py?line=215'>216</a>\u001b[0m )\n\u001b[0;32m--> <a href='file:///home/prasad/anaconda3/envs/aec/lib/python3.9/site-packages/torchinfo/torchinfo.py?line=216'>217</a>\u001b[0m summary_list \u001b[39m=\u001b[39m forward_pass(\n\u001b[1;32m    <a href='file:///home/prasad/anaconda3/envs/aec/lib/python3.9/site-packages/torchinfo/torchinfo.py?line=217'>218</a>\u001b[0m     model, x, batch_dim, cache_forward_pass, device, model_mode, \u001b[39m*\u001b[39;49m\u001b[39m*\u001b[39;49mkwargs\n\u001b[1;32m    <a href='file:///home/prasad/anaconda3/envs/aec/lib/python3.9/site-packages/torchinfo/torchinfo.py?line=218'>219</a>\u001b[0m )\n\u001b[1;32m    <a href='file:///home/prasad/anaconda3/envs/aec/lib/python3.9/site-packages/torchinfo/torchinfo.py?line=219'>220</a>\u001b[0m formatting \u001b[39m=\u001b[39m FormattingOptions(depth, verbose, columns, col_width, rows)\n\u001b[1;32m    <a href='file:///home/prasad/anaconda3/envs/aec/lib/python3.9/site-packages/torchinfo/torchinfo.py?line=220'>221</a>\u001b[0m results \u001b[39m=\u001b[39m ModelStatistics(\n\u001b[1;32m    <a href='file:///home/prasad/anaconda3/envs/aec/lib/python3.9/site-packages/torchinfo/torchinfo.py?line=221'>222</a>\u001b[0m     summary_list, correct_input_size, get_total_memory_used(x), formatting\n\u001b[1;32m    <a href='file:///home/prasad/anaconda3/envs/aec/lib/python3.9/site-packages/torchinfo/torchinfo.py?line=222'>223</a>\u001b[0m )\n",
      "File \u001b[0;32m~/anaconda3/envs/aec/lib/python3.9/site-packages/torchinfo/torchinfo.py:305\u001b[0m, in \u001b[0;36mforward_pass\u001b[0;34m(model, x, batch_dim, cache_forward_pass, device, mode, **kwargs)\u001b[0m\n\u001b[1;32m    <a href='file:///home/prasad/anaconda3/envs/aec/lib/python3.9/site-packages/torchinfo/torchinfo.py?line=302'>303</a>\u001b[0m \u001b[39mexcept\u001b[39;00m \u001b[39mException\u001b[39;00m \u001b[39mas\u001b[39;00m e:\n\u001b[1;32m    <a href='file:///home/prasad/anaconda3/envs/aec/lib/python3.9/site-packages/torchinfo/torchinfo.py?line=303'>304</a>\u001b[0m     executed_layers \u001b[39m=\u001b[39m [layer \u001b[39mfor\u001b[39;00m layer \u001b[39min\u001b[39;00m summary_list \u001b[39mif\u001b[39;00m layer\u001b[39m.\u001b[39mexecuted]\n\u001b[0;32m--> <a href='file:///home/prasad/anaconda3/envs/aec/lib/python3.9/site-packages/torchinfo/torchinfo.py?line=304'>305</a>\u001b[0m     \u001b[39mraise\u001b[39;00m \u001b[39mRuntimeError\u001b[39;00m(\n\u001b[1;32m    <a href='file:///home/prasad/anaconda3/envs/aec/lib/python3.9/site-packages/torchinfo/torchinfo.py?line=305'>306</a>\u001b[0m         \u001b[39m\"\u001b[39m\u001b[39mFailed to run torchinfo. See above stack traces for more details. \u001b[39m\u001b[39m\"\u001b[39m\n\u001b[1;32m    <a href='file:///home/prasad/anaconda3/envs/aec/lib/python3.9/site-packages/torchinfo/torchinfo.py?line=306'>307</a>\u001b[0m         \u001b[39mf\u001b[39m\u001b[39m\"\u001b[39m\u001b[39mExecuted layers up to: \u001b[39m\u001b[39m{\u001b[39;00mexecuted_layers\u001b[39m}\u001b[39;00m\u001b[39m\"\u001b[39m\n\u001b[1;32m    <a href='file:///home/prasad/anaconda3/envs/aec/lib/python3.9/site-packages/torchinfo/torchinfo.py?line=307'>308</a>\u001b[0m     ) \u001b[39mfrom\u001b[39;00m \u001b[39me\u001b[39;00m\n\u001b[1;32m    <a href='file:///home/prasad/anaconda3/envs/aec/lib/python3.9/site-packages/torchinfo/torchinfo.py?line=308'>309</a>\u001b[0m \u001b[39mfinally\u001b[39;00m:\n\u001b[1;32m    <a href='file:///home/prasad/anaconda3/envs/aec/lib/python3.9/site-packages/torchinfo/torchinfo.py?line=309'>310</a>\u001b[0m     \u001b[39mif\u001b[39;00m hooks \u001b[39mis\u001b[39;00m \u001b[39mnot\u001b[39;00m \u001b[39mNone\u001b[39;00m:\n",
      "\u001b[0;31mRuntimeError\u001b[0m: Failed to run torchinfo. See above stack traces for more details. Executed layers up to: []"
     ]
    }
   ],
   "source": [
    "batch_size = batch_size\n",
    "summary(model, input_size=(batch_size,specdims[1], specdims[0]*2))"
   ]
  },
  {
   "cell_type": "code",
   "execution_count": 20,
   "metadata": {},
   "outputs": [
    {
     "name": "stdout",
     "output_type": "stream",
     "text": [
      "Epoch 0, Iteration 624, loss = 1.08552617\n",
      "Checking accuracy on validation set\n",
      "Validation loss is 0.9113052\n",
      "Epoch 1, Iteration 624, loss = 0.93259795\n",
      "Checking accuracy on validation set\n",
      "Validation loss is 0.8273717\n",
      "Epoch 2, Iteration 624, loss = 0.87453206\n",
      "Checking accuracy on validation set\n",
      "Validation loss is 0.7883688\n",
      "Epoch 3, Iteration 624, loss = 0.84614643\n",
      "Checking accuracy on validation set\n",
      "Validation loss is 0.76285523\n",
      "Epoch 4, Iteration 624, loss = 0.82336798\n",
      "Checking accuracy on validation set\n",
      "Validation loss is 0.7434538\n",
      "Epoch 5, Iteration 624, loss = 0.79753198\n",
      "Checking accuracy on validation set\n",
      "Validation loss is 0.72976035\n",
      "Epoch 6, Iteration 624, loss = 0.78837136\n",
      "Checking accuracy on validation set\n",
      "Validation loss is 0.72061855\n",
      "Epoch 7, Iteration 624, loss = 0.77152375\n",
      "Checking accuracy on validation set\n",
      "Validation loss is 0.7107819\n",
      "Epoch 8, Iteration 624, loss = 0.76206484\n",
      "Checking accuracy on validation set\n",
      "Validation loss is 0.7007352\n",
      "Epoch 9, Iteration 624, loss = 0.75608801\n",
      "Checking accuracy on validation set\n",
      "Validation loss is 0.69829834\n",
      "Epoch 10, Iteration 624, loss = 0.75183648\n",
      "Checking accuracy on validation set\n",
      "Validation loss is 0.6893703\n",
      "Epoch 11, Iteration 624, loss = 0.74477730\n",
      "Checking accuracy on validation set\n",
      "Validation loss is 0.67651486\n",
      "Epoch 12, Iteration 624, loss = 0.73319844\n",
      "Checking accuracy on validation set\n",
      "Validation loss is 0.6658017\n",
      "Epoch 13, Iteration 624, loss = 0.72323519\n",
      "Checking accuracy on validation set\n",
      "Validation loss is 0.6614238\n",
      "Epoch 14, Iteration 624, loss = 0.71495952\n",
      "Checking accuracy on validation set\n",
      "Validation loss is 0.64944077\n",
      "Epoch 15, Iteration 624, loss = 0.70725347\n",
      "Checking accuracy on validation set\n",
      "Validation loss is 0.6396538\n",
      "Epoch 16, Iteration 624, loss = 0.69901770\n",
      "Checking accuracy on validation set\n",
      "Validation loss is 0.64086616\n",
      "Epoch 17, Iteration 624, loss = 0.69852272\n",
      "Checking accuracy on validation set\n",
      "Validation loss is 0.6339741\n",
      "Epoch 18, Iteration 624, loss = 0.69419246\n",
      "Checking accuracy on validation set\n",
      "Validation loss is 0.63499707\n",
      "Epoch 19, Iteration 624, loss = 0.68628027\n",
      "Checking accuracy on validation set\n",
      "Validation loss is 0.63659\n",
      "Epoch 20, Iteration 624, loss = 0.68229988\n",
      "Checking accuracy on validation set\n",
      "Validation loss is 0.62763125\n",
      "Epoch 21, Iteration 624, loss = 0.67262174\n",
      "Checking accuracy on validation set\n",
      "Validation loss is 0.6138806\n",
      "Epoch 22, Iteration 624, loss = 0.66240724\n",
      "Checking accuracy on validation set\n",
      "Validation loss is 0.605592\n",
      "Epoch 23, Iteration 624, loss = 0.65674394\n",
      "Checking accuracy on validation set\n",
      "Validation loss is 0.6021611\n",
      "Epoch 24, Iteration 624, loss = 0.65378965\n",
      "Checking accuracy on validation set\n",
      "Validation loss is 0.5964914\n",
      "Epoch 25, Iteration 624, loss = 0.64968664\n",
      "Checking accuracy on validation set\n",
      "Validation loss is 0.59423006\n",
      "Epoch 26, Iteration 624, loss = 0.64749384\n",
      "Checking accuracy on validation set\n",
      "Validation loss is 0.59132844\n",
      "Epoch 27, Iteration 624, loss = 0.64490113\n",
      "Checking accuracy on validation set\n",
      "Validation loss is 0.5882511\n",
      "Epoch 28, Iteration 624, loss = 0.64242177\n",
      "Checking accuracy on validation set\n",
      "Validation loss is 0.5854586\n",
      "Epoch 29, Iteration 624, loss = 0.63977486\n",
      "Checking accuracy on validation set\n",
      "Validation loss is 0.5839465\n",
      "Epoch 30, Iteration 624, loss = 0.63773207\n",
      "Checking accuracy on validation set\n",
      "Validation loss is 0.58185244\n",
      "Epoch 31, Iteration 624, loss = 0.63612591\n",
      "Checking accuracy on validation set\n",
      "Validation loss is 0.5799973\n",
      "Epoch 32, Iteration 624, loss = 0.63265449\n",
      "Checking accuracy on validation set\n",
      "Validation loss is 0.57857454\n",
      "Epoch 33, Iteration 624, loss = 0.63179556\n",
      "Checking accuracy on validation set\n",
      "Validation loss is 0.5776501\n",
      "Epoch 34, Iteration 624, loss = 0.63123270\n",
      "Checking accuracy on validation set\n",
      "Validation loss is 0.57695675\n",
      "Epoch 35, Iteration 624, loss = 0.63076851\n",
      "Checking accuracy on validation set\n",
      "Validation loss is 0.57625294\n",
      "Epoch 36, Iteration 624, loss = 0.63034358\n",
      "Checking accuracy on validation set\n",
      "Validation loss is 0.57566553\n",
      "Epoch 37, Iteration 624, loss = 0.62996018\n",
      "Checking accuracy on validation set\n",
      "Validation loss is 0.5751661\n",
      "Epoch 38, Iteration 624, loss = 0.62960850\n",
      "Checking accuracy on validation set\n",
      "Validation loss is 0.57466215\n",
      "Epoch 39, Iteration 624, loss = 0.62924846\n",
      "Checking accuracy on validation set\n",
      "Validation loss is 0.5742562\n",
      "Epoch 40, Iteration 624, loss = 0.62893660\n",
      "Checking accuracy on validation set\n",
      "Validation loss is 0.5738821\n",
      "Epoch 41, Iteration 624, loss = 0.62866629\n",
      "Checking accuracy on validation set\n",
      "Validation loss is 0.5734958\n",
      "Epoch 42, Iteration 624, loss = 0.62838073\n",
      "Checking accuracy on validation set\n",
      "Validation loss is 0.5731713\n",
      "Epoch 43, Iteration 624, loss = 0.62784631\n",
      "Checking accuracy on validation set\n",
      "Validation loss is 0.573105\n",
      "Epoch 44, Iteration 624, loss = 0.62780256\n",
      "Checking accuracy on validation set\n",
      "Validation loss is 0.5730473\n",
      "Epoch 45, Iteration 624, loss = 0.62776335\n",
      "Checking accuracy on validation set\n",
      "Validation loss is 0.5729951\n",
      "Epoch 46, Iteration 624, loss = 0.62772628\n",
      "Checking accuracy on validation set\n",
      "Validation loss is 0.5729468\n",
      "Epoch 47, Iteration 624, loss = 0.62769052\n",
      "Checking accuracy on validation set\n",
      "Validation loss is 0.57290196\n",
      "Epoch 48, Iteration 624, loss = 0.62765588\n",
      "Checking accuracy on validation set\n",
      "Validation loss is 0.5728596\n",
      "Epoch 49, Iteration 624, loss = 0.62762244\n",
      "Checking accuracy on validation set\n",
      "Validation loss is 0.5728197\n",
      "Epoch 50, Iteration 624, loss = 0.62759028\n",
      "Checking accuracy on validation set\n",
      "Validation loss is 0.57278126\n",
      "Epoch 51, Iteration 624, loss = 0.62755929\n",
      "Checking accuracy on validation set\n",
      "Validation loss is 0.57274383\n",
      "Epoch 52, Iteration 624, loss = 0.62752920\n",
      "Checking accuracy on validation set\n",
      "Validation loss is 0.5727075\n",
      "Epoch 53, Iteration 624, loss = 0.62749973\n",
      "Checking accuracy on validation set\n",
      "Validation loss is 0.5726719\n",
      "Epoch 54, Iteration 624, loss = 0.62744256\n",
      "Checking accuracy on validation set\n",
      "Validation loss is 0.5726681\n",
      "Epoch 55, Iteration 624, loss = 0.62743971\n",
      "Checking accuracy on validation set\n",
      "Validation loss is 0.57266384\n",
      "Epoch 56, Iteration 624, loss = 0.62743686\n",
      "Checking accuracy on validation set\n",
      "Validation loss is 0.57266027\n",
      "Epoch 57, Iteration 624, loss = 0.62743400\n",
      "Checking accuracy on validation set\n",
      "Validation loss is 0.57265645\n",
      "Epoch 58, Iteration 624, loss = 0.62743115\n",
      "Checking accuracy on validation set\n",
      "Validation loss is 0.5726526\n",
      "Epoch 59, Iteration 624, loss = 0.62742828\n",
      "Checking accuracy on validation set\n",
      "Validation loss is 0.5726487\n",
      "Epoch 60, Iteration 624, loss = 0.62742543\n",
      "Checking accuracy on validation set\n",
      "Validation loss is 0.5726449\n",
      "Epoch 61, Iteration 624, loss = 0.62742259\n",
      "Checking accuracy on validation set\n",
      "Validation loss is 0.57264125\n",
      "Epoch 62, Iteration 624, loss = 0.62741975\n",
      "Checking accuracy on validation set\n",
      "Validation loss is 0.5726374\n",
      "Epoch 63, Iteration 624, loss = 0.62741693\n",
      "Checking accuracy on validation set\n",
      "Validation loss is 0.5726337\n",
      "Epoch 64, Iteration 624, loss = 0.62741410\n",
      "Checking accuracy on validation set\n",
      "Validation loss is 0.5726298\n",
      "Epoch 65, Iteration 624, loss = 0.62740831\n",
      "Checking accuracy on validation set\n",
      "Validation loss is 0.5726295\n",
      "Epoch 66, Iteration 624, loss = 0.62740813\n",
      "Checking accuracy on validation set\n",
      "Validation loss is 0.57262915\n",
      "Epoch 67, Iteration 624, loss = 0.62740794\n",
      "Checking accuracy on validation set\n",
      "Validation loss is 0.5726289\n",
      "Epoch 68, Iteration 624, loss = 0.62740775\n",
      "Checking accuracy on validation set\n",
      "Validation loss is 0.5726287\n",
      "Epoch 69, Iteration 624, loss = 0.62740757\n",
      "Checking accuracy on validation set\n",
      "Validation loss is 0.5726284\n",
      "Epoch 70, Iteration 624, loss = 0.62740738\n",
      "Checking accuracy on validation set\n",
      "Validation loss is 0.5726282\n",
      "Epoch 71, Iteration 624, loss = 0.62740719\n",
      "Checking accuracy on validation set\n",
      "Validation loss is 0.57262796\n",
      "Epoch 72, Iteration 624, loss = 0.62740700\n",
      "Checking accuracy on validation set\n",
      "Validation loss is 0.5726278\n",
      "Epoch 73, Iteration 624, loss = 0.62740681\n",
      "Checking accuracy on validation set\n",
      "Validation loss is 0.5726276\n",
      "Epoch 74, Iteration 624, loss = 0.62740662\n",
      "Checking accuracy on validation set\n",
      "Validation loss is 0.5726273\n",
      "Epoch 75, Iteration 624, loss = 0.62740644\n",
      "Checking accuracy on validation set\n",
      "Validation loss is 0.5726271\n",
      "Epoch 76, Iteration 624, loss = 0.62740625\n",
      "Checking accuracy on validation set\n",
      "Validation loss is 0.57262677\n",
      "Epoch 77, Iteration 624, loss = 0.62740607\n",
      "Checking accuracy on validation set\n",
      "Validation loss is 0.5726263\n",
      "Epoch 78, Iteration 624, loss = 0.62740587\n",
      "Checking accuracy on validation set\n",
      "Validation loss is 0.57262605\n",
      "Epoch 79, Iteration 624, loss = 0.62740568\n",
      "Checking accuracy on validation set\n",
      "Validation loss is 0.57262576\n",
      "Epoch 80, Iteration 624, loss = 0.62740550\n",
      "Checking accuracy on validation set\n",
      "Validation loss is 0.5726254\n",
      "Epoch 81, Iteration 624, loss = 0.62740531\n",
      "Checking accuracy on validation set\n",
      "Validation loss is 0.57262516\n",
      "Epoch 82, Iteration 624, loss = 0.62740512\n",
      "Checking accuracy on validation set\n",
      "Validation loss is 0.572625\n",
      "Epoch 83, Iteration 624, loss = 0.62740494\n",
      "Checking accuracy on validation set\n",
      "Validation loss is 0.57262474\n",
      "Epoch 84, Iteration 624, loss = 0.62740475\n",
      "Checking accuracy on validation set\n",
      "Validation loss is 0.57262456\n",
      "Epoch 85, Iteration 624, loss = 0.62740457\n",
      "Checking accuracy on validation set\n",
      "Validation loss is 0.57262427\n",
      "Epoch 86, Iteration 624, loss = 0.62740438\n",
      "Checking accuracy on validation set\n",
      "Validation loss is 0.5726239\n",
      "Epoch 87, Iteration 624, loss = 0.62740419\n",
      "Checking accuracy on validation set\n",
      "Validation loss is 0.5726236\n",
      "Epoch 88, Iteration 624, loss = 0.62740400\n",
      "Checking accuracy on validation set\n",
      "Validation loss is 0.5726234\n",
      "Epoch 89, Iteration 624, loss = 0.62740382\n",
      "Checking accuracy on validation set\n",
      "Validation loss is 0.5726231\n",
      "Epoch 90, Iteration 624, loss = 0.62740364\n",
      "Checking accuracy on validation set\n",
      "Validation loss is 0.5726227\n",
      "Epoch 91, Iteration 624, loss = 0.62740345\n",
      "Checking accuracy on validation set\n",
      "Validation loss is 0.57262254\n",
      "Epoch 92, Iteration 624, loss = 0.62740326\n",
      "Checking accuracy on validation set\n",
      "Validation loss is 0.5726223\n",
      "Epoch 93, Iteration 624, loss = 0.62740307\n",
      "Checking accuracy on validation set\n",
      "Validation loss is 0.5726219\n",
      "Epoch 94, Iteration 624, loss = 0.62740289\n",
      "Checking accuracy on validation set\n",
      "Validation loss is 0.5726217\n",
      "Epoch 95, Iteration 624, loss = 0.62740270\n",
      "Checking accuracy on validation set\n",
      "Validation loss is 0.57262135\n",
      "Epoch 96, Iteration 624, loss = 0.62740252\n",
      "Checking accuracy on validation set\n",
      "Validation loss is 0.5726211\n",
      "Epoch 97, Iteration 624, loss = 0.62740233\n",
      "Checking accuracy on validation set\n",
      "Validation loss is 0.5726209\n",
      "Epoch 98, Iteration 624, loss = 0.62740215\n",
      "Checking accuracy on validation set\n",
      "Validation loss is 0.57262075\n",
      "Epoch 99, Iteration 624, loss = 0.62740195\n",
      "Checking accuracy on validation set\n",
      "Validation loss is 0.57262033\n"
     ]
    },
    {
     "ename": "KeyboardInterrupt",
     "evalue": "",
     "output_type": "error",
     "traceback": [
      "\u001b[0;31m---------------------------------------------------------------------------\u001b[0m",
      "\u001b[0;31mKeyboardInterrupt\u001b[0m                         Traceback (most recent call last)",
      "\u001b[1;32m/home/prasad/AEC/model/LSTM_AEC_256x64.ipynb Cell 15'\u001b[0m in \u001b[0;36m<cell line: 1>\u001b[0;34m()\u001b[0m\n\u001b[0;32m----> <a href='vscode-notebook-cell://ssh-remote%2B137.110.119.158/home/prasad/AEC/model/LSTM_AEC_256x64.ipynb#ch0000014vscode-remote?line=0'>1</a>\u001b[0m (train_loss,val_loss)\u001b[39m=\u001b[39mtrain_model(model, optimizer, scheduler,\u001b[39m200\u001b[39;49m)\n",
      "\u001b[1;32m/home/prasad/AEC/model/LSTM_AEC_256x64.ipynb Cell 12'\u001b[0m in \u001b[0;36mtrain_model\u001b[0;34m(model, optimizer, scheduler, epochs)\u001b[0m\n\u001b[1;32m     <a href='vscode-notebook-cell://ssh-remote%2B137.110.119.158/home/prasad/AEC/model/LSTM_AEC_256x64.ipynb#ch0000011vscode-remote?line=49'>50</a>\u001b[0m optimizer\u001b[39m.\u001b[39mzero_grad()\n\u001b[1;32m     <a href='vscode-notebook-cell://ssh-remote%2B137.110.119.158/home/prasad/AEC/model/LSTM_AEC_256x64.ipynb#ch0000011vscode-remote?line=51'>52</a>\u001b[0m \u001b[39m# This is the backwards pass: compute the gradient of the loss with\u001b[39;00m\n\u001b[1;32m     <a href='vscode-notebook-cell://ssh-remote%2B137.110.119.158/home/prasad/AEC/model/LSTM_AEC_256x64.ipynb#ch0000011vscode-remote?line=52'>53</a>\u001b[0m \u001b[39m# respect to each  parameter of the model.\u001b[39;00m\n\u001b[0;32m---> <a href='vscode-notebook-cell://ssh-remote%2B137.110.119.158/home/prasad/AEC/model/LSTM_AEC_256x64.ipynb#ch0000011vscode-remote?line=53'>54</a>\u001b[0m loss\u001b[39m.\u001b[39;49mbackward()\n\u001b[1;32m     <a href='vscode-notebook-cell://ssh-remote%2B137.110.119.158/home/prasad/AEC/model/LSTM_AEC_256x64.ipynb#ch0000011vscode-remote?line=55'>56</a>\u001b[0m \u001b[39m# Actually update the parameters of the model using the gradients\u001b[39;00m\n\u001b[1;32m     <a href='vscode-notebook-cell://ssh-remote%2B137.110.119.158/home/prasad/AEC/model/LSTM_AEC_256x64.ipynb#ch0000011vscode-remote?line=56'>57</a>\u001b[0m \u001b[39m# computed by the backwards pass.\u001b[39;00m\n\u001b[1;32m     <a href='vscode-notebook-cell://ssh-remote%2B137.110.119.158/home/prasad/AEC/model/LSTM_AEC_256x64.ipynb#ch0000011vscode-remote?line=57'>58</a>\u001b[0m optimizer\u001b[39m.\u001b[39mstep()\n",
      "File \u001b[0;32m~/anaconda3/envs/aec/lib/python3.9/site-packages/torch/_tensor.py:363\u001b[0m, in \u001b[0;36mTensor.backward\u001b[0;34m(self, gradient, retain_graph, create_graph, inputs)\u001b[0m\n\u001b[1;32m    <a href='file:///home/prasad/anaconda3/envs/aec/lib/python3.9/site-packages/torch/_tensor.py?line=353'>354</a>\u001b[0m \u001b[39mif\u001b[39;00m has_torch_function_unary(\u001b[39mself\u001b[39m):\n\u001b[1;32m    <a href='file:///home/prasad/anaconda3/envs/aec/lib/python3.9/site-packages/torch/_tensor.py?line=354'>355</a>\u001b[0m     \u001b[39mreturn\u001b[39;00m handle_torch_function(\n\u001b[1;32m    <a href='file:///home/prasad/anaconda3/envs/aec/lib/python3.9/site-packages/torch/_tensor.py?line=355'>356</a>\u001b[0m         Tensor\u001b[39m.\u001b[39mbackward,\n\u001b[1;32m    <a href='file:///home/prasad/anaconda3/envs/aec/lib/python3.9/site-packages/torch/_tensor.py?line=356'>357</a>\u001b[0m         (\u001b[39mself\u001b[39m,),\n\u001b[0;32m   (...)\u001b[0m\n\u001b[1;32m    <a href='file:///home/prasad/anaconda3/envs/aec/lib/python3.9/site-packages/torch/_tensor.py?line=360'>361</a>\u001b[0m         create_graph\u001b[39m=\u001b[39mcreate_graph,\n\u001b[1;32m    <a href='file:///home/prasad/anaconda3/envs/aec/lib/python3.9/site-packages/torch/_tensor.py?line=361'>362</a>\u001b[0m         inputs\u001b[39m=\u001b[39minputs)\n\u001b[0;32m--> <a href='file:///home/prasad/anaconda3/envs/aec/lib/python3.9/site-packages/torch/_tensor.py?line=362'>363</a>\u001b[0m torch\u001b[39m.\u001b[39;49mautograd\u001b[39m.\u001b[39;49mbackward(\u001b[39mself\u001b[39;49m, gradient, retain_graph, create_graph, inputs\u001b[39m=\u001b[39;49minputs)\n",
      "File \u001b[0;32m~/anaconda3/envs/aec/lib/python3.9/site-packages/torch/autograd/__init__.py:173\u001b[0m, in \u001b[0;36mbackward\u001b[0;34m(tensors, grad_tensors, retain_graph, create_graph, grad_variables, inputs)\u001b[0m\n\u001b[1;32m    <a href='file:///home/prasad/anaconda3/envs/aec/lib/python3.9/site-packages/torch/autograd/__init__.py?line=167'>168</a>\u001b[0m     retain_graph \u001b[39m=\u001b[39m create_graph\n\u001b[1;32m    <a href='file:///home/prasad/anaconda3/envs/aec/lib/python3.9/site-packages/torch/autograd/__init__.py?line=169'>170</a>\u001b[0m \u001b[39m# The reason we repeat same the comment below is that\u001b[39;00m\n\u001b[1;32m    <a href='file:///home/prasad/anaconda3/envs/aec/lib/python3.9/site-packages/torch/autograd/__init__.py?line=170'>171</a>\u001b[0m \u001b[39m# some Python versions print out the first line of a multi-line function\u001b[39;00m\n\u001b[1;32m    <a href='file:///home/prasad/anaconda3/envs/aec/lib/python3.9/site-packages/torch/autograd/__init__.py?line=171'>172</a>\u001b[0m \u001b[39m# calls in the traceback and some print out the last line\u001b[39;00m\n\u001b[0;32m--> <a href='file:///home/prasad/anaconda3/envs/aec/lib/python3.9/site-packages/torch/autograd/__init__.py?line=172'>173</a>\u001b[0m Variable\u001b[39m.\u001b[39;49m_execution_engine\u001b[39m.\u001b[39;49mrun_backward(  \u001b[39m# Calls into the C++ engine to run the backward pass\u001b[39;49;00m\n\u001b[1;32m    <a href='file:///home/prasad/anaconda3/envs/aec/lib/python3.9/site-packages/torch/autograd/__init__.py?line=173'>174</a>\u001b[0m     tensors, grad_tensors_, retain_graph, create_graph, inputs,\n\u001b[1;32m    <a href='file:///home/prasad/anaconda3/envs/aec/lib/python3.9/site-packages/torch/autograd/__init__.py?line=174'>175</a>\u001b[0m     allow_unreachable\u001b[39m=\u001b[39;49m\u001b[39mTrue\u001b[39;49;00m, accumulate_grad\u001b[39m=\u001b[39;49m\u001b[39mTrue\u001b[39;49;00m)\n",
      "\u001b[0;31mKeyboardInterrupt\u001b[0m: "
     ]
    }
   ],
   "source": [
    "(train_loss,val_loss)=train_model(model, optimizer, scheduler,200)"
   ]
  },
  {
   "cell_type": "code",
   "execution_count": 21,
   "metadata": {},
   "outputs": [],
   "source": [
    "model_path= \"./misc/aec_lstm_160_may23.pth\"\n",
    "torch.save(model.state_dict(),model_path)"
   ]
  },
  {
   "cell_type": "code",
   "execution_count": 15,
   "metadata": {},
   "outputs": [
    {
     "data": {
      "text/plain": [
       "<All keys matched successfully>"
      ]
     },
     "execution_count": 15,
     "metadata": {},
     "output_type": "execute_result"
    }
   ],
   "source": [
    "model_path= \"./misc/aec_lstm_160_may23.pth\"\n",
    "model=LSTMNet(input_dim=specdims[0]*2, hidden_dim=25, fclayer_dim=25, output_dim=specdims[0], num_layers=1,dropout_prob=0.0)\n",
    "model.load_state_dict(torch.load(model_path))"
   ]
  },
  {
   "cell_type": "code",
   "execution_count": 16,
   "metadata": {},
   "outputs": [],
   "source": [
    "dataset=ICASSPDatasetHelper()\n",
    "#test_index=19485\n",
    "#test_index=1970\n",
    "test_index=1290\n",
    "model.to(device=\"cpu\")\n",
    "mic,_= dataset.get_indxd_file(test_index,2)\n",
    "fend,_= dataset.get_indxd_file(test_index,3)\n",
    "nend,_= dataset.get_indxd_file(test_index,4)\n",
    "echo,_= dataset.get_indxd_file(test_index,1)\n",
    "mic = torch.tensor(mic)\n",
    "fend = torch.tensor(fend)\n",
    "nend = torch.tensor(nend)\n",
    "y=torch.permute(mic,(1,0))\n",
    "x=torch.concat((mic,fend),0)\n",
    "x= torch.permute(x,(1,0))\n",
    "x=x.unsqueeze(0)\n",
    "x=x.to(dtype=torch.float32)\n",
    "model.eval()\n",
    "with torch.no_grad():\n",
    "    out=model(x*x)\n",
    "out = out *y\n",
    "out=out.squeeze(0)\n",
    "out= torch.permute(out,(1,0))"
   ]
  },
  {
   "cell_type": "code",
   "execution_count": 17,
   "metadata": {},
   "outputs": [
    {
     "data": {
      "image/png": "[encoded data removed]",
      "text/plain": [
       "<Figure size 432x288 with 4 Axes>"
      ]
     },
     "metadata": {
      "needs_background": "light"
     },
     "output_type": "display_data"
    }
   ],
   "source": [
    "plt.figure()\n",
    "plt.title(\"Comparison of echo cancellation output vs Ground Truth\")\n",
    "ax1=plt.subplot(1,4,1)\n",
    "ax1.imshow(np.flip(mic.numpy(),0))\n",
    "ax1.title.set_text(\"mic input\")\n",
    "ax2=plt.subplot(1,4,2)\n",
    "ax2.imshow(np.flip(out.cpu().numpy()))\n",
    "ax2.title.set_text(\"output\")\n",
    "ax3=plt.subplot(1,4,3)\n",
    "ax3.imshow(np.flip(nend.numpy()))\n",
    "ax3.title.set_text(\"GT near end\")\n",
    "ax4=plt.subplot(1,4,4)\n",
    "ax4.imshow(np.flip(echo))\n",
    "ax4.title.set_text(\"echo\")"
   ]
  },
  {
   "cell_type": "code",
   "execution_count": 18,
   "metadata": {},
   "outputs": [
    {
     "ename": "NameError",
     "evalue": "name 'train_loss' is not defined",
     "output_type": "error",
     "traceback": [
      "\u001b[0;31m---------------------------------------------------------------------------\u001b[0m",
      "\u001b[0;31mNameError\u001b[0m                                 Traceback (most recent call last)",
      "\u001b[1;32m/home/prasad/AEC/model/LSTM_AEC_256x64.ipynb Cell 20'\u001b[0m in \u001b[0;36m<cell line: 1>\u001b[0;34m()\u001b[0m\n\u001b[0;32m----> <a href='vscode-notebook-cell://ssh-remote%2B137.110.119.158/home/prasad/AEC/model/LSTM_AEC_256x64.ipynb#ch0000019vscode-remote?line=0'>1</a>\u001b[0m plt\u001b[39m.\u001b[39mplot(train_loss)\n\u001b[1;32m      <a href='vscode-notebook-cell://ssh-remote%2B137.110.119.158/home/prasad/AEC/model/LSTM_AEC_256x64.ipynb#ch0000019vscode-remote?line=1'>2</a>\u001b[0m plt\u001b[39m.\u001b[39mplot(val_loss)\n\u001b[1;32m      <a href='vscode-notebook-cell://ssh-remote%2B137.110.119.158/home/prasad/AEC/model/LSTM_AEC_256x64.ipynb#ch0000019vscode-remote?line=2'>3</a>\u001b[0m plt\u001b[39m.\u001b[39mlegend([\u001b[39m\"\u001b[39m\u001b[39mtrain loss\u001b[39m\u001b[39m\"\u001b[39m,\u001b[39m\"\u001b[39m\u001b[39mvalidation loss\u001b[39m\u001b[39m\"\u001b[39m])\n",
      "\u001b[0;31mNameError\u001b[0m: name 'train_loss' is not defined"
     ]
    }
   ],
   "source": [
    "plt.plot(train_loss)\n",
    "plt.plot(val_loss)\n",
    "plt.legend([\"train loss\",\"validation loss\"])"
   ]
  },
  {
   "cell_type": "markdown",
   "metadata": {},
   "source": [
    "Run a test file using the model to process and remove the echo"
   ]
  },
  {
   "cell_type": "code",
   "execution_count": 19,
   "metadata": {},
   "outputs": [],
   "source": [
    "file_indx=42\n",
    "mic_sig,_=librosa.load(\"../dataset/AEC-Challenge/datasets/synthetic/nearend_mic_signal/nearend_mic_fileid_\"+str(file_indx)+\".wav\",sr=8000)\n",
    "fend_sig,_=librosa.load(\"../dataset/AEC-Challenge/datasets/synthetic/farend_speech/farend_speech_fileid_\"+str(file_indx)+\".wav\",sr=8000)\n",
    "nend_sig,_=librosa.load(\"../dataset/AEC-Challenge/datasets/synthetic/nearend_speech/nearend_speech_fileid_\"+str(file_indx)+\".wav\",sr=8000)\n",
    "echo_sig,_=librosa.load(\"../dataset/AEC-Challenge/datasets/synthetic/echo_signal/echo_fileid_\"+str(file_indx)+\".wav\",sr=8000)\n"
   ]
  },
  {
   "cell_type": "code",
   "execution_count": 20,
   "metadata": {},
   "outputs": [],
   "source": [
    "nfft_len=511\n",
    "mic_stft=librosa.stft(mic_sig,n_fft=nfft_len, hop_length=nfft_len//4,center=True)\n",
    "fend_stft=librosa.stft(fend_sig,n_fft=nfft_len, hop_length=nfft_len//4,center=True)\n",
    "nend_stft=librosa.stft(nend_sig,n_fft=nfft_len, hop_length=nfft_len//4,center=True)"
   ]
  },
  {
   "cell_type": "code",
   "execution_count": 21,
   "metadata": {},
   "outputs": [
    {
     "name": "stdout",
     "output_type": "stream",
     "text": [
      "(79884,)\n"
     ]
    }
   ],
   "source": [
    "\n",
    "fx=librosa.stft(fend_sig,n_fft=511,hop_length=511//4)\n",
    "res_spec=np.zeros_like(fx)\n",
    "for i in range(0,8):\n",
    "    mic=  mic_stft[:,specdims[1]*i:specdims[1]*i+specdims[1]]\n",
    "    fend= fend_stft[:,specdims[1]*i:specdims[1]*i+specdims[1]]\n",
    "    nend= nend_stft[:,specdims[1]*i:specdims[1]*i+specdims[1]]\n",
    "    tmic = torch.tensor(abs(mic))\n",
    "    tfend = torch.tensor(abs(fend))\n",
    "    tnend = torch.tensor(abs(nend))\n",
    "    y=torch.permute(tmic,(1,0))\n",
    "    x=torch.concat((tmic,tfend),0)\n",
    "    x= torch.permute(x,(1,0))\n",
    "    x=x.unsqueeze(0)\n",
    "    x=x.to(dtype=torch.float32)\n",
    "    model.eval()\n",
    "    with torch.no_grad():\n",
    "        out=model(x*x)\n",
    "    out = out*y\n",
    "    out=out.squeeze(0)\n",
    "    out= torch.permute(out,(1,0))\n",
    "    out=out.cpu().numpy()\n",
    "    mag,ph=librosa.magphase(mic)\n",
    "    out=out*ph\n",
    "    #print(out.shape)\n",
    "    res_spec[:,specdims[1]*i:specdims[1]*i+specdims[1]]=out\n",
    "    #specs[:,specdims[1]*i:specdims[1]*i+specdims[1]]=out*spec\n",
    "res_nend=librosa.istft(res_spec,hop_length=nfft_len//4,n_fft=nfft_len)\n",
    "#res_nend=librosa.util.normalize(res_nend)\n",
    "print(res_nend.shape)"
   ]
  },
  {
   "cell_type": "code",
   "execution_count": 22,
   "metadata": {},
   "outputs": [
    {
     "data": {
      "text/plain": [
       "[<matplotlib.lines.Line2D at 0x7fc3c412bfd0>]"
      ]
     },
     "execution_count": 22,
     "metadata": {},
     "output_type": "execute_result"
    },
    {
     "data": {
      "image/png": "[encoded data removed]",
      "text/plain": [
       "<Figure size 432x288 with 1 Axes>"
      ]
     },
     "metadata": {
      "needs_background": "light"
     },
     "output_type": "display_data"
    },
    {
     "data": {
      "image/png": "[encoded data removed]",
      "text/plain": [
       "<Figure size 432x288 with 1 Axes>"
      ]
     },
     "metadata": {
      "needs_background": "light"
     },
     "output_type": "display_data"
    },
    {
     "data": {
      "image/png": "[encoded data removed]",
      "text/plain": [
       "<Figure size 432x288 with 1 Axes>"
      ]
     },
     "metadata": {
      "needs_background": "light"
     },
     "output_type": "display_data"
    }
   ],
   "source": [
    "plt.figure()\n",
    "plt.plot(mic_sig)\n",
    "plt.plot(res_nend)\n",
    "plt.figure()\n",
    "plt.plot(nend_sig)\n",
    "plt.figure()\n",
    "plt.plot(echo_sig)\n"
   ]
  },
  {
   "cell_type": "markdown",
   "metadata": {},
   "source": [
    "Dump processed files"
   ]
  },
  {
   "cell_type": "code",
   "execution_count": 105,
   "metadata": {},
   "outputs": [],
   "source": [
    "wav.write(\"../op/echo_cancelled_fileid_\"+str(file_indx)+\".wav\", 8000, res_nend)\n",
    "wav.write(\"../op/mic_fileid_\"+str(file_indx)+\".wav\", 8000, mic_sig)\n",
    "wav.write(\"../op/nend_fileid_\"+str(file_indx)+\".wav\", 8000, nend_sig)\n",
    "wav.write(\"../op/fend_fileid_\"+str(file_indx)+\".wav\", 8000, fend_sig)"
   ]
  },
  {
   "cell_type": "code",
   "execution_count": 106,
   "metadata": {},
   "outputs": [],
   "source": [
    "class NLMS():\n",
    "    #initialize\n",
    "    def __init__(self,mu,taps):\n",
    "        self.mu=mu\n",
    "        self.N=taps\n",
    "        self.e=0\n",
    "        self.w=np.zeros((taps,1))\n",
    "        self.xd=np.zeros((taps,1))\n",
    "\n",
    "    #updates the filter sample by sample and updates weights sample by sample\n",
    "    def run(self,x,d):\n",
    "        N=self.N\n",
    "        #udpate delay line \n",
    "        self.xd[0]=x\n",
    "        #compute filter output\n",
    "        y = np.dot(self.w.T,self.xd)\n",
    "        #compute input energy\n",
    "        pw=np.linalg.norm(self.xd)\n",
    "        pw=pw*pw\n",
    "        #pw=pw*pw\n",
    "        #calculate error\n",
    "        e = d - y\n",
    "        self.e=e\n",
    "\n",
    "        #normalize by input energy\n",
    "        e= e/(pw+0.0000000001)\n",
    "        #compute gradients\n",
    "        Fw=self.mu*np.multiply(self.xd,e)\n",
    "        \n",
    "        Fw=Fw.reshape(Fw.shape[0],-1)\n",
    "        #weight update\n",
    "        self.w = self.w + Fw\n",
    "    \n",
    "        #filtered output post update\n",
    "        y = np.dot(self.w.T,self.xd)\n",
    "        #shift delay line\n",
    "        self.xd[1:]=self.xd[:-1]\n",
    " \n",
    "        #return current output sample, current error sample and current weights\n",
    "        return (y,self.e,self.w)"
   ]
  },
  {
   "cell_type": "code",
   "execution_count": 107,
   "metadata": {},
   "outputs": [],
   "source": [
    "#test wrapper for NLMS filter on aec data for single talk case\n",
    "taps=1024\n",
    "lmscls= NLMS(0.0001,taps)\n",
    "w1=np.zeros((taps,1))\n",
    "y1=np.zeros_like(fend_sig)\n",
    "e1=np.zeros_like(fend_sig)\n",
    "for i in range(0,len(res_nend)):\n",
    "    (y1[i],e1[i],w3)=lmscls.run(fend_sig[i],res_nend[i])"
   ]
  },
  {
   "cell_type": "code",
   "execution_count": 108,
   "metadata": {},
   "outputs": [
    {
     "data": {
      "text/plain": [
       "[<matplotlib.lines.Line2D at 0x7f723a1cba60>]"
      ]
     },
     "execution_count": 108,
     "metadata": {},
     "output_type": "execute_result"
    },
    {
     "data": {
      "image/png": "[encoded data removed]",
      "text/plain": [
       "<Figure size 432x288 with 1 Axes>"
      ]
     },
     "metadata": {
      "needs_background": "light"
     },
     "output_type": "display_data"
    },
    {
     "data": {
      "image/png": "[encoded data removed]",
      "text/plain": [
       "<Figure size 432x288 with 1 Axes>"
      ]
     },
     "metadata": {
      "needs_background": "light"
     },
     "output_type": "display_data"
    }
   ],
   "source": [
    "plt.figure()\n",
    "plt.plot(mic_sig)\n",
    "plt.plot(e1)\n",
    "plt.figure()\n",
    "plt.plot(nend_sig)\n"
   ]
  },
  {
   "cell_type": "code",
   "execution_count": 66,
   "metadata": {},
   "outputs": [],
   "source": [
    "wav.write(\"../op/lmsnecho_cancelled_fileid_\"+str(file_indx)+\".wav\", 8000, e1)\n",
    "wav.write(\"../op/mic_fileid_\"+str(file_indx)+\".wav\", 8000, mic_sig)\n",
    "wav.write(\"../op/nend_fileid_\"+str(file_indx)+\".wav\", 8000, nend_sig)\n",
    "wav.write(\"../op/fend_fileid_\"+str(file_indx)+\".wav\", 8000, fend_sig)"
   ]
  },
  {
   "cell_type": "code",
   "execution_count": null,
   "metadata": {},
   "outputs": [],
   "source": []
  }
 ],
 "metadata": {
  "interpreter": {
   "hash": "9f5c7ac77e593d0994949fe61f06040dedc773eb228097f0a804bc0d2d8d2f83"
  },
  "kernelspec": {
   "display_name": "Python 3.9.12 ('aec': conda)",
   "language": "python",
   "name": "python3"
  },
  "language_info": {
   "codemirror_mode": {
    "name": "ipython",
    "version": 3
   },
   "file_extension": ".py",
   "mimetype": "text/x-python",
   "name": "python",
   "nbconvert_exporter": "python",
   "pygments_lexer": "ipython3",
   "version": "3.9.12"
  },
  "orig_nbformat": 4
 },
 "nbformat": 4,
 "nbformat_minor": 2
}
