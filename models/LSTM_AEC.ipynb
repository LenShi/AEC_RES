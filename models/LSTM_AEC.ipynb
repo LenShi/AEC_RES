{
 "cells": [
  {
   "cell_type": "code",
   "execution_count": 1,
   "metadata": {},
   "outputs": [
    {
     "name": "stderr",
     "output_type": "stream",
     "text": [
      "/home/prasad/anaconda3/envs/aec/lib/python3.9/site-packages/tqdm/auto.py:22: TqdmWarning: IProgress not found. Please update jupyter and ipywidgets. See https://ipywidgets.readthedocs.io/en/stable/user_install.html\n",
      "  from .autonotebook import tqdm as notebook_tqdm\n"
     ]
    }
   ],
   "source": [
    "import torch\n",
    "import torchaudio\n",
    "import torchaudio.functional as F\n",
    "import torchaudio.transforms as T\n",
    "from torch.utils.data import Dataset, DataLoader\n",
    "from torchvision import transforms, utils\n",
    "import os\n",
    "import numpy as np\n",
    "import torch.nn as nn\n",
    "import pandas as pd\n",
    "import librosa\n",
    "import librosa.display\n",
    "from torch.utils.data import sampler\n",
    "import torch.optim as optim\n",
    "import json\n",
    "import cv2\n",
    "import matplotlib.pyplot as plt\n",
    "import scipy.io.wavfile as wav\n",
    "from torchinfo import summary\n",
    "from IPython.display import Audio\n",
    "import IPython.display as ipd\n",
    "import soundfile as sd\n",
    "import padasip as dsp"
   ]
  },
  {
   "cell_type": "code",
   "execution_count": 2,
   "metadata": {},
   "outputs": [],
   "source": [
    "class ICASSPDatasetHelper():\n",
    "    #initialization \n",
    "    def __init__(self):\n",
    "        self.sample_rate=8000\n",
    "        fft_len=40\n",
    "        hop_len=10\n",
    "        self.dir= \"./icassp_LUT.json\"\n",
    "        openfile=open(self.dir, \"r\")\n",
    "        self.dataset_dict= json.load(openfile)\n",
    "        indx=1\n",
    "        self.keys={}\n",
    "        for key  in self.dataset_dict.keys():\n",
    "            self.keys[indx]=key\n",
    "            indx+=1\n",
    "\n",
    "        self.num_files_per_category=len(self.dataset_dict[\"echo_signal\"].keys())\n",
    "\n",
    "    #get the indexed file and sample rate\n",
    "    def get_indxd_file(self,indx,src):\n",
    "        category=self.keys[src]\n",
    "        #load magnitude spectrum\n",
    "        data=abs(np.load(self.dataset_dict[category][str(indx)]))\n",
    "        Id= self.dataset_dict[category][str(indx)].split(\"/\")[-1].split('.')[0]\n",
    "        return (data,Id)\n",
    "\n",
    "    #get the indexed file and sample rate\n",
    "    def get_indxd_filestft(self,indx,src):\n",
    "        category=self.keys[src]\n",
    "        #load magnitude spectrum\n",
    "        data=np.load(self.dataset_dict[category][str(indx)])\n",
    "        Id= self.dataset_dict[category][str(indx)].split(\"/\")[-1].split('.')[0]\n",
    "        return (data,Id)"
   ]
  },
  {
   "cell_type": "code",
   "execution_count": 3,
   "metadata": {},
   "outputs": [],
   "source": [
    "class ICASSP(Dataset):\n",
    "    def __init__(self):\n",
    "        #super().__init__(self)\n",
    "        self.daps= ICASSPDatasetHelper()\n",
    "\n",
    "    def __getitem__(self, index):\n",
    "        mic,id=self.daps.get_indxd_file(index,2)\n",
    "        fend,id=self.daps.get_indxd_file(index,3)\n",
    "        nend,id=self.daps.get_indxd_file(index,4)\n",
    "        return (mic,fend,nend)\n",
    "\n",
    "    def __len__(self):\n",
    "        \n",
    "        #print (self.daps.num_files_per_category)\n",
    "        return self.daps.num_files_per_category"
   ]
  },
  {
   "cell_type": "code",
   "execution_count": 4,
   "metadata": {},
   "outputs": [
    {
     "name": "stdout",
     "output_type": "stream",
     "text": [
      "62000\n",
      "{1: 'echo_signal', 2: 'nearend_mic_signal', 3: 'farend_speech', 4: 'nearend_speech'}\n"
     ]
    }
   ],
   "source": [
    "dataset_train = ICASSP()\n",
    "print(dataset_train.__len__())\n",
    "print(dataset_train.daps.keys)"
   ]
  },
  {
   "cell_type": "code",
   "execution_count": 5,
   "metadata": {},
   "outputs": [
    {
     "name": "stdout",
     "output_type": "stream",
     "text": [
      "cuda\n"
     ]
    }
   ],
   "source": [
    "dtype = torch.float32 # we will be using float throughout this tutorial\n",
    "USE_GPU = True\n",
    "if USE_GPU and torch.cuda.is_available():\n",
    "    device = torch.device('cuda')\n",
    "else:\n",
    "    device = torch.device('cpu')\n",
    "\n",
    "print(device)"
   ]
  },
  {
   "cell_type": "code",
   "execution_count": 6,
   "metadata": {},
   "outputs": [],
   "source": [
    "def flatten(x):\n",
    "    N = x.shape[0] # read in N, C, H, W\n",
    "    return x.view(N, -1)  # \"flatten\" the C * H * W values into a single vector per image"
   ]
  },
  {
   "cell_type": "code",
   "execution_count": 7,
   "metadata": {},
   "outputs": [],
   "source": [
    "NUM_TRAIN=30000\n",
    "NUM_VAL=10000\n",
    "NUM_TEST=5000\n",
    "print_every = 100\n",
    "dataset_train = ICASSP()\n",
    "batch_size=4\n",
    "loader_train = DataLoader(dataset_train, batch_size=batch_size, num_workers=8,\n",
    "                          sampler=sampler.SequentialSampler(range(NUM_TRAIN)))\n",
    "loader_val= DataLoader(dataset_train, batch_size=batch_size, num_workers=8,\n",
    "                          sampler=sampler.SequentialSampler(range(NUM_TRAIN,NUM_VAL+NUM_TRAIN)))\n",
    "loader_test = DataLoader(dataset_train, batch_size=batch_size, num_workers=8,\n",
    "                          sampler=sampler.SequentialSampler(range(NUM_VAL+NUM_TRAIN, NUM_VAL+NUM_TRAIN+NUM_TEST)))\n",
    "\n",
    "helper= ICASSPDatasetHelper()\n"
   ]
  },
  {
   "cell_type": "code",
   "execution_count": 8,
   "metadata": {},
   "outputs": [
    {
     "name": "stdout",
     "output_type": "stream",
     "text": [
      "{1: 'echo_signal', 2: 'nearend_mic_signal', 3: 'farend_speech', 4: 'nearend_speech'}\n"
     ]
    }
   ],
   "source": [
    "print(dataset_train.daps.keys)"
   ]
  },
  {
   "cell_type": "code",
   "execution_count": 9,
   "metadata": {},
   "outputs": [],
   "source": [
    "#Create Model classes\n",
    "# create a class for linear layers \n",
    "class DenseLayer(nn.Module):\n",
    "    def __init__(self,input_size,output_size,dropOut_p):\n",
    "        super().__init__()\n",
    "        self.dense=nn.Linear(input_size,output_size,bias=True)\n",
    "        self.activation=nn.Tanh()\n",
    "        self.dropOut=nn.Dropout(p=dropOut_p,inplace=False)\n",
    "    \n",
    "    def forward(self,x):\n",
    "        y=self.dense(x)\n",
    "        y=self.activation(y)\n",
    "        y=self.dropOut(y)\n",
    "        return y\n",
    "\n",
    "#class for convolutional layers\n",
    "class ConvLayer(nn.Module):\n",
    "    def __init__(self,in_ch,out_ch,kernel_size,stride,padding,dropOut_p):\n",
    "        super().__init__()\n",
    "        self.conv=nn.Conv2d(in_ch,out_ch,kernel_size, stride=stride,padding=padding)\n",
    "        self.activation=nn.ReLU()\n",
    "        self.dropOut=nn.Dropout2d(p=dropOut_p,inplace=False)\n",
    "    \n",
    "    def forward(self,x):\n",
    "        y=self.conv(x)\n",
    "        y=self.activation(y)\n",
    "        y=self.dropOut(y)\n",
    "\n",
    "        return y\n",
    "\n",
    "#RNN model for Residual echo suppression\n",
    "class LSTMNet(nn.Module):\n",
    "    def __init__(self, input_dim, hidden_dim, fclayer_dim, output_dim, num_layers,dropout_prob):\n",
    "        super().__init__()\n",
    "        # Defining the number of layers and the nodes in each layer\n",
    "        self.layer_dim=num_layers\n",
    "        self.hidden_dim=hidden_dim\n",
    "        self.rnn = nn.LSTM(\n",
    "            fclayer_dim, hidden_dim, num_layers, batch_first=True\n",
    "        )\n",
    "        self.tanh=nn.Tanh()\n",
    "        self.fc1= nn.Linear(input_dim,fclayer_dim)\n",
    "        self.fc2= nn.Linear(hidden_dim,output_dim)\n",
    "        self.sig=nn.Sigmoid()\n",
    "        self.relu= nn.ReLU()\n",
    "\n",
    "\n",
    "    def forward(self, x):\n",
    "        \n",
    "        y= self.fc1(x)\n",
    "\n",
    "        y= self.tanh(y)\n",
    "        # Initializing hidden state for first input with zeros\n",
    "        h0 = torch.zeros(self.layer_dim, y.size(0), self.hidden_dim).requires_grad_()\n",
    "\n",
    "        # Forward propagation by passing in the input and hidden state into the model\n",
    "        out, h0 = self.rnn(y)\n",
    "\n",
    "        # Reshaping the outputs in the shape of (batch_size, seq_length, hidden_size)\n",
    "        # so that it can fit into the fully connected layer\n",
    "        #out = out[:, -1, :]\n",
    "        out=self.tanh(out)\n",
    "        # Convert the final state to our desired output shape (batch_size, output_dim)\n",
    "        out = self.fc2(out)\n",
    "        out = self.sig(out)\n",
    "        return out"
   ]
  },
  {
   "cell_type": "code",
   "execution_count": 10,
   "metadata": {},
   "outputs": [],
   "source": [
    "#SNR loss where yhat is average power spectrum of de-nonlinearised/denoised signal/ clean signal power \n",
    "def Loss_MSE(yhat,y,lossfn):\n",
    "    target = torch.ones(1).to(device=device)\n",
    "    #yhat=yhat.squeeze(0)\n",
    "    #y=y.squeeze(0)\n",
    "    #loss=lossfn(yhat,y,target)\n",
    "    loss=lossfn(yhat,y)\n",
    "    return loss"
   ]
  },
  {
   "cell_type": "code",
   "execution_count": 11,
   "metadata": {},
   "outputs": [],
   "source": [
    "def check_accuracy(loader, model,lossfn):\n",
    "    print('Checking accuracy on validation set')\n",
    "    model.eval()  # set model to evaluation mode\n",
    "    mse=0\n",
    "    with torch.no_grad():\n",
    "        for mic, fend, nend in loader:\n",
    "\n",
    "            x=torch.concat((mic,fend),1)\n",
    "            #print(x.shape)          \n",
    "            #iterate over each stft frame \n",
    "            x=x.to(device=device, dtype=dtype)\n",
    "            mic=mic.to(device=device, dtype=dtype)\n",
    "            nend=nend.to(device=device, dtype=dtype)\n",
    "            x=torch.permute(x, (0, 2, 1))\n",
    "            y=torch.permute(nend, (0, 2, 1))\n",
    "            mic=torch.permute(mic, (0, 2, 1))\n",
    "            pw_x=x*x\n",
    "            # Forward pass: compute scores and loss\n",
    "            mask = model(pw_x)\n",
    "\n",
    "            yhat= mask*mic\n",
    "            #yhat=yhat[:,:,:,-1]\n",
    "            #y=y[:,:,:,-1]\n",
    "            mse+= Loss_MSE(y,yhat,lossfn)\n",
    "        mse = mse / len(loader)\n",
    "        print(\"Validation loss is\", mse.cpu().numpy())\n",
    "        return  mse.cpu().numpy()"
   ]
  },
  {
   "cell_type": "code",
   "execution_count": 12,
   "metadata": {},
   "outputs": [],
   "source": [
    "print_every=1\n",
    "def train_model(model, optimizer, scheduler ,epochs=1):\n",
    "    \"\"\"\n",
    "    Train a model on DAPS.\n",
    "    \n",
    "    Inputs:\n",
    "    - model_fn: A Python function that performs the forward pass of the model.\n",
    "      It should have the signature scores = model_fn(x, params) where x is a\n",
    "      PyTorch Tensor of image data, params is a list of PyTorch Tensors giving\n",
    "      model weights, and scores is a PyTorch Tensor of shape (N, C) giving\n",
    "      scores for the elements in x.\n",
    "    - params: List of PyTorch Tensors giving weights for the model\n",
    "    - learning_rate: Python scalar giving the learning rate to use for SGD\n",
    "    \n",
    "    Returns: val loss and train loss\n",
    "    \"\"\"\n",
    "    val_loss=[]\n",
    "    train_loss=[]\n",
    "    #lossfn=nn.CosineEmbeddingLoss(margin=0,reduction=\"mean\")\n",
    "    lossfn=nn.MSELoss()\n",
    "    model = model.to(device=device)  # move the model parameters to CPU/GPU\n",
    "    for e in range(epochs):\n",
    "        running_loss = 0\n",
    "        for t, (mic, fend,nend) in enumerate(loader_train):\n",
    "            \n",
    "           \n",
    "            x=torch.concat((mic,fend),1)\n",
    "            #print(x.shape)          \n",
    "            #iterate over each stft frame \n",
    "            x=x.to(device=device, dtype=dtype)\n",
    "            mic=mic.to(device=device, dtype=dtype)\n",
    "            nend=nend.to(device=device, dtype=dtype)\n",
    "            x=torch.permute(x, (0, 2, 1))\n",
    "            y=torch.permute(nend, (0, 2, 1))\n",
    "            mic=torch.permute(mic, (0, 2, 1))\n",
    "            pw_x=x*x\n",
    "            # Forward pass: compute scores and loss\n",
    "\n",
    "            mask = model(pw_x)\n",
    "            #print(mask.shape)\n",
    "            yhat= mask*mic\n",
    "\n",
    "            #yhat=yhat[:,:,:,-1]\n",
    "            #y=y[:,:,:,-1]\n",
    "\n",
    "            loss = Loss_MSE(yhat, y, lossfn)\n",
    "\n",
    "            # Zero out all of the gradients for the variables which the optimizer\n",
    "            # will update.\n",
    "            optimizer.zero_grad()\n",
    "\n",
    "            # This is the backwards pass: compute the gradient of the loss with\n",
    "            # respect to each  parameter of the model.\n",
    "            loss.backward()\n",
    "\n",
    "            # Actually update the parameters of the model using the gradients\n",
    "            # computed by the backwards pass.\n",
    "            optimizer.step()\n",
    "            # Update parameters. We don't want to backpropagate through the\n",
    "            running_loss += loss.item()\n",
    "            \n",
    "\n",
    "        if t % print_every == 0:\n",
    "            print('Epoch %d, Iteration %d, loss = %.8f' % (e, t, (running_loss/len(loader_train))))\n",
    "            train_loss.append(running_loss/len(loader_train))\n",
    "            #check_accuracy_part2(loader_val, model_fn, params)\n",
    "            \n",
    "        vloss=check_accuracy(loader_val,model,lossfn)\n",
    "        model.train()\n",
    "        val_loss.append(vloss)\n",
    "        scheduler.step(loss)\n",
    "    return (train_loss,val_loss)"
   ]
  },
  {
   "cell_type": "code",
   "execution_count": 13,
   "metadata": {},
   "outputs": [],
   "source": [
    "learning_rate = 1e-3\n",
    "nfft_len=318\n",
    "hop_size=nfft_len//4\n",
    "specdims=(160,32)\n",
    "model = LSTMNet(input_dim=specdims[0]*2, hidden_dim=25, fclayer_dim=25, output_dim=specdims[0], num_layers=1,dropout_prob=0.0)\n",
    "# you can use Nesterov momentum in optim.SGD\n",
    "#optimizer = optim.SGD(model.parameters(), lr=learning_rate,\n",
    "#                     momentum=0.9, nesterov=True)\n",
    "# you can use Nesterov momentum in optim.SGD\n",
    "optimizer = optim.Adam(model.parameters(), lr=learning_rate)\n",
    "scheduler = torch.optim.lr_scheduler.ReduceLROnPlateau(optimizer, 'min')"
   ]
  },
  {
   "cell_type": "code",
   "execution_count": 14,
   "metadata": {},
   "outputs": [
    {
     "data": {
      "text/plain": [
       "==========================================================================================\n",
       "Layer (type:depth-idx)                   Output Shape              Param #\n",
       "==========================================================================================\n",
       "LSTMNet                                  --                        --\n",
       "├─Linear: 1-1                            [4, 32, 25]               8,025\n",
       "├─Tanh: 1-2                              [4, 32, 25]               --\n",
       "├─LSTM: 1-3                              [4, 32, 25]               5,200\n",
       "├─Linear: 1-4                            --                        (recursive)\n",
       "├─Tanh: 1-5                              [4, 32, 25]               --\n",
       "├─ReLU: 1-6                              --                        --\n",
       "├─Linear: 1-7                            [4, 32, 160]              4,160\n",
       "├─Sigmoid: 1-8                           [4, 32, 160]              --\n",
       "==========================================================================================\n",
       "Total params: 17,385\n",
       "Trainable params: 17,385\n",
       "Non-trainable params: 0\n",
       "Total mult-adds (M): 0.71\n",
       "==========================================================================================\n",
       "Input size (MB): 0.16\n",
       "Forward/backward pass size (MB): 0.22\n",
       "Params size (MB): 0.07\n",
       "Estimated Total Size (MB): 0.45\n",
       "=========================================================================================="
      ]
     },
     "execution_count": 14,
     "metadata": {},
     "output_type": "execute_result"
    }
   ],
   "source": [
    "batch_size = batch_size\n",
    "summary(model, input_size=(batch_size,specdims[1], specdims[0]*2))"
   ]
  },
  {
   "cell_type": "code",
   "execution_count": 15,
   "metadata": {},
   "outputs": [
    {
     "name": "stdout",
     "output_type": "stream",
     "text": [
      "Epoch 0, Iteration 7499, loss = 0.55460774\n",
      "Checking accuracy on validation set\n",
      "Validation loss is 0.5414876\n",
      "Epoch 1, Iteration 7499, loss = 0.50084228\n",
      "Checking accuracy on validation set\n",
      "Validation loss is 0.5084224\n",
      "Epoch 2, Iteration 7499, loss = 0.48145158\n",
      "Checking accuracy on validation set\n",
      "Validation loss is 0.5000468\n",
      "Epoch 3, Iteration 7499, loss = 0.47128861\n",
      "Checking accuracy on validation set\n",
      "Validation loss is 0.50180966\n",
      "Epoch 4, Iteration 7499, loss = 0.46538350\n",
      "Checking accuracy on validation set\n",
      "Validation loss is 0.4787977\n",
      "Epoch 5, Iteration 7499, loss = 0.45868076\n",
      "Checking accuracy on validation set\n",
      "Validation loss is 0.47315994\n",
      "Epoch 6, Iteration 7499, loss = 0.45378864\n",
      "Checking accuracy on validation set\n",
      "Validation loss is 0.46576864\n",
      "Epoch 7, Iteration 7499, loss = 0.44990538\n",
      "Checking accuracy on validation set\n"
     ]
    },
    {
     "ename": "KeyboardInterrupt",
     "evalue": "",
     "output_type": "error",
     "traceback": [
      "\u001b[0;31m---------------------------------------------------------------------------\u001b[0m",
      "\u001b[0;31mKeyboardInterrupt\u001b[0m                         Traceback (most recent call last)",
      "\u001b[1;32m/home/prasad/AEC/model/LSTM_AEC.ipynb Cell 15'\u001b[0m in \u001b[0;36m<cell line: 1>\u001b[0;34m()\u001b[0m\n\u001b[0;32m----> <a href='vscode-notebook-cell://ssh-remote%2B137.110.119.158/home/prasad/AEC/model/LSTM_AEC.ipynb#ch0000014vscode-remote?line=0'>1</a>\u001b[0m (train_loss,val_loss)\u001b[39m=\u001b[39mtrain_model(model, optimizer, scheduler,\u001b[39m200\u001b[39;49m)\n",
      "\u001b[1;32m/home/prasad/AEC/model/LSTM_AEC.ipynb Cell 12'\u001b[0m in \u001b[0;36mtrain_model\u001b[0;34m(model, optimizer, scheduler, epochs)\u001b[0m\n\u001b[1;32m     <a href='vscode-notebook-cell://ssh-remote%2B137.110.119.158/home/prasad/AEC/model/LSTM_AEC.ipynb#ch0000011vscode-remote?line=64'>65</a>\u001b[0m     train_loss\u001b[39m.\u001b[39mappend(running_loss\u001b[39m/\u001b[39m\u001b[39mlen\u001b[39m(loader_train))\n\u001b[1;32m     <a href='vscode-notebook-cell://ssh-remote%2B137.110.119.158/home/prasad/AEC/model/LSTM_AEC.ipynb#ch0000011vscode-remote?line=65'>66</a>\u001b[0m     \u001b[39m#check_accuracy_part2(loader_val, model_fn, params)\u001b[39;00m\n\u001b[0;32m---> <a href='vscode-notebook-cell://ssh-remote%2B137.110.119.158/home/prasad/AEC/model/LSTM_AEC.ipynb#ch0000011vscode-remote?line=67'>68</a>\u001b[0m vloss\u001b[39m=\u001b[39mcheck_accuracy(loader_val,model,lossfn)\n\u001b[1;32m     <a href='vscode-notebook-cell://ssh-remote%2B137.110.119.158/home/prasad/AEC/model/LSTM_AEC.ipynb#ch0000011vscode-remote?line=68'>69</a>\u001b[0m model\u001b[39m.\u001b[39mtrain()\n\u001b[1;32m     <a href='vscode-notebook-cell://ssh-remote%2B137.110.119.158/home/prasad/AEC/model/LSTM_AEC.ipynb#ch0000011vscode-remote?line=69'>70</a>\u001b[0m val_loss\u001b[39m.\u001b[39mappend(vloss)\n",
      "\u001b[1;32m/home/prasad/AEC/model/LSTM_AEC.ipynb Cell 11'\u001b[0m in \u001b[0;36mcheck_accuracy\u001b[0;34m(loader, model, lossfn)\u001b[0m\n\u001b[1;32m      <a href='vscode-notebook-cell://ssh-remote%2B137.110.119.158/home/prasad/AEC/model/LSTM_AEC.ipynb#ch0000010vscode-remote?line=7'>8</a>\u001b[0m x\u001b[39m=\u001b[39mtorch\u001b[39m.\u001b[39mconcat((mic,fend),\u001b[39m1\u001b[39m)\n\u001b[1;32m      <a href='vscode-notebook-cell://ssh-remote%2B137.110.119.158/home/prasad/AEC/model/LSTM_AEC.ipynb#ch0000010vscode-remote?line=8'>9</a>\u001b[0m \u001b[39m#print(x.shape)          \u001b[39;00m\n\u001b[1;32m     <a href='vscode-notebook-cell://ssh-remote%2B137.110.119.158/home/prasad/AEC/model/LSTM_AEC.ipynb#ch0000010vscode-remote?line=9'>10</a>\u001b[0m \u001b[39m#iterate over each stft frame \u001b[39;00m\n\u001b[0;32m---> <a href='vscode-notebook-cell://ssh-remote%2B137.110.119.158/home/prasad/AEC/model/LSTM_AEC.ipynb#ch0000010vscode-remote?line=10'>11</a>\u001b[0m x\u001b[39m=\u001b[39mx\u001b[39m.\u001b[39;49mto(device\u001b[39m=\u001b[39;49mdevice, dtype\u001b[39m=\u001b[39;49mdtype)\n\u001b[1;32m     <a href='vscode-notebook-cell://ssh-remote%2B137.110.119.158/home/prasad/AEC/model/LSTM_AEC.ipynb#ch0000010vscode-remote?line=11'>12</a>\u001b[0m mic\u001b[39m=\u001b[39mmic\u001b[39m.\u001b[39mto(device\u001b[39m=\u001b[39mdevice, dtype\u001b[39m=\u001b[39mdtype)\n\u001b[1;32m     <a href='vscode-notebook-cell://ssh-remote%2B137.110.119.158/home/prasad/AEC/model/LSTM_AEC.ipynb#ch0000010vscode-remote?line=12'>13</a>\u001b[0m nend\u001b[39m=\u001b[39mnend\u001b[39m.\u001b[39mto(device\u001b[39m=\u001b[39mdevice, dtype\u001b[39m=\u001b[39mdtype)\n",
      "\u001b[0;31mKeyboardInterrupt\u001b[0m: "
     ]
    }
   ],
   "source": [
    "(train_loss,val_loss)=train_model(model, optimizer, scheduler,200)"
   ]
  },
  {
   "cell_type": "code",
   "execution_count": 89,
   "metadata": {},
   "outputs": [],
   "source": [
    "model_path= \"./misc/aec_lstm_160_re.pth\"\n",
    "torch.save(model.state_dict(),model_path)"
   ]
  },
  {
   "cell_type": "code",
   "execution_count": 15,
   "metadata": {},
   "outputs": [
    {
     "data": {
      "text/plain": [
       "<All keys matched successfully>"
      ]
     },
     "execution_count": 15,
     "metadata": {},
     "output_type": "execute_result"
    }
   ],
   "source": [
    "model_path= \"./misc/aec_lstm_160_re.pth\"\n",
    "model=LSTMNet(input_dim=specdims[0]*2, hidden_dim=25, fclayer_dim=25, output_dim=specdims[0], num_layers=1,dropout_prob=0.0)\n",
    "model.load_state_dict(torch.load(model_path))"
   ]
  },
  {
   "cell_type": "code",
   "execution_count": 18,
   "metadata": {},
   "outputs": [],
   "source": [
    "dataset=ICASSPDatasetHelper()\n",
    "#test_index=19485\n",
    "#test_index=1970\n",
    "test_index=27790\n",
    "model.to(device=\"cpu\")\n",
    "mic,_= dataset.get_indxd_file(test_index,2)\n",
    "fend,_= dataset.get_indxd_file(test_index,3)\n",
    "nend,_= dataset.get_indxd_file(test_index,4)\n",
    "echo,_= dataset.get_indxd_file(test_index,1)\n",
    "mic = torch.tensor(mic)\n",
    "fend = torch.tensor(fend)\n",
    "nend = torch.tensor(nend)\n",
    "y=torch.permute(nend,(1,0))\n",
    "x=torch.concat((mic,fend),0)\n",
    "x= torch.permute(x,(1,0))\n",
    "x=x.unsqueeze(0)\n",
    "x=x.to(dtype=torch.float32)\n",
    "model.eval()\n",
    "with torch.no_grad():\n",
    "    out=model(x*x)\n",
    "out = out *y\n",
    "out=out.squeeze(0)\n",
    "out= torch.permute(out,(1,0))"
   ]
  },
  {
   "cell_type": "code",
   "execution_count": 19,
   "metadata": {},
   "outputs": [
    {
     "data": {
      "image/png": "[encoded data removed]",
      "text/plain": [
       "<Figure size 432x288 with 4 Axes>"
      ]
     },
     "metadata": {
      "needs_background": "light"
     },
     "output_type": "display_data"
    }
   ],
   "source": [
    "plt.figure()\n",
    "plt.title(\"Comparison of echo cancellation output vs Ground Truth\")\n",
    "ax1=plt.subplot(1,4,1)\n",
    "ax1.imshow(mic.numpy())\n",
    "ax1.title.set_text(\"mic input\")\n",
    "ax2=plt.subplot(1,4,2)\n",
    "ax2.imshow(out.cpu().numpy())\n",
    "ax2.title.set_text(\"output\")\n",
    "ax3=plt.subplot(1,4,3)\n",
    "ax3.imshow(nend.numpy())\n",
    "ax3.title.set_text(\"GT near end\")\n",
    "ax4=plt.subplot(1,4,4)\n",
    "ax4.imshow(echo)\n",
    "ax4.title.set_text(\"echo\")"
   ]
  },
  {
   "cell_type": "code",
   "execution_count": null,
   "metadata": {},
   "outputs": [],
   "source": [
    "plt.plot(train_loss)\n",
    "plt.plot(val_loss)\n",
    "plt.legend([\"train loss\",\"validation loss\"])"
   ]
  },
  {
   "cell_type": "markdown",
   "metadata": {},
   "source": [
    "Run a test file using the model to process and remove the echo"
   ]
  },
  {
   "cell_type": "code",
   "execution_count": 30,
   "metadata": {},
   "outputs": [],
   "source": [
    "file_indx=12\n",
    "mic_sig,_=librosa.load(\"../dataset/AEC-Challenge/datasets/synthetic/nearend_mic_signal/nearend_mic_fileid_\"+str(file_indx)+\".wav\",sr=8000)\n",
    "fend_sig,_=librosa.load(\"../dataset/AEC-Challenge/datasets/synthetic/farend_speech/farend_speech_fileid_\"+str(file_indx)+\".wav\",sr=8000)\n",
    "nend_sig,_=librosa.load(\"../dataset/AEC-Challenge/datasets/synthetic/nearend_speech/nearend_speech_fileid_\"+str(file_indx)+\".wav\",sr=8000)\n"
   ]
  },
  {
   "cell_type": "code",
   "execution_count": 31,
   "metadata": {},
   "outputs": [],
   "source": [
    "nfft_len=318\n",
    "mic_stft=librosa.stft(mic_sig,n_fft=nfft_len, hop_length=nfft_len//4,center=True)\n",
    "fend_stft=librosa.stft(fend_sig,n_fft=nfft_len, hop_length=nfft_len//4,center=True)\n",
    "nend_stft=librosa.stft(nend_sig,n_fft=nfft_len, hop_length=nfft_len//4,center=True)"
   ]
  },
  {
   "cell_type": "code",
   "execution_count": 32,
   "metadata": {},
   "outputs": [
    {
     "name": "stdout",
     "output_type": "stream",
     "text": [
      "(79948,)\n"
     ]
    }
   ],
   "source": [
    "\n",
    "fx=librosa.stft(fend_sig,n_fft=318,hop_length=318//4)\n",
    "res_spec=np.zeros_like(fx)\n",
    "for i in range(0,31):\n",
    "    mic=  mic_stft[:,specdims[1]*i:specdims[1]*i+specdims[1]]\n",
    "    fend= fend_stft[:,specdims[1]*i:specdims[1]*i+specdims[1]]\n",
    "    nend= nend_stft[:,specdims[1]*i:specdims[1]*i+specdims[1]]\n",
    "    tmic = torch.tensor(abs(mic))\n",
    "    tfend = torch.tensor(abs(fend))\n",
    "    tnend = torch.tensor(abs(nend))\n",
    "    y=torch.permute(tnend,(1,0))\n",
    "    x=torch.concat((tmic,tfend),0)\n",
    "    x= torch.permute(x,(1,0))\n",
    "    x=x.unsqueeze(0)\n",
    "    x=x.to(dtype=torch.float32)\n",
    "    model.eval()\n",
    "    with torch.no_grad():\n",
    "        out=model(x*x)\n",
    "    out = out*y\n",
    "    out=out.squeeze(0)\n",
    "    out= torch.permute(out,(1,0))\n",
    "    out=out.cpu().numpy()\n",
    "    mag,ph=librosa.magphase(mic)\n",
    "    out=out*ph\n",
    "    #print(out.shape)\n",
    "    res_spec[:,specdims[1]*i:specdims[1]*i+specdims[1]]=out\n",
    "    #specs[:,specdims[1]*i:specdims[1]*i+specdims[1]]=out*spec\n",
    "res_nend=librosa.istft(res_spec,hop_length=nfft_len//4,n_fft=nfft_len)\n",
    "#res_nend=librosa.util.normalize(res_nend)\n",
    "print(res_nend.shape)"
   ]
  },
  {
   "cell_type": "code",
   "execution_count": 33,
   "metadata": {},
   "outputs": [
    {
     "data": {
      "text/plain": [
       "[<matplotlib.lines.Line2D at 0x7f3ad5ca1fa0>]"
      ]
     },
     "execution_count": 33,
     "metadata": {},
     "output_type": "execute_result"
    },
    {
     "data": {
      "image/png": "[encoded data removed]",
      "text/plain": [
       "<Figure size 432x288 with 1 Axes>"
      ]
     },
     "metadata": {
      "needs_background": "light"
     },
     "output_type": "display_data"
    },
    {
     "data": {
      "image/png": "[encoded data removed]",
      "text/plain": [
       "<Figure size 432x288 with 1 Axes>"
      ]
     },
     "metadata": {
      "needs_background": "light"
     },
     "output_type": "display_data"
    }
   ],
   "source": [
    "plt.figure()\n",
    "plt.plot(mic_sig)\n",
    "plt.plot(res_nend)\n",
    "plt.figure()\n",
    "plt.plot(nend_sig)\n"
   ]
  },
  {
   "cell_type": "markdown",
   "metadata": {},
   "source": [
    "Dump processed files"
   ]
  },
  {
   "cell_type": "code",
   "execution_count": 34,
   "metadata": {},
   "outputs": [],
   "source": [
    "wav.write(\"../op/echo_cancelled_fileid_\"+str(file_indx)+\".wav\", 8000, res_nend)\n",
    "wav.write(\"../op/mic_fileid_\"+str(file_indx)+\".wav\", 8000, mic_sig)\n",
    "wav.write(\"../op/nend_fileid_\"+str(file_indx)+\".wav\", 8000, nend_sig)\n",
    "wav.write(\"../op/fend_fileid_\"+str(file_indx)+\".wav\", 8000, fend_sig)"
   ]
  }
 ],
 "metadata": {
  "interpreter": {
   "hash": "9f5c7ac77e593d0994949fe61f06040dedc773eb228097f0a804bc0d2d8d2f83"
  },
  "kernelspec": {
   "display_name": "Python 3.9.12 ('aec': conda)",
   "language": "python",
   "name": "python3"
  },
  "language_info": {
   "codemirror_mode": {
    "name": "ipython",
    "version": 3
   },
   "file_extension": ".py",
   "mimetype": "text/x-python",
   "name": "python",
   "nbconvert_exporter": "python",
   "pygments_lexer": "ipython3",
   "version": "3.9.12"
  },
  "orig_nbformat": 4
 },
 "nbformat": 4,
 "nbformat_minor": 2
}
