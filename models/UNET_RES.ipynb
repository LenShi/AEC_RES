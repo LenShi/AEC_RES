{
 "cells": [
  {
   "cell_type": "code",
   "execution_count": 2,
   "metadata": {},
   "outputs": [],
   "source": [
    "import torch\n",
    "import torchaudio\n",
    "import torchaudio.functional as F\n",
    "import torchaudio.transforms as T\n",
    "from torch.utils.data import Dataset, DataLoader\n",
    "from torchvision import transforms, utils\n",
    "import os\n",
    "import numpy as np\n",
    "import torch.nn as nn\n",
    "import pandas as pd\n",
    "import librosa\n",
    "import librosa.display\n",
    "from torch.utils.data import sampler\n",
    "import torch.optim as optim\n",
    "import json\n",
    "import cv2\n",
    "import matplotlib.pyplot as plt"
   ]
  },
  {
   "cell_type": "code",
   "execution_count": 24,
   "metadata": {},
   "outputs": [],
   "source": [
    "class FeatureExtractor():\n",
    "    def __init__(self,fft_len,hop_size,sr):\n",
    "        self.fft_len=int(fft_len*sr//1000)\n",
    "        self.hop_size=int(hop_size*sr//1000)\n",
    "        self.sr= sr\n",
    "        self.spec_dims=(160,32)\n",
    "        self.fft_buff=np.zeros((self.fft_len,1))\n",
    "        self.ifft_buff=np.zeros((self.fft_len,1))\n",
    "        self.wnd=np.hanning(self.fft_len)\n",
    "        self.zbuf=np.zeros((self.hop_size,1))\n",
    "        self.specgram=np.zeros((self.spec_dims[0],self.spec_dims[1]))\n",
    "\n",
    "    def stft(self,x):\n",
    "        R=self.hop_size\n",
    "        M= self.fft_len\n",
    "        x=x.reshape((x.shape[0],-1))\n",
    "        self.fft_buff[M-R:,:]=x\n",
    "        xw=np.multiply(self.fft_buff.T,self.wnd)\n",
    "        fft_xw=np.fft.fft(xw,n=M).T\n",
    "        self.fft_buff[:M-R,:]=self.fft_buff[R:,:]\n",
    "        return fft_xw\n",
    "\n",
    "    def istft(self,x):\n",
    "        R=self.hop_size\n",
    "        M= self.fft_len\n",
    "        iift_xw= np.fft.ifft(x.T,self.fft_len)\n",
    "        y=self.ifft_buff[:R]\n",
    "        self.ifft_buff[:M-R]=self.ifft_buff[R:]\n",
    "        self.ifft_buff[M-R:]=self.zbuf\n",
    "        self.ifft_buff=self.ifft_buff+iift_xw.T\n",
    "        return y.real\n",
    "    \n",
    "    def spectrogram(self,fft_x):\n",
    "        self.specgram[:,:-1]=self.specgram[:,1:]\n",
    "        self.specgram[:,-1]=np.abs(fft_x)[:self.spec_dims[0],0]\n",
    "        y=cv2.normalize(self.specgram, None, alpha=0, beta=1, norm_type=cv2.NORM_MINMAX, dtype=cv2.CV_32F)\n",
    "        y=np.flip(y,0)\n",
    "        return y\n",
    "    "
   ]
  },
  {
   "cell_type": "code",
   "execution_count": 21,
   "metadata": {},
   "outputs": [],
   "source": [
    "class DAPSDatasetHelper():\n",
    "    #initialization \n",
    "    def __init__(self):\n",
    "        self.sample_rate=8000\n",
    "        fft_len=40\n",
    "        hop_len=10\n",
    "        self.ftextr=FeatureExtractor(fft_len=fft_len,hop_size=hop_len,sr=8000)\n",
    "        self.dir= \"./daps_dict_unet2.json\"\n",
    "        openfile=open(self.dir, \"r\")\n",
    "        self.dataset_dict= json.load(openfile)\n",
    "        indx=2\n",
    "        self.keys={}\n",
    "        for key  in self.dataset_dict.keys():\n",
    "            if(key==\"produced\"):\n",
    "                self.keys[1]=key\n",
    "            else:\n",
    "                self.keys[indx]=key\n",
    "                indx+=1\n",
    "\n",
    "        self.num_files_per_category=len(self.dataset_dict[\"produced\"].keys())\n",
    "\n",
    "    #get the indexed file and sample rate\n",
    "    def get_indxd_file(self,indx,isLabel=False):\n",
    "        if(isLabel):\n",
    "            category=self.keys[1]\n",
    "        else:\n",
    "            #category=self.keys[np.random.randint(2,len(self.keys))]\n",
    "            #consider one category for now\n",
    "            category=self.keys[3]\n",
    "        data=cv2.imread(self.dataset_dict[category][str(indx)],0)\n",
    "        data= cv2.normalize(data, None, alpha=0, beta=1, norm_type=cv2.NORM_MINMAX, dtype=cv2.CV_32F)\n",
    "        Id= self.dataset_dict[category][str(indx)].split(\"/\")[-1].split('.')[0]\n",
    "        return (data,Id)"
   ]
  },
  {
   "cell_type": "code",
   "execution_count": 5,
   "metadata": {},
   "outputs": [],
   "source": [
    "class DAPS(Dataset):\n",
    "    def __init__(self):\n",
    "        #super().__init__(self)\n",
    "        self.daps= DAPSDatasetHelper()\n",
    "\n",
    "    def __getitem__(self, index):\n",
    "        data,id=self.daps.get_indxd_file(index)\n",
    "        label,id=self.daps.get_indxd_file(index,True)\n",
    "        return (data,label)\n",
    "\n",
    "    def __len__(self):\n",
    "        return (len(self.daps.keys)-1)*self.daps.num_files_per_category"
   ]
  },
  {
   "cell_type": "code",
   "execution_count": 6,
   "metadata": {},
   "outputs": [
    {
     "name": "stdout",
     "output_type": "stream",
     "text": [
      "cuda\n"
     ]
    }
   ],
   "source": [
    "dtype = torch.float32 # we will be using float throughout this tutorial\n",
    "USE_GPU = True\n",
    "if USE_GPU and torch.cuda.is_available():\n",
    "    device = torch.device('cuda')\n",
    "else:\n",
    "    device = torch.device('cpu')\n",
    "\n",
    "print(device)"
   ]
  },
  {
   "cell_type": "code",
   "execution_count": 7,
   "metadata": {},
   "outputs": [],
   "source": [
    "def flatten(x):\n",
    "    N = x.shape[0] # read in N, C, H, W\n",
    "    return x.view(N, -1)  # \"flatten\" the C * H * W values into a single vector per image"
   ]
  },
  {
   "cell_type": "code",
   "execution_count": 8,
   "metadata": {},
   "outputs": [],
   "source": [
    "NUM_TRAIN=16000\n",
    "NUM_VAL=2000\n",
    "NUM_TEST=2000\n",
    "print_every = 100\n",
    "dataset_train = DAPS()\n",
    "batch_size=8\n",
    "loader_train = DataLoader(dataset_train, batch_size=batch_size, num_workers=0,\n",
    "                          sampler=sampler.SequentialSampler(range(NUM_TRAIN)))\n",
    "loader_val= DataLoader(dataset_train, batch_size=batch_size, num_workers=0,\n",
    "                          sampler=sampler.SequentialSampler(range(NUM_TRAIN,NUM_VAL+NUM_TRAIN)))\n",
    "loader_test = DataLoader(dataset_train, batch_size=batch_size, num_workers=0,\n",
    "                          sampler=sampler.SequentialSampler(range(NUM_VAL+NUM_TRAIN, NUM_VAL+NUM_TRAIN+NUM_TEST)))\n",
    "\n",
    "helper= DAPSDatasetHelper()\n"
   ]
  },
  {
   "cell_type": "code",
   "execution_count": 9,
   "metadata": {},
   "outputs": [
    {
     "name": "stdout",
     "output_type": "stream",
     "text": [
      "{2: 'iphone_bedroom1', 3: 'iphone_balcony1', 4: 'ipad_confroom1', 5: 'clean', 6: 'iphone_livingroom1', 7: 'ipad_confroom2', 8: 'ipad_livingroom1', 9: 'cleanraw', 1: 'produced', 10: 'ipadflat_office1', 11: 'ipadflat_confroom1', 12: 'ipad_office1', 13: 'ipad_balcony1', 14: 'ipad_bedroom1', 15: 'sample', 16: 'ipad_office2'}\n"
     ]
    }
   ],
   "source": [
    "print(dataset_train.daps.keys)"
   ]
  },
  {
   "cell_type": "code",
   "execution_count": 10,
   "metadata": {},
   "outputs": [],
   "source": [
    "class block(nn.Module):\n",
    "    def __init__(self, in_channels, out_channels):\n",
    "        super().__init__()\n",
    "        self.conv1 = nn.Conv2d(in_channels=in_channels, out_channels=out_channels,\n",
    "                                kernel_size=(3,3),stride=1,padding=1)\n",
    "        #self.bnorm1=nn.BatchNorm2d(out_channels)\n",
    "        self.relu = nn.ReLU()\n",
    "        self.conv2 = nn.Conv2d(out_channels, out_channels, kernel_size=(3,3),stride=1,padding=1)\n",
    "        #self.bnorm2=nn.BatchNorm2d(out_channels)\n",
    "\n",
    "    def forward(self, x):\n",
    "        x = self.relu(self.conv1(x))\n",
    "        x = self.relu(self.conv2(x))\n",
    "        return x\n",
    "\n",
    "\n",
    "class encoder(nn.Module):\n",
    "    def __init__(self, c_list):\n",
    "        super().__init__()\n",
    "        self.pool = nn.MaxPool2d(kernel_size=(2,1),stride=(2,1))\n",
    "        self.blocks = nn.ModuleList([block(c_list[i], c_list[i+1]) for i in range(len(c_list)-1)])\n",
    "\n",
    "    def forward(self, x):\n",
    "        filters = []\n",
    "        for block in self.blocks:\n",
    "            x = block(x)\n",
    "            #print(\"conv output\",x.shape)\n",
    "            filters.append(x)\n",
    "            x = self.pool(x)\n",
    "            #print(\"pool output\",x.shape)\n",
    "        return filters\n",
    "\n",
    "\n",
    "class decoder(nn.Module):\n",
    "    def __init__(self, c_list):\n",
    "        super().__init__()\n",
    "        self.up_cov = nn.ModuleList([nn.ConvTranspose2d(c_list[i], c_list[i+1], kernel_size=(2,1), stride=(2,1))\n",
    "                                                                    for i in range(len(c_list)-1)])\n",
    "        self.conv_blocks = nn.ModuleList([block(c_list[i], c_list[i+1]) for i in range(len(c_list)-1)])\n",
    "        \n",
    "\n",
    "    def forward(self, x, features):    \n",
    "        for i in range(len(self.conv_blocks)):\n",
    "            x = self.up_cov[i](x)\n",
    "           # print(\"up conv output\",features[i].shape, x.shape)\n",
    "            x = torch.cat([x, features[i]], dim=1)\n",
    "            x = self.conv_blocks[i](x)\n",
    "            #print(\"concat output\",x.shape)\n",
    "        return x\n",
    "\n",
    "class UNet(nn.Module):\n",
    "    def __init__(self):\n",
    "        super().__init__()\n",
    "        c_list=[1, 16, 32, 64, 128]\n",
    "        self.enc_blocks = encoder(c_list)\n",
    "        self.dec_blocks = decoder(c_list[::-1][:-1])\n",
    "        self.last_layer = nn.Conv2d(c_list[1], 1, kernel_size=1,stride=1,padding=0)\n",
    "\n",
    "    def forward(self, x):\n",
    "        filters = self.enc_blocks(x)\n",
    "        x = self.dec_blocks(filters[-1], filters[::-1][1:])\n",
    "        return self.last_layer(x)"
   ]
  },
  {
   "cell_type": "code",
   "execution_count": 11,
   "metadata": {},
   "outputs": [],
   "source": [
    "#SNR loss where yhat is average power spectrum of de-nonlinearised/denoised signal/ clean signal power \n",
    "def Loss_SNR(yhat,y):\n",
    "    yhat=yhat.cpu().detach().numpy()\n",
    "    y=y.cpu().detach().numpy()\n",
    "    loss= np.mean(10*np.log(np.abs(yhat-y)/y))\n",
    "    loss=torch.from_numpy(loss)\n",
    "    loss=loss.to(device=device,dtype=dtype)\n",
    "    return loss\n",
    "\n",
    "#SNR loss where yhat is average power spectrum of de-nonlinearised/denoised signal/ clean signal power \n",
    "def Loss_MSE(yhat,y,lossfn):\n",
    "    loss=lossfn(yhat,y)\n",
    "    return loss\n"
   ]
  },
  {
   "cell_type": "code",
   "execution_count": 12,
   "metadata": {},
   "outputs": [],
   "source": [
    "def check_accuracy(loader, model,lossfn):\n",
    "    print('Checking accuracy on validation set')\n",
    "    model.eval()  # set model to evaluation mode\n",
    "    mse=0\n",
    "    with torch.no_grad():\n",
    "        for x, y in loader:\n",
    "            x = x.to(device=device, dtype=dtype)  # move to device, e.g. GPU\n",
    "            y = y.to(device=device, dtype=dtype)\n",
    "            x=x.unsqueeze(1)\n",
    "            y=y.unsqueeze(1) \n",
    "            yhat = model(x)\n",
    "            yhat=yhat[:,:,:,24:]\n",
    "            y=y[:,:,:,24:]\n",
    "            mse+= lossfn(y,yhat)\n",
    "        mse = mse / len(loader)\n",
    "        print(\"Validation loss is\", mse.cpu().numpy())\n",
    "        return  mse.cpu().numpy()"
   ]
  },
  {
   "cell_type": "code",
   "execution_count": 13,
   "metadata": {},
   "outputs": [],
   "source": [
    "print_every=1\n",
    "def train_model(model, optimizer, scheduler ,epochs=1):\n",
    "    \"\"\"\n",
    "    Train a model on DAPS.\n",
    "    \n",
    "    Inputs:\n",
    "    - model_fn: A Python function that performs the forward pass of the model.\n",
    "      It should have the signature scores = model_fn(x, params) where x is a\n",
    "      PyTorch Tensor of image data, params is a list of PyTorch Tensors giving\n",
    "      model weights, and scores is a PyTorch Tensor of shape (N, C) giving\n",
    "      scores for the elements in x.\n",
    "    - params: List of PyTorch Tensors giving weights for the model\n",
    "    - learning_rate: Python scalar giving the learning rate to use for SGD\n",
    "    \n",
    "    Returns: val loss and train loss\n",
    "    \"\"\"\n",
    "    val_loss=[]\n",
    "    train_loss=[]\n",
    "    lossfn=nn.SmoothL1Loss()\n",
    "    model = model.to(device=device)  # move the model parameters to CPU/GPU\n",
    "    for e in range(epochs):\n",
    "        running_loss = 0\n",
    "        for t, (x, y) in enumerate(loader_train):\n",
    "            \n",
    "            #print(y.shape)          \n",
    "            #iterate over each stft frame \n",
    "            x=x.to(device=device, dtype=dtype)\n",
    "            y=y.to(device=device, dtype=dtype)\n",
    "\n",
    "            x=x.unsqueeze(1)\n",
    "            y=y.unsqueeze(1) \n",
    "\n",
    "            # Forward pass: compute scores and loss\n",
    "            yhat = model(x)\n",
    "\n",
    "            yhat=yhat[:,:,:,24:]\n",
    "            y=y[:,:,:,24:]\n",
    "\n",
    "            loss = Loss_MSE(yhat, y, lossfn)\n",
    "\n",
    "            # Zero out all of the gradients for the variables which the optimizer\n",
    "            # will update.\n",
    "            optimizer.zero_grad()\n",
    "\n",
    "            # This is the backwards pass: compute the gradient of the loss with\n",
    "            # respect to each  parameter of the model.\n",
    "            loss.backward()\n",
    "\n",
    "            # Actually update the parameters of the model using the gradients\n",
    "            # computed by the backwards pass.\n",
    "            optimizer.step()\n",
    "            # Update parameters. We don't want to backpropagate through the\n",
    "            running_loss += loss.item()\n",
    "            \n",
    "\n",
    "        if t % print_every == 0:\n",
    "            print('Epoch %d, Iteration %d, loss = %.4f' % (e, t, (running_loss/len(loader_train))))\n",
    "            train_loss.append(running_loss/len(loader_train))\n",
    "            #check_accuracy_part2(loader_val, model_fn, params)\n",
    "            \n",
    "        vloss=check_accuracy(loader_val,model,lossfn)\n",
    "        val_loss.append(vloss)\n",
    "        scheduler.step(loss)\n",
    "    return (train_loss,val_loss)"
   ]
  },
  {
   "cell_type": "code",
   "execution_count": 129,
   "metadata": {},
   "outputs": [],
   "source": [
    "learning_rate = 1e-3\n",
    "\n",
    "model = UNet()\n",
    "# you can use Nesterov momentum in optim.SGD\n",
    "#optimizer = optim.SGD(model.parameters(), lr=learning_rate,\n",
    "#                     momentum=0.9, nesterov=True)\n",
    "# you can use Nesterov momentum in optim.SGD\n",
    "optimizer = optim.Adam(model.parameters(), lr=learning_rate)\n",
    "scheduler = torch.optim.lr_scheduler.ReduceLROnPlateau(optimizer, 'min')"
   ]
  },
  {
   "cell_type": "code",
   "execution_count": 130,
   "metadata": {},
   "outputs": [
    {
     "name": "stdout",
     "output_type": "stream",
     "text": [
      "Epoch 0, Iteration 1999, loss = 0.0226\n",
      "Checking accuracy on validation set\n",
      "Validation loss is 0.021427058\n",
      "Epoch 1, Iteration 1999, loss = 0.0206\n",
      "Checking accuracy on validation set\n",
      "Validation loss is 0.019605674\n",
      "Epoch 2, Iteration 1999, loss = 0.0193\n",
      "Checking accuracy on validation set\n",
      "Validation loss is 0.018767782\n",
      "Epoch 3, Iteration 1999, loss = 0.0190\n",
      "Checking accuracy on validation set\n",
      "Validation loss is 0.018624987\n",
      "Epoch 4, Iteration 1999, loss = 0.0187\n",
      "Checking accuracy on validation set\n",
      "Validation loss is 0.018444877\n",
      "Epoch 5, Iteration 1999, loss = 0.0185\n",
      "Checking accuracy on validation set\n",
      "Validation loss is 0.018344868\n",
      "Epoch 6, Iteration 1999, loss = 0.0183\n",
      "Checking accuracy on validation set\n",
      "Validation loss is 0.018361231\n",
      "Epoch 7, Iteration 1999, loss = 0.0181\n",
      "Checking accuracy on validation set\n",
      "Validation loss is 0.017973933\n",
      "Epoch 8, Iteration 1999, loss = 0.0180\n",
      "Checking accuracy on validation set\n",
      "Validation loss is 0.018241089\n",
      "Epoch 9, Iteration 1999, loss = 0.0178\n",
      "Checking accuracy on validation set\n",
      "Validation loss is 0.017718758\n",
      "Epoch 10, Iteration 1999, loss = 0.0176\n",
      "Checking accuracy on validation set\n",
      "Validation loss is 0.017552853\n",
      "Epoch 11, Iteration 1999, loss = 0.0175\n",
      "Checking accuracy on validation set\n",
      "Validation loss is 0.017649384\n",
      "Epoch 12, Iteration 1999, loss = 0.0174\n",
      "Checking accuracy on validation set\n",
      "Validation loss is 0.017611753\n",
      "Epoch 13, Iteration 1999, loss = 0.0173\n",
      "Checking accuracy on validation set\n",
      "Validation loss is 0.01710766\n",
      "Epoch 14, Iteration 1999, loss = 0.0172\n",
      "Checking accuracy on validation set\n",
      "Validation loss is 0.01726109\n",
      "Epoch 15, Iteration 1999, loss = 0.0171\n",
      "Checking accuracy on validation set\n",
      "Validation loss is 0.017183313\n",
      "Epoch 16, Iteration 1999, loss = 0.0170\n",
      "Checking accuracy on validation set\n",
      "Validation loss is 0.017249187\n",
      "Epoch 17, Iteration 1999, loss = 0.0169\n",
      "Checking accuracy on validation set\n",
      "Validation loss is 0.017083917\n",
      "Epoch 18, Iteration 1999, loss = 0.0168\n",
      "Checking accuracy on validation set\n",
      "Validation loss is 0.01707008\n",
      "Epoch 19, Iteration 1999, loss = 0.0168\n",
      "Checking accuracy on validation set\n",
      "Validation loss is 0.0171859\n",
      "Epoch 20, Iteration 1999, loss = 0.0168\n",
      "Checking accuracy on validation set\n",
      "Validation loss is 0.016647689\n",
      "Epoch 21, Iteration 1999, loss = 0.0166\n",
      "Checking accuracy on validation set\n",
      "Validation loss is 0.016520001\n",
      "Epoch 22, Iteration 1999, loss = 0.0165\n",
      "Checking accuracy on validation set\n",
      "Validation loss is 0.016443795\n",
      "Epoch 23, Iteration 1999, loss = 0.0164\n",
      "Checking accuracy on validation set\n",
      "Validation loss is 0.016382629\n",
      "Epoch 24, Iteration 1999, loss = 0.0163\n",
      "Checking accuracy on validation set\n",
      "Validation loss is 0.016343417\n",
      "Epoch 25, Iteration 1999, loss = 0.0162\n",
      "Checking accuracy on validation set\n",
      "Validation loss is 0.016324094\n",
      "Epoch 26, Iteration 1999, loss = 0.0162\n",
      "Checking accuracy on validation set\n",
      "Validation loss is 0.016291603\n",
      "Epoch 27, Iteration 1999, loss = 0.0161\n",
      "Checking accuracy on validation set\n",
      "Validation loss is 0.01628602\n",
      "Epoch 28, Iteration 1999, loss = 0.0161\n",
      "Checking accuracy on validation set\n",
      "Validation loss is 0.016273577\n",
      "Epoch 29, Iteration 1999, loss = 0.0160\n",
      "Checking accuracy on validation set\n",
      "Validation loss is 0.016254641\n",
      "Epoch 30, Iteration 1999, loss = 0.0160\n",
      "Checking accuracy on validation set\n",
      "Validation loss is 0.016224792\n",
      "Epoch 31, Iteration 1999, loss = 0.0159\n",
      "Checking accuracy on validation set\n",
      "Validation loss is 0.016228234\n",
      "Epoch 32, Iteration 1999, loss = 0.0159\n",
      "Checking accuracy on validation set\n",
      "Validation loss is 0.016203467\n",
      "Epoch 33, Iteration 1999, loss = 0.0158\n",
      "Checking accuracy on validation set\n",
      "Validation loss is 0.016170975\n",
      "Epoch 34, Iteration 1999, loss = 0.0158\n",
      "Checking accuracy on validation set\n",
      "Validation loss is 0.016166968\n",
      "Epoch 35, Iteration 1999, loss = 0.0157\n",
      "Checking accuracy on validation set\n",
      "Validation loss is 0.016151179\n",
      "Epoch 36, Iteration 1999, loss = 0.0157\n",
      "Checking accuracy on validation set\n",
      "Validation loss is 0.016127486\n",
      "Epoch 37, Iteration 1999, loss = 0.0156\n",
      "Checking accuracy on validation set\n",
      "Validation loss is 0.016101947\n",
      "Epoch 38, Iteration 1999, loss = 0.0156\n",
      "Checking accuracy on validation set\n",
      "Validation loss is 0.01608813\n",
      "Epoch 39, Iteration 1999, loss = 0.0155\n",
      "Checking accuracy on validation set\n",
      "Validation loss is 0.016081419\n",
      "Epoch 40, Iteration 1999, loss = 0.0155\n",
      "Checking accuracy on validation set\n",
      "Validation loss is 0.016065268\n",
      "Epoch 41, Iteration 1999, loss = 0.0154\n",
      "Checking accuracy on validation set\n",
      "Validation loss is 0.016047383\n",
      "Epoch 42, Iteration 1999, loss = 0.0154\n",
      "Checking accuracy on validation set\n",
      "Validation loss is 0.016041514\n",
      "Epoch 43, Iteration 1999, loss = 0.0153\n",
      "Checking accuracy on validation set\n",
      "Validation loss is 0.01601887\n",
      "Epoch 44, Iteration 1999, loss = 0.0153\n",
      "Checking accuracy on validation set\n",
      "Validation loss is 0.0160113\n",
      "Epoch 45, Iteration 1999, loss = 0.0152\n",
      "Checking accuracy on validation set\n",
      "Validation loss is 0.016010923\n",
      "Epoch 46, Iteration 1999, loss = 0.0152\n",
      "Checking accuracy on validation set\n",
      "Validation loss is 0.016006552\n",
      "Epoch 47, Iteration 1999, loss = 0.0151\n",
      "Checking accuracy on validation set\n",
      "Validation loss is 0.016005466\n",
      "Epoch 48, Iteration 1999, loss = 0.0151\n",
      "Checking accuracy on validation set\n",
      "Validation loss is 0.015991928\n",
      "Epoch 49, Iteration 1999, loss = 0.0150\n",
      "Checking accuracy on validation set\n",
      "Validation loss is 0.015978832\n"
     ]
    }
   ],
   "source": [
    "(train_loss,val_loss)=train_model(model, optimizer, scheduler,50)\n"
   ]
  },
  {
   "cell_type": "code",
   "execution_count": 131,
   "metadata": {},
   "outputs": [
    {
     "data": {
      "text/plain": [
       "<All keys matched successfully>"
      ]
     },
     "execution_count": 131,
     "metadata": {},
     "output_type": "execute_result"
    }
   ],
   "source": [
    "model_path= \"./misc/model_newframe2.pth\"\n",
    "torch.save(model.state_dict(),model_path)"
   ]
  },
  {
   "cell_type": "code",
   "execution_count": 15,
   "metadata": {},
   "outputs": [
    {
     "data": {
      "text/plain": [
       "<All keys matched successfully>"
      ]
     },
     "execution_count": 15,
     "metadata": {},
     "output_type": "execute_result"
    }
   ],
   "source": [
    "model_path= \"./misc/model_newframe.pth\"\n",
    "model=UNet()\n",
    "model.load_state_dict(torch.load(model_path))"
   ]
  },
  {
   "cell_type": "code",
   "execution_count": 16,
   "metadata": {},
   "outputs": [],
   "source": [
    "dataset=DAPSDatasetHelper()\n",
    "test_index=18899\n",
    "img_test,_= dataset.get_indxd_file(test_index)\n",
    "img_label,_= dataset.get_indxd_file(test_index,True)\n",
    "img = torch.tensor(img_test)\n",
    "img=img.unsqueeze(0)\n",
    "img=img.unsqueeze(0)\n",
    "img=img.to(dtype=torch.float32)\n",
    "model.eval()\n",
    "with torch.no_grad():\n",
    "    out=model(img)\n",
    "out=out.squeeze(0)\n",
    "out=out.squeeze(0)"
   ]
  },
  {
   "cell_type": "code",
   "execution_count": 17,
   "metadata": {},
   "outputs": [
    {
     "data": {
      "image/png": "[encoded data removed]",
      "text/plain": [
       "<Figure size 432x288 with 3 Axes>"
      ]
     },
     "metadata": {
      "needs_background": "light"
     },
     "output_type": "display_data"
    }
   ],
   "source": [
    "plt.figure()\n",
    "ax1=plt.subplot(1,3,1)\n",
    "ax1.imshow(img_test)\n",
    "ax1.title.set_text(\"input\")\n",
    "ax2=plt.subplot(1,3,2)\n",
    "ax2.imshow(out.cpu().numpy())\n",
    "ax2.title.set_text(\"output\")\n",
    "ax3=plt.subplot(1,3,3)\n",
    "ax3.imshow(img_label)\n",
    "ax3.title.set_text(\"GT\")"
   ]
  },
  {
   "cell_type": "code",
   "execution_count": 107,
   "metadata": {},
   "outputs": [
    {
     "data": {
      "text/plain": [
       "<matplotlib.legend.Legend at 0x7f93b6fd9e20>"
      ]
     },
     "execution_count": 107,
     "metadata": {},
     "output_type": "execute_result"
    },
    {
     "data": {
      "image/png": "[encoded data removed]",
      "text/plain": [
       "<Figure size 432x288 with 1 Axes>"
      ]
     },
     "metadata": {
      "needs_background": "light"
     },
     "output_type": "display_data"
    }
   ],
   "source": [
    "plt.plot(train_loss)\n",
    "plt.plot(val_loss)\n",
    "plt.legend([\"train loss\",\"validation loss\"])"
   ]
  },
  {
   "cell_type": "code",
   "execution_count": 18,
   "metadata": {},
   "outputs": [],
   "source": [
    "class AdaptiveFilters():\n",
    "    def __init__(self,mu,taps):\n",
    "        self.e=0\n",
    "        self.w=np.zeros((taps,1))\n",
    "        self.xd=np.zeros((taps,1))\n",
    "        self.mu=mu\n",
    "        self.N=taps\n",
    "\n",
    "class LMS(AdaptiveFilters):\n",
    "    #initialize\n",
    "    def __init__(self,mu,taps):\n",
    "        super().__init__(mu,taps)\n",
    "\n",
    "    #updates the filter sample by sample and updates weights sample by sample\n",
    "    def run(self,x,d):\n",
    "        N=self.N\n",
    "        #udpate delay line \n",
    "        self.xd[0]=x\n",
    "        y = np.dot(self.w.T,self.xd)\n",
    "        \n",
    "        e = d - y\n",
    "        \n",
    "        Fw=self.mu*np.multiply(self.xd,e)\n",
    "        \n",
    "        Fw=Fw.reshape(Fw.shape[0],-1)\n",
    "        \n",
    "        self.w = self.w + Fw\n",
    "    \n",
    "        y = np.dot(self.w.T,self.xd)\n",
    "        #shift delay line\n",
    "        self.xd[1:N-1]=self.xd[0:N-2]\n",
    "        self.e=e\n",
    "\n",
    "        return (y,e,w)\n",
    "\n",
    "\n",
    "class NLMS(AdaptiveFilters):\n",
    "    #initialize\n",
    "    def __init__(self,mu,taps):\n",
    "        super().__init__(mu,taps)\n",
    "\n",
    "    #updates the filter sample by sample and updates weights sample by sample\n",
    "    def run(self,x,d):\n",
    "        N=self.N\n",
    "        #udpate delay line \n",
    "        self.xd[0]=x\n",
    "        #compute filter output\n",
    "        y = np.dot(self.w.T,self.xd)\n",
    "        #compute input energy\n",
    "        pw=np.linalg.norm(self.xd)\n",
    "        #calculate error\n",
    "        e = d - y\n",
    "        #normalize by input energy\n",
    "        e= e/(pw+0.0000001)\n",
    "        #compute gradients\n",
    "        Fw=self.mu*np.multiply(self.xd,e)\n",
    "        \n",
    "        Fw=Fw.reshape(Fw.shape[0],-1)\n",
    "        #weight update\n",
    "        self.w = self.w + Fw\n",
    "    \n",
    "        #filtered output post update\n",
    "        y = np.dot(self.w.T,self.xd)\n",
    "        #shift delay line\n",
    "        self.xd[1:]=self.xd[:-1]\n",
    "        self.e=e\n",
    "\n",
    "        #return current output sample, current error sample and current weights\n",
    "        return (y,e,self.w)\n"
   ]
  },
  {
   "cell_type": "code",
   "execution_count": 19,
   "metadata": {},
   "outputs": [],
   "source": [
    "desired,sr= librosa.load('../dataset/AEC-Challenge/datasets/synthetic/nearend_mic_signal/nearend_mic_fileid_0.wav',sr=8000)\n",
    "input,sr=librosa.load('../dataset/AEC-Challenge/datasets/synthetic/farend_speech/farend_speech_fileid_0.wav',sr=8000)\n",
    "echo,sr=librosa.load('../dataset/AEC-Challenge/datasets/synthetic/echo_signal/echo_fileid_0.wav',sr=8000)\n",
    "near_end,sr= librosa.load('../dataset/AEC-Challenge/datasets/synthetic/nearend_speech/nearend_speech_fileid_0.wav',sr=8000)"
   ]
  },
  {
   "cell_type": "code",
   "execution_count": 238,
   "metadata": {},
   "outputs": [],
   "source": [
    "input= librosa.tone(2000,sr=8000,length=10000) + 0.5 *librosa.tone(3000,sr=8000,length=10000) +0.3 *librosa.tone(1000,sr=8000,length=10000)"
   ]
  },
  {
   "cell_type": "code",
   "execution_count": 57,
   "metadata": {},
   "outputs": [],
   "source": [
    "#test wrapper for NLMS filter on aec data for single talk case\n",
    "taps=1024\n",
    "block_size=80\n",
    "frame_length=318\n",
    "lmscls= NLMS(0.1,taps)\n",
    "w=np.zeros((taps,1))\n",
    "\n",
    "dirpath='../dataset/AEC-Challenge/datasets/synthetic/'\n",
    "\n",
    "total_duration=10*sr//block_size\n",
    "hop_size=10\n",
    "fft_len=39.75\n",
    "ft= FeatureExtractor(fft_len=fft_len,hop_size=hop_size,sr=8000)\n",
    "fft_mag=np.zeros((frame_length,1))\n",
    "\n",
    "spects=[]\n",
    "outs=[]\n",
    "for i in range(0,total_duration):\n",
    "    input,sr=librosa.load(dirpath+'/farend_speech/farend_speech_fileid_3.wav',sr=8000,duration=hop_size/1000, offset=i*hop_size/1000)\n",
    "    desired,sr=librosa.load(dirpath+'/nearend_mic_signal/nearend_mic_fileid_3.wav',sr=8000,duration=hop_size/1000, offset=i*hop_size/1000)\n",
    "    fft_ip=ft.stft(input)\n",
    "    fft_phase= np.angle(fft_ip)\n",
    "    spec=ft.spectrogram(fft_ip)\n",
    "    spects.append(spec)\n",
    "    img = torch.tensor(abs(spec))\n",
    "    img=img.unsqueeze(0).unsqueeze(0)\n",
    "    img=img.to(dtype=torch.float32)\n",
    "    model.eval()\n",
    "    with torch.no_grad():\n",
    "        out=model(img)\n",
    "    \n",
    "    out=out.squeeze(0).squeeze(0).cpu().numpy()\n",
    "    outs.append(out)\n",
    "    fft_out=out[:,-1]\n",
    "    fft_out=fft_out.reshape(fft_out.shape[0],-1)\n",
    "    fft_mag[:160,:]=fft_out\n",
    "    fft_mag[160:,:]=np.flip(fft_mag[1:159,:],0)\n",
    "    fft_y= np.multiply(fft_mag,np.exp( 1j * fft_phase ))\n",
    "    ifft_ip=ft.istft(fft_y)\n"
   ]
  },
  {
   "cell_type": "code",
   "execution_count": 58,
   "metadata": {},
   "outputs": [
    {
     "data": {
      "text/plain": [
       "<matplotlib.image.AxesImage at 0x7fb757e8faf0>"
      ]
     },
     "execution_count": 58,
     "metadata": {},
     "output_type": "execute_result"
    },
    {
     "data": {
      "image/png": "[encoded data removed]",
      "text/plain": [
       "<Figure size 432x288 with 2 Axes>"
      ]
     },
     "metadata": {
      "needs_background": "light"
     },
     "output_type": "display_data"
    },
    {
     "data": {
      "image/png": "[encoded data removed]",
      "text/plain": [
       "<Figure size 432x288 with 2 Axes>"
      ]
     },
     "metadata": {
      "needs_background": "light"
     },
     "output_type": "display_data"
    }
   ],
   "source": [
    "plt.figure()\n",
    "ax4=plt.subplot(1,2,1)\n",
    "ax4.imshow(spec)\n",
    "ax4=plt.subplot(1,2,2)\n",
    "ax4.imshow(out)\n",
    "plt.figure()\n",
    "ax4=plt.subplot(1,2,1)\n",
    "ax4.imshow(spects[100])\n",
    "ax4=plt.subplot(1,2,2)\n",
    "ax4.imshow(outs[100])"
   ]
  },
  {
   "cell_type": "code",
   "execution_count": null,
   "metadata": {},
   "outputs": [],
   "source": [
    "plt.figure()\n",
    "plt.plot(ifft_ip)\n",
    "plt.figure()\n",
    "plt.plot(input)"
   ]
  }
 ],
 "metadata": {
  "interpreter": {
   "hash": "9f5c7ac77e593d0994949fe61f06040dedc773eb228097f0a804bc0d2d8d2f83"
  },
  "kernelspec": {
   "display_name": "Python 3.9.12 ('aec': conda)",
   "language": "python",
   "name": "python3"
  },
  "language_info": {
   "codemirror_mode": {
    "name": "ipython",
    "version": 3
   },
   "file_extension": ".py",
   "mimetype": "text/x-python",
   "name": "python",
   "nbconvert_exporter": "python",
   "pygments_lexer": "ipython3",
   "version": "3.9.12"
  },
  "orig_nbformat": 4
 },
 "nbformat": 4,
 "nbformat_minor": 2
}
