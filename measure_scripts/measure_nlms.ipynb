{
 "cells": [
  {
   "cell_type": "code",
   "execution_count": 29,
   "metadata": {},
   "outputs": [],
   "source": [
    "import torch\n",
    "from torch.utils.data import Dataset, DataLoader\n",
    "import numpy as np\n",
    "import torch.nn as nn\n",
    "import librosa\n",
    "import librosa.display\n",
    "from torch.utils.data import sampler\n",
    "import torch.optim as optim\n",
    "import json\n",
    "import matplotlib.pyplot as plt\n",
    "import scipy.io.wavfile as wav\n",
    "from torchinfo import summary\n",
    "from tqdm import tqdm\n",
    "import os"
   ]
  },
  {
   "cell_type": "code",
   "execution_count": 30,
   "metadata": {},
   "outputs": [],
   "source": [
    "def getID(filename):\n",
    "    file=filename.split('.')[0]\n",
    "    id=file.split('_')[-1]\n",
    "    return id"
   ]
  },
  {
   "cell_type": "code",
   "execution_count": 31,
   "metadata": {},
   "outputs": [],
   "source": [
    "def measure_ERLE_old(out,nend):\n",
    "    nfft_len=1023\n",
    "    stft_out=librosa.stft(out,n_fft=nfft_len, hop_length=nfft_len//4,center=True) \n",
    "    stft_nend=librosa.stft(nend,n_fft=nfft_len, hop_length=nfft_len//4,center=True)\n",
    "    (m,n)=stft_out.shape\n",
    "    for i in range(0,n):\n",
    "        E=stft_out[:,i]*stft_out[:,i]\n",
    "        D=stft_nend[:,i]*stft_nend[:,i]\n",
    "\n",
    "    return \n",
    "\n",
    "\n",
    "def measure_ERLE(out,mic):\n",
    "    m=np.linalg.norm(mic)\n",
    "    e=np.linalg.norm(out)\n",
    "    erle=20*np.log10(m/e)\n",
    "    return erle\n",
    "\n",
    "def measure_SDR(out,nend):\n",
    "    shat=out-nend\n",
    "    s=np.linalg.norm(nend)\n",
    "    e=np.linalg.norm(shat)\n",
    "    erle=20*np.log10(s/e)\n",
    "    return erle"
   ]
  },
  {
   "cell_type": "code",
   "execution_count": 32,
   "metadata": {},
   "outputs": [
    {
     "name": "stderr",
     "output_type": "stream",
     "text": [
      "1it [00:00, 26.40it/s]"
     ]
    },
    {
     "name": "stdout",
     "output_type": "stream",
     "text": [
      "Mean ERLE: 18.97610056400299\n",
      "Max ERLE: 35.22974252700806\n"
     ]
    },
    {
     "name": "stderr",
     "output_type": "stream",
     "text": [
      "\n"
     ]
    }
   ],
   "source": [
    "dataset_path=\"../measure_erle_nlms/\"\n",
    "mean_erle=[]\n",
    "id_list=[]\n",
    "for i , (dirpath, dirname, filename) in tqdm(enumerate(os.walk(dataset_path))):\n",
    "    substr=\"echo_cancelled\"\n",
    "    for file in filename:\n",
    "        filepath = os.path.join( dirpath, file)\n",
    "        if ( (filepath.endswith('.wav')) and (substr in filepath)):\n",
    "            id=getID(file)\n",
    "            id_list.append(id)\n",
    "            out,_=librosa.load(dataset_path+\"echo_cancelled_fileid_\"+ id +\".wav\",sr=8000)\n",
    "            mic,_=librosa.load(dataset_path+\"mic_fileid_\"+id+\".wav\", sr=8000)\n",
    "            nend,_=librosa.load(dataset_path+\"nend_fileid_\"+id+\".wav\", sr=8000)\n",
    "            echo,_=librosa.load(dataset_path+\"echo_fileid_\"+id+\".wav\", sr=8000)\n",
    "            m=len(out)\n",
    "            mic=mic[:m]\n",
    "            nend=nend[:m]\n",
    "            echo=echo[:m]\n",
    "            erle=measure_ERLE(out,echo)\n",
    "            mean_erle.append(erle)         \n",
    "erle=np.mean(mean_erle)\n",
    "maxerle=np.max(mean_erle)\n",
    "print(\"Mean ERLE:\",erle)\n",
    "print(\"Max ERLE:\",maxerle)"
   ]
  },
  {
   "cell_type": "code",
   "execution_count": 33,
   "metadata": {},
   "outputs": [
    {
     "data": {
      "text/plain": [
       "Text(0.5, 1.0, 'LSTM AEC ERLE')"
      ]
     },
     "execution_count": 33,
     "metadata": {},
     "output_type": "execute_result"
    },
    {
     "data": {
      "image/png": "[encoded data removed]",
      "text/plain": [
       "<Figure size 432x288 with 1 Axes>"
      ]
     },
     "metadata": {
      "needs_background": "light"
     },
     "output_type": "display_data"
    }
   ],
   "source": [
    "id=str(id_list[np.argmax(mean_erle)])\n",
    "out,_=librosa.load(dataset_path+\"echo_cancelled_fileid_\"+ id +\".wav\",sr=8000)\n",
    "mic,_=librosa.load(dataset_path+\"mic_fileid_\"+id+\".wav\", sr=8000)\n",
    "nend,_=librosa.load(dataset_path+\"nend_fileid_\"+id+\".wav\", sr=8000)\n",
    "echo,_=librosa.load(dataset_path+\"echo_fileid_\"+id+\".wav\", sr=8000)\n",
    "m=len(out)\n",
    "mic=mic[:m]\n",
    "nend=nend[:m]\n",
    "echo=echo[:m]\n",
    "plt.figure()\n",
    "plt.plot(echo)\n",
    "plt.plot(out)\n",
    "plt.legend([\"Actual echo\",\"Residual echo\"])\n",
    "title=\"LSTM AEC ERLE\"\n",
    "plt.title(title)\n",
    "#plt.savefig(\"../report_figs/\"+title+\".png\")"
   ]
  },
  {
   "cell_type": "code",
   "execution_count": 34,
   "metadata": {},
   "outputs": [
    {
     "name": "stderr",
     "output_type": "stream",
     "text": [
      "1it [00:00, 22.25it/s]"
     ]
    },
    {
     "name": "stdout",
     "output_type": "stream",
     "text": [
      "Mean SDR: 1.7447092536152626\n",
      "Max SDR: 10.906314849853516\n"
     ]
    },
    {
     "name": "stderr",
     "output_type": "stream",
     "text": [
      "\n"
     ]
    }
   ],
   "source": [
    "dataset_path=\"../measure_sdr_nlms/\"\n",
    "mean_erle=[]\n",
    "id_list=[]\n",
    "for i , (dirpath, dirname, filename) in tqdm(enumerate(os.walk(dataset_path))):\n",
    "    substr=\"echo_cancelled\"\n",
    "    for file in filename:\n",
    "        filepath = os.path.join( dirpath, file)\n",
    "        if ( (filepath.endswith('.wav')) and (substr in filepath)):\n",
    "            id=getID(file)\n",
    "            id_list.append(id)\n",
    "            out,_=librosa.load(dataset_path+\"echo_cancelled_fileid_\"+ id +\".wav\",sr=8000)\n",
    "            mic,_=librosa.load(dataset_path+\"mic_fileid_\"+id+\".wav\", sr=8000)\n",
    "            nend,_=librosa.load(dataset_path+\"nend_fileid_\"+id+\".wav\", sr=8000)\n",
    "            echo,_=librosa.load(dataset_path+\"echo_fileid_\"+id+\".wav\", sr=8000)\n",
    "            m=len(out)\n",
    "            mic=mic[:m]\n",
    "            nend=nend[:m]\n",
    "            echo=echo[:m]\n",
    "            erle=measure_SDR(out,nend)\n",
    "            mean_erle.append(erle)         \n",
    "sdr=np.mean(mean_erle)\n",
    "maxsdr=np.max(mean_erle)\n",
    "print(\"Mean SDR:\",sdr)\n",
    "print(\"Max SDR:\",maxsdr)\n"
   ]
  },
  {
   "cell_type": "code",
   "execution_count": 28,
   "metadata": {},
   "outputs": [
    {
     "data": {
      "text/plain": [
       "Text(0.5, 1.0, 'LSTM AEC SDR')"
      ]
     },
     "execution_count": 28,
     "metadata": {},
     "output_type": "execute_result"
    },
    {
     "data": {
      "image/png": "[encoded data removed]",
      "text/plain": [
       "<Figure size 432x288 with 1 Axes>"
      ]
     },
     "metadata": {
      "needs_background": "light"
     },
     "output_type": "display_data"
    }
   ],
   "source": [
    "id=str(id_list[np.argmax(mean_erle)])\n",
    "out,_=librosa.load(dataset_path+\"echo_cancelled_fileid_\"+ id +\".wav\",sr=8000)\n",
    "mic,_=librosa.load(dataset_path+\"mic_fileid_\"+id+\".wav\", sr=8000)\n",
    "nend,_=librosa.load(dataset_path+\"nend_fileid_\"+id+\".wav\", sr=8000)\n",
    "echo,_=librosa.load(dataset_path+\"echo_fileid_\"+id+\".wav\", sr=8000)\n",
    "m=len(out)\n",
    "mic=mic[:m]\n",
    "nend=nend[:m]\n",
    "echo=echo[:m]\n",
    "plt.figure()\n",
    "plt.plot(nend)\n",
    "plt.plot(out)\n",
    "plt.legend([\"Near end\",\"Estimated Near end\"])\n",
    "title=\"LSTM AEC SDR\"\n",
    "plt.title(title)\n",
    "#plt.savefig(\"../report_figs/\"+title+\".png\")"
   ]
  },
  {
   "cell_type": "code",
   "execution_count": null,
   "metadata": {},
   "outputs": [],
   "source": []
  }
 ],
 "metadata": {
  "interpreter": {
   "hash": "9f5c7ac77e593d0994949fe61f06040dedc773eb228097f0a804bc0d2d8d2f83"
  },
  "kernelspec": {
   "display_name": "Python 3.9.12 ('aec': conda)",
   "language": "python",
   "name": "python3"
  },
  "language_info": {
   "codemirror_mode": {
    "name": "ipython",
    "version": 3
   },
   "file_extension": ".py",
   "mimetype": "text/x-python",
   "name": "python",
   "nbconvert_exporter": "python",
   "pygments_lexer": "ipython3",
   "version": "3.9.12"
  },
  "orig_nbformat": 4
 },
 "nbformat": 4,
 "nbformat_minor": 2
}
